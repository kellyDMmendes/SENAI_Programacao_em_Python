{
  "nbformat": 4,
  "nbformat_minor": 0,
  "metadata": {
    "colab": {
      "provenance": [],
      "authorship_tag": "ABX9TyMHnZQJSOeou2s+MrNda4og",
      "include_colab_link": true
    },
    "kernelspec": {
      "name": "python3",
      "display_name": "Python 3"
    },
    "language_info": {
      "name": "python"
    }
  },
  "cells": [
    {
      "cell_type": "markdown",
      "metadata": {
        "id": "view-in-github",
        "colab_type": "text"
      },
      "source": [
        "<a href=\"https://colab.research.google.com/github/kellyDMmendes/SENAI-programacao-em-python/blob/main/01_Introducao.ipynb\" target=\"_parent\"><img src=\"https://colab.research.google.com/assets/colab-badge.svg\" alt=\"Open In Colab\"/></a>"
      ]
    },
    {
      "cell_type": "code",
      "execution_count": null,
      "metadata": {
        "colab": {
          "base_uri": "https://localhost:8080/"
        },
        "id": "cHjkb60rsrFI",
        "outputId": "af70acdc-38fd-41aa-b24c-38137e7cb2b4"
      },
      "outputs": [
        {
          "output_type": "stream",
          "name": "stdout",
          "text": [
            "Olá, mundo!\n"
          ]
        }
      ],
      "source": [
        "print('Olá, mundo!')"
      ]
    },
    {
      "cell_type": "code",
      "source": [
        "print('Kelly Daiane Miranda Mendes')"
      ],
      "metadata": {
        "colab": {
          "base_uri": "https://localhost:8080/"
        },
        "id": "WLreoxVkwy49",
        "outputId": "209dafcc-f2cf-4a29-e470-34898d183105"
      },
      "execution_count": null,
      "outputs": [
        {
          "output_type": "stream",
          "name": "stdout",
          "text": [
            "Kelly Daiane Miranda Mendes\n"
          ]
        }
      ]
    },
    {
      "cell_type": "markdown",
      "source": [
        "# ***Algorítmo para montar um lanche***\n",
        "\n",
        "**Passo 1:** certifique-se de ter:\n",
        "- pão de forma;\n",
        "- alface lavada;\n",
        "- tomate lavado e fatiado;\n",
        "- presunto fatiado;\n",
        "- queijo fatiado.\n",
        "\n",
        "**Passo 2:** coloque uma fatia de pão;\n",
        "\n",
        "**Passo 3:** coloque os demais ingredientes, exceto o pão, na ordem e quantidade desejados;\n",
        "\n",
        "**Passo 4:** coloque outra fatia de pão.\n",
        "\n",
        "***Está pronto o seu lanche!***"
      ],
      "metadata": {
        "id": "-q4NiMggxWJY"
      }
    },
    {
      "cell_type": "markdown",
      "source": [
        "# ***Abstração lógica de uma cafeteira***\n",
        "\n",
        "* **Botão liga / desliga:** controla o funcionameto da cafeteira;\n",
        "* **Reservatório de água:** onde é colocada a água;\n",
        "* **Suporte do filtro:** onde é colocado o pó de café;\n",
        "* **Jarra:** onde vai estar o café pronto."
      ],
      "metadata": {
        "id": "PNKqOS9FTnUB"
      }
    },
    {
      "cell_type": "markdown",
      "source": [
        "Lógica de programação | Barril\n",
        "\n",
        "    A B C\n",
        "    0 5 3\n",
        "    v-^\n",
        "    5 0 3\n",
        "      v-^\n",
        "    5 3 0\n",
        "    ^---v\n",
        "    2 3 3\n",
        "      v-^\n",
        "    2 5 1\n",
        "    v-^\n",
        "    7 0 1\n",
        "      v-^\n",
        "    7 1 0\n",
        "    ^---v\n",
        "    4 1 3\n",
        "      v-^\n",
        "    4 4 0\n",
        "\n",
        "\n"
      ],
      "metadata": {
        "id": "ujWGvyA2Z13_"
      }
    },
    {
      "cell_type": "code",
      "source": [
        "# Troca de Valores das Variáveis A e B\n",
        "\n",
        "a = 5\n",
        "b = 2\n",
        "c = 0\n",
        "\n",
        "c = a\n",
        "a = b\n",
        "b = c\n",
        "\n",
        "print(a)\n",
        "print(b)"
      ],
      "metadata": {
        "colab": {
          "base_uri": "https://localhost:8080/"
        },
        "id": "DSF5kCY7e14_",
        "outputId": "dc324438-944d-4dd2-9c85-f14290dd7b3a"
      },
      "execution_count": null,
      "outputs": [
        {
          "output_type": "stream",
          "name": "stdout",
          "text": [
            "2\n",
            "5\n"
          ]
        }
      ]
    },
    {
      "cell_type": "code",
      "source": [
        "# Troca de Valores das Variáveis A e B v2\n",
        "\n",
        "a = 5\n",
        "b = 2\n",
        "\n",
        "a, b = b, a\n",
        "\n",
        "print(a)\n",
        "print(b)"
      ],
      "metadata": {
        "colab": {
          "base_uri": "https://localhost:8080/"
        },
        "id": "PKZVFzNni6m7",
        "outputId": "0798724e-9ae4-4587-afd8-1488482ce9c2"
      },
      "execution_count": null,
      "outputs": [
        {
          "output_type": "stream",
          "name": "stdout",
          "text": [
            "2\n",
            "5\n"
          ]
        }
      ]
    },
    {
      "cell_type": "code",
      "source": [
        "# Exemplo IF\n",
        "\n",
        "nota = 7\n",
        "frequencia = 72\n",
        "\n",
        "if nota > 6 and frequencia >= 75:\n",
        "    print('Aprovado!')\n",
        "else:\n",
        "    print('Reprovado!')"
      ],
      "metadata": {
        "colab": {
          "base_uri": "https://localhost:8080/"
        },
        "id": "5TjqnhzMqCGN",
        "outputId": "e3d554c3-8652-4deb-827e-ea71c635c335"
      },
      "execution_count": null,
      "outputs": [
        {
          "output_type": "stream",
          "name": "stdout",
          "text": [
            "Reprovado!\n"
          ]
        }
      ]
    },
    {
      "cell_type": "code",
      "source": [
        "# Exemplo IF 02\n",
        "\n",
        "idade = 25\n",
        "\n",
        "if idade >= 18:\n",
        "    print('Pode votar!')\n",
        "else:\n",
        "    print('Não pode votar!')"
      ],
      "metadata": {
        "colab": {
          "base_uri": "https://localhost:8080/"
        },
        "id": "CJfGgERtrcEr",
        "outputId": "1c166854-afd9-443e-fe8f-92c4ad1b05c0"
      },
      "execution_count": null,
      "outputs": [
        {
          "output_type": "stream",
          "name": "stdout",
          "text": [
            "Pode votar!\n"
          ]
        }
      ]
    },
    {
      "cell_type": "code",
      "source": [
        "# Operadores Aritméticos\n",
        "\n",
        "a = 10\n",
        "b = 3\n",
        "\n",
        "print(a + b)        # 13     (adição)\n",
        "print(a - b)        # 7      (subtração)\n",
        "print(a * b)        # 30     (multiplicação)\n",
        "print(a / b)        # 3.3333 (divisão)\n",
        "print(a // b)       # 3      (divisão inteira)\n",
        "print(a % b)        # 1      (módulo / resto divisão)\n",
        "print(a ** b)       # 1000   (potência)\n",
        "print(a ** (1 / b)) # 2.14   (raiz)"
      ],
      "metadata": {
        "colab": {
          "base_uri": "https://localhost:8080/"
        },
        "id": "kaqhIhTC4rbe",
        "outputId": "e8680883-8437-490b-8f7e-708eb8e1acd2"
      },
      "execution_count": null,
      "outputs": [
        {
          "output_type": "stream",
          "name": "stdout",
          "text": [
            "13\n",
            "7\n",
            "30\n",
            "3.3333333333333335\n",
            "3\n",
            "1\n",
            "1000\n",
            "2.154434690031884\n"
          ]
        }
      ]
    },
    {
      "cell_type": "code",
      "source": [
        "# Operadores Relacionais\n",
        "\n",
        "a = 10\n",
        "b = 3\n",
        "\n",
        "print(a == b) # False (igual)\n",
        "print(a != b) # True  (diferente)\n",
        "print(a > b)  # True  (maior)\n",
        "print(a < b)  # False (menor)\n",
        "print(a >= b) # True  (maior ou igual)\n",
        "print(a <= b) # False (menor ou igual)"
      ],
      "metadata": {
        "colab": {
          "base_uri": "https://localhost:8080/"
        },
        "id": "wUiw9yM-9Ymg",
        "outputId": "e23eb753-b84c-4917-a182-7319902d0804"
      },
      "execution_count": null,
      "outputs": [
        {
          "output_type": "stream",
          "name": "stdout",
          "text": [
            "False\n",
            "True\n",
            "True\n",
            "False\n",
            "True\n",
            "False\n"
          ]
        }
      ]
    },
    {
      "cell_type": "code",
      "source": [
        "# Operadores Lógicos\n",
        "\n",
        "a = False\n",
        "b = True\n",
        "\n",
        "print(a and b) # False (e)\n",
        "print(a or b)  # True  (ou)\n",
        "print(not b)   # False (negação)"
      ],
      "metadata": {
        "colab": {
          "base_uri": "https://localhost:8080/"
        },
        "id": "mpjNxnJNnTHc",
        "outputId": "fcd04e58-5067-4e27-d026-70f0915e5cc9"
      },
      "execution_count": null,
      "outputs": [
        {
          "output_type": "stream",
          "name": "stdout",
          "text": [
            "False\n",
            "True\n",
            "False\n"
          ]
        }
      ]
    },
    {
      "cell_type": "code",
      "source": [
        "# Operadores de Atribuição\n",
        "\n",
        "a = 10\n",
        "a += 2   # a = a + 2\n",
        "print(a) # 12\n",
        "\n",
        "a = 10\n",
        "a -= 2   # a = a - 2\n",
        "print(a) # 8\n",
        "\n",
        "a = 10\n",
        "a *= 2   # a = a * 2\n",
        "print(a) # 20\n",
        "\n",
        "a = 10\n",
        "a /= 2   # a = a / 2\n",
        "print(a) # 5.0\n",
        "\n",
        "a = 10\n",
        "a //= 2  # a = a // 2\n",
        "print(a) # 5\n",
        "\n",
        "a = 10\n",
        "a %= 2   # a = a % 2\n",
        "print(a) # 0\n",
        "\n",
        "a = 10\n",
        "a **= 2  # a = a ** 2\n",
        "print(a) # 100"
      ],
      "metadata": {
        "colab": {
          "base_uri": "https://localhost:8080/"
        },
        "id": "o6IXHJhy_cl_",
        "outputId": "22e7e68c-1bfb-4a62-ddb4-1a137b02561c"
      },
      "execution_count": null,
      "outputs": [
        {
          "output_type": "stream",
          "name": "stdout",
          "text": [
            "12\n",
            "8\n",
            "20\n",
            "5.0\n",
            "5\n",
            "0\n",
            "100\n"
          ]
        }
      ]
    },
    {
      "cell_type": "code",
      "source": [
        "# Expressões\n",
        "\n",
        "\"\"\"\n",
        "1) Parênteses\n",
        "2) Potência e Raiz\n",
        "3) Multiplicação e Divisão\n",
        "4) Adição e Subtração\n",
        "\"\"\"\n",
        "\n",
        "print((2 + 2) * 5 ** 2)\n",
        "print(((2 + 2) * 5) ** 2)"
      ],
      "metadata": {
        "colab": {
          "base_uri": "https://localhost:8080/"
        },
        "id": "-SqCNWkXDxXg",
        "outputId": "4749513f-6273-488b-c9c7-06293f2d6f2e"
      },
      "execution_count": null,
      "outputs": [
        {
          "output_type": "stream",
          "name": "stdout",
          "text": [
            "100\n",
            "400\n"
          ]
        }
      ]
    }
  ]
}
