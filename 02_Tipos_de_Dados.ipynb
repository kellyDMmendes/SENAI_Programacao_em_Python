{
  "nbformat": 4,
  "nbformat_minor": 0,
  "metadata": {
    "colab": {
      "provenance": [],
      "authorship_tag": "ABX9TyMzztTnayh8b+PeCxnz/OWn",
      "include_colab_link": true
    },
    "kernelspec": {
      "name": "python3",
      "display_name": "Python 3"
    },
    "language_info": {
      "name": "python"
    }
  },
  "cells": [
    {
      "cell_type": "markdown",
      "metadata": {
        "id": "view-in-github",
        "colab_type": "text"
      },
      "source": [
        "<a href=\"https://colab.research.google.com/github/kellyDMmendes/SENAI_Programacao_em_Python/blob/main/02_Tipos_de_Dados.ipynb\" target=\"_parent\"><img src=\"https://colab.research.google.com/assets/colab-badge.svg\" alt=\"Open In Colab\"/></a>"
      ]
    },
    {
      "cell_type": "markdown",
      "source": [
        "# **Tipos de Dados**\n",
        "\n"
      ],
      "metadata": {
        "id": "rAlKY2JAdkDY"
      }
    },
    {
      "cell_type": "code",
      "execution_count": null,
      "metadata": {
        "colab": {
          "base_uri": "https://localhost:8080/"
        },
        "id": "A8-5DjATcTbE",
        "outputId": "4b6c526e-9d1e-4de8-ae85-39e11a1ec8a0"
      },
      "outputs": [
        {
          "output_type": "stream",
          "name": "stdout",
          "text": [
            "<class 'int'>\n",
            "<class 'int'>\n",
            "<class 'float'>\n",
            "<class 'float'>\n"
          ]
        }
      ],
      "source": [
        "# Tipos Numéricos (int, float)\n",
        "\n",
        "x = 10     # Inteiro\n",
        "y = -1     # Inteiro Negativo\n",
        "z = -5.29  # Decimal Negativo\n",
        "pi = 3.14  # Decimal\n",
        "\n",
        "print(type(x))\n",
        "print(type(y))\n",
        "print(type(z))\n",
        "print(type(pi))"
      ]
    },
    {
      "cell_type": "code",
      "source": [
        "# Tipo Caracter | String (str)\n",
        "\n",
        "nome = 'Kelly'\n",
        "escola = \"SENAI Ary Torres\"\n",
        "\n",
        "print(nome)\n",
        "print(escola)\n",
        "print()\n",
        "print(type(nome))\n",
        "print('\\n', escola)  # Tabela ANSI\n",
        "print('\\n', escola[2])"
      ],
      "metadata": {
        "colab": {
          "base_uri": "https://localhost:8080/"
        },
        "id": "yc0Fuerrgjf4",
        "outputId": "e9099e18-c336-4d36-90ad-5638bcfe7443"
      },
      "execution_count": null,
      "outputs": [
        {
          "output_type": "stream",
          "name": "stdout",
          "text": [
            "Kelly\n",
            "SENAI Ary Torres\n",
            "\n",
            "<class 'str'>\n",
            "\n",
            " SENAI Ary Torres\n",
            "\n",
            " N\n"
          ]
        }
      ]
    },
    {
      "cell_type": "code",
      "source": [
        "# Tipos Lógicos (bool)\n",
        "\n",
        "continuar = True\n",
        "parar = False\n",
        "casado = True\n",
        "\n",
        "print(continuar)\n",
        "print(parar)\n",
        "print(type(casado))"
      ],
      "metadata": {
        "colab": {
          "base_uri": "https://localhost:8080/"
        },
        "id": "1m4oqYH2jBnY",
        "outputId": "53b38555-845a-4709-bfbe-a81596c47f13"
      },
      "execution_count": null,
      "outputs": [
        {
          "output_type": "stream",
          "name": "stdout",
          "text": [
            "True\n",
            "False\n",
            "<class 'bool'>\n"
          ]
        }
      ]
    },
    {
      "cell_type": "code",
      "source": [
        "# Declaração de Variáveis\n",
        "\n",
        "texto = '2'\n",
        "texto1 = str(2)\n",
        "numero = 3\n",
        "numero1 = int(3)\n",
        "decimal = float(3)\n",
        "logico = bool(False)\n",
        "\n",
        "print(texto)\n",
        "print(texto1)\n",
        "print(numero)\n",
        "print(numero1)\n",
        "print(decimal)\n",
        "print(logico)"
      ],
      "metadata": {
        "colab": {
          "base_uri": "https://localhost:8080/"
        },
        "id": "s5US4c8pnHmp",
        "outputId": "45861aa1-23d5-43fa-a969-e986a2dbdc53"
      },
      "execution_count": null,
      "outputs": [
        {
          "output_type": "stream",
          "name": "stdout",
          "text": [
            "2\n",
            "2\n",
            "3\n",
            "3\n",
            "3.0\n",
            "False\n"
          ]
        }
      ]
    },
    {
      "cell_type": "code",
      "source": [
        "# Entrada de Dados\n",
        "\n",
        "numero_inteiro = int(input(\"Digite um número inteiro: \"))\n",
        "print(numero_inteiro)\n",
        "\n",
        "numero_decimal = float(input(\"\\nDigite um número decimal: \"))  # Separador de decimal: \".\"\n",
        "print(numero_decimal)\n",
        "\n",
        "valor_logico = bool(input(\"\\nDigite algo: \"))\n",
        "print(valor_logico)\n",
        "\n",
        "texto = input(\"\\nDigite um valor alfanumérico: \")\n",
        "print(texto)"
      ],
      "metadata": {
        "colab": {
          "base_uri": "https://localhost:8080/"
        },
        "id": "MWKZpkL3qXUK",
        "outputId": "acf84052-a63e-4738-bd0d-4b6278247afc"
      },
      "execution_count": null,
      "outputs": [
        {
          "output_type": "stream",
          "name": "stdout",
          "text": [
            "Digite um número inteiro: 16\n",
            "16\n",
            "\n",
            "Digite um número decimal: 3.14\n",
            "3.14\n",
            "\n",
            "Digite algo: algo\n",
            "True\n",
            "\n",
            "Digite um valor alfanumérico: K\n",
            "K\n"
          ]
        }
      ]
    },
    {
      "cell_type": "code",
      "source": [
        "# Identificar Tipo Primitivo\n",
        "\n",
        "print(type(numero_inteiro))\n",
        "print(type(numero_decimal))\n",
        "print(type(valor_logico))\n",
        "print(type(texto))"
      ],
      "metadata": {
        "colab": {
          "base_uri": "https://localhost:8080/"
        },
        "id": "DQ4M-wEYusbK",
        "outputId": "343f6558-b1cd-4160-fbff-199d65fdf130"
      },
      "execution_count": null,
      "outputs": [
        {
          "output_type": "stream",
          "name": "stdout",
          "text": [
            "<class 'int'>\n",
            "<class 'float'>\n",
            "<class 'bool'>\n",
            "<class 'str'>\n"
          ]
        }
      ]
    },
    {
      "cell_type": "code",
      "source": [
        "# Análise de Strings\n",
        "\n",
        "n = '5t'\n",
        "\n",
        "print(n.isnumeric())    # Numérico\n",
        "print(n.isalpha())      # Alfabético\n",
        "print(n.isalnum())      # Alfanumérico\n",
        "print(n.isupper())      # Maiúsculo\n",
        "print(n.islower())      # Minúculo\n",
        "print(n.istitle())      # Primeiro Maiúsculo\n",
        "print(n.isdecimal())    # Numérico\n",
        "print(n.isspace())      # Espaço"
      ],
      "metadata": {
        "colab": {
          "base_uri": "https://localhost:8080/"
        },
        "id": "CqKA7Wucv6aJ",
        "outputId": "9bac5edd-0670-4d4b-e93a-367dd0eb3aeb"
      },
      "execution_count": null,
      "outputs": [
        {
          "output_type": "stream",
          "name": "stdout",
          "text": [
            "False\n",
            "False\n",
            "True\n",
            "False\n",
            "True\n",
            "False\n",
            "False\n",
            "False\n"
          ]
        }
      ]
    },
    {
      "cell_type": "code",
      "source": [
        "# Exemplo: Análise de Strings\n",
        "\n",
        "num = input(\"Digite um número: \")\n",
        "\n",
        "if num.isnumeric():\n",
        "    num = int(num)\n",
        "else:\n",
        "    print(\"Não é número...\")\n",
        "\n",
        "print(type(num))"
      ],
      "metadata": {
        "colab": {
          "base_uri": "https://localhost:8080/"
        },
        "id": "9zvp5JIeyd96",
        "outputId": "4d41f057-e31a-48a7-d46f-b7eb9454748d"
      },
      "execution_count": null,
      "outputs": [
        {
          "output_type": "stream",
          "name": "stdout",
          "text": [
            "Digite um número: 16\n",
            "<class 'int'>\n"
          ]
        }
      ]
    },
    {
      "cell_type": "code",
      "source": [
        "# Constantes\n",
        "\n",
        "PI = 3.1415\n",
        "GRAVIDADE = 9.81\n",
        "\n",
        "print(\"Valor de PI: \", PI)\n",
        "print(\"Valor da gravidade: \", GRAVIDADE)"
      ],
      "metadata": {
        "colab": {
          "base_uri": "https://localhost:8080/"
        },
        "id": "BY_tYt0Dz_pb",
        "outputId": "a5e99407-fdaf-4fbd-f8f4-839055ee5cc9"
      },
      "execution_count": null,
      "outputs": [
        {
          "output_type": "stream",
          "name": "stdout",
          "text": [
            "Valor de PI:  3.1415\n",
            "Valor da gravidade:  9.81\n"
          ]
        }
      ]
    },
    {
      "cell_type": "code",
      "source": [
        "# Cores\n",
        "\"\"\"\n",
        "\\033[ESTILO;FONTE;FUNDOm TEXTO \\033[0m\n",
        "\n",
        "\\033[m \\033[0m\n",
        "\n",
        "Estilos: 0 nenhum | 1 negrito | 2 itálico | 4 sublinhado\n",
        "\"\"\"\n",
        "\n",
        "print(\"\\033[1;33;45m Texto \\033[0m\")\n",
        "\n",
        "print(\"\\033[30m Cinza\")\n",
        "print(\"\\033[31m Vermelho\")\n",
        "print(\"\\033[32m Verde\")\n",
        "print(\"\\033[33m Amarelo\")\n",
        "print(\"\\033[34m Ciano\")\n",
        "print(\"\\033[35m Magenta\")\n",
        "print(\"\\033[36m Azul\")\n",
        "print(\"\\033[37m Branco\")"
      ],
      "metadata": {
        "colab": {
          "base_uri": "https://localhost:8080/"
        },
        "id": "HvjESf_00_-G",
        "outputId": "fc8c0aca-6710-40d2-e878-a42ea0cbfc19"
      },
      "execution_count": null,
      "outputs": [
        {
          "output_type": "stream",
          "name": "stdout",
          "text": [
            "\u001b[1;33;45m Texto \u001b[0m\n",
            "\u001b[30m Cinza\n",
            "\u001b[31m Vermelho\n",
            "\u001b[32m Verde\n",
            "\u001b[33m Amarelo\n",
            "\u001b[34m Ciano\n",
            "\u001b[35m Magenta\n",
            "\u001b[36m Azul\n",
            "\u001b[37m Branco\n"
          ]
        }
      ]
    },
    {
      "cell_type": "code",
      "source": [
        "# Colunas com Preenchimento e Alinhamento\n",
        "\n",
        "print(\"Centralizado\".center(30, '.'))\n",
        "print(\"Direita\".rjust(30, '.'))\n",
        "print(\"Esquerda\".ljust(30, '.'))"
      ],
      "metadata": {
        "colab": {
          "base_uri": "https://localhost:8080/"
        },
        "id": "Larp2pJo-WXs",
        "outputId": "2bc262d3-99c4-479d-9f57-9243771cfe9f"
      },
      "execution_count": null,
      "outputs": [
        {
          "output_type": "stream",
          "name": "stdout",
          "text": [
            ".........Centralizado.........\n",
            ".......................Direita\n",
            "Esquerda......................\n"
          ]
        }
      ]
    },
    {
      "cell_type": "code",
      "source": [
        "# Alinhamento para F-Strings\n",
        "\n",
        "print(f\"-----------------------------------------------\")\n",
        "print(f\"| {'Unidade':>20} | {'5':^20} |\")\n",
        "print(f\"| {'Unidade':^20} | {'5':^20} |\")\n",
        "print(f\"| {'Unidade':<20} | {'5':^20} |\")\n",
        "print(f\"-----------------------------------------------\")"
      ],
      "metadata": {
        "colab": {
          "base_uri": "https://localhost:8080/"
        },
        "id": "bDfh2UKi_QI7",
        "outputId": "b9d36ffe-4985-4591-c490-522657bd722d"
      },
      "execution_count": null,
      "outputs": [
        {
          "output_type": "stream",
          "name": "stdout",
          "text": [
            "-----------------------------------------------\n",
            "|              Unidade |          5           |\n",
            "|       Unidade        |          5           |\n",
            "| Unidade              |          5           |\n",
            "-----------------------------------------------\n"
          ]
        }
      ]
    },
    {
      "cell_type": "code",
      "source": [
        "# Multiplicação de Strings\n",
        "\n",
        "sus = '#'\n",
        "ast = '*'\n",
        "\n",
        "print(sus*2, ast*10, sus*2)\n",
        "print('='*16)"
      ],
      "metadata": {
        "colab": {
          "base_uri": "https://localhost:8080/"
        },
        "id": "FMegd1ZDAiIL",
        "outputId": "3badca1f-d47e-4824-8a27-7389e50acf86"
      },
      "execution_count": null,
      "outputs": [
        {
          "output_type": "stream",
          "name": "stdout",
          "text": [
            "## ********** ##\n",
            "================\n"
          ]
        }
      ]
    },
    {
      "cell_type": "markdown",
      "source": [
        "# **Desafios**"
      ],
      "metadata": {
        "id": "nzEPSKhcBjwM"
      }
    },
    {
      "cell_type": "code",
      "source": [
        "# Desafio 01\n",
        "\"\"\"\n",
        "Crie um programa para efetuar a leitura de um número inteiro e apresentar o\n",
        "resultado do quadrado desse número\n",
        "\"\"\"\n",
        "\n",
        "num = int(input(\"Digite um número inteiro: \"))\n",
        "print(\"\\nNo.\", num, \"ao quadrado:\", num**2)"
      ],
      "metadata": {
        "colab": {
          "base_uri": "https://localhost:8080/"
        },
        "id": "L9_s9BoBB70b",
        "outputId": "b98e3d7c-6a52-4f0c-d83a-3fd2c2fca382"
      },
      "execution_count": null,
      "outputs": [
        {
          "output_type": "stream",
          "name": "stdout",
          "text": [
            "Digite um número inteiro: 10\n",
            "\n",
            "No. 10 ao quadrado: 100\n"
          ]
        }
      ]
    },
    {
      "cell_type": "code",
      "source": [
        "# Desafio 01\n",
        "# Professor v1\n",
        "\n",
        "num = int(input(\"Digite um número inteiro: \"))\n",
        "quad = num**2\n",
        "print(quad)"
      ],
      "metadata": {
        "colab": {
          "base_uri": "https://localhost:8080/"
        },
        "id": "59fHZ_xfJePt",
        "outputId": "f3b67c7b-2fef-4ca6-9c42-e5251c40c2cb"
      },
      "execution_count": null,
      "outputs": [
        {
          "output_type": "stream",
          "name": "stdout",
          "text": [
            "Digite um número inteiro: 10\n",
            "100\n"
          ]
        }
      ]
    },
    {
      "cell_type": "code",
      "source": [
        "# Desafio 01\n",
        "# Professor v2\n",
        "\n",
        "num = int(input(\"Digite um número inteiro: \"))\n",
        "print(num**2)"
      ],
      "metadata": {
        "colab": {
          "base_uri": "https://localhost:8080/"
        },
        "id": "432_fqkKJq0U",
        "outputId": "e82e17de-07c9-4a6b-90b1-222e7a9bf92d"
      },
      "execution_count": null,
      "outputs": [
        {
          "output_type": "stream",
          "name": "stdout",
          "text": [
            "Digite um número inteiro: 10\n",
            "100\n"
          ]
        }
      ]
    },
    {
      "cell_type": "code",
      "source": [
        "# Desafio 01\n",
        "# Professor v3\n",
        "\n",
        "print(int(input(\"Digite um número inteiro: \"))**2)"
      ],
      "metadata": {
        "colab": {
          "base_uri": "https://localhost:8080/"
        },
        "id": "zwitWiCEKFUk",
        "outputId": "4577c04d-51ed-4bda-dd2a-3000ab989daf"
      },
      "execution_count": null,
      "outputs": [
        {
          "output_type": "stream",
          "name": "stdout",
          "text": [
            "Digite um número inteiro: 10\n",
            "100\n"
          ]
        }
      ]
    },
    {
      "cell_type": "code",
      "source": [
        "# Desafio 01\n",
        "# Professor v4\n",
        "\n",
        "num = int(input(\"Digite um número inteiro: \"))\n",
        "quad = num**2\n",
        "print(\"\\nNo.\", num, \"ao quadrado:\", quad)"
      ],
      "metadata": {
        "colab": {
          "base_uri": "https://localhost:8080/"
        },
        "id": "t0gIO979Kzh8",
        "outputId": "d7b0772e-5072-4029-e4d5-0044e2188b7f"
      },
      "execution_count": null,
      "outputs": [
        {
          "output_type": "stream",
          "name": "stdout",
          "text": [
            "Digite um número inteiro: 10\n",
            "\n",
            "No. 10 ao quadrado: 100\n"
          ]
        }
      ]
    },
    {
      "cell_type": "code",
      "source": [
        "# Desafio 01\n",
        "# Professor v5\n",
        "\n",
        "num = int(input(\"Digite um número inteiro: \"))\n",
        "quad = num**2\n",
        "print(\"\\nNo. {} ao quadrado: {}\".format(num, quad))"
      ],
      "metadata": {
        "colab": {
          "base_uri": "https://localhost:8080/"
        },
        "id": "ET_xjIFeL1hs",
        "outputId": "dbbc6bbd-d71d-4b73-f88c-b9f1acc89980"
      },
      "execution_count": null,
      "outputs": [
        {
          "output_type": "stream",
          "name": "stdout",
          "text": [
            "Digite um número inteiro: 10\n",
            "\n",
            "No. 10 ao quadrado: 100\n"
          ]
        }
      ]
    },
    {
      "cell_type": "code",
      "source": [
        "# Desafio 01\n",
        "# Professor v6\n",
        "\n",
        "num = int(input(\"Digite um número inteiro: \"))\n",
        "quad = num**2\n",
        "nome = 'Kelly'\n",
        "print(\"\\n%s diz que o no. %d ao quadrado é %f!\"%(nome, num, quad))"
      ],
      "metadata": {
        "colab": {
          "base_uri": "https://localhost:8080/"
        },
        "id": "invfUKAqMwy8",
        "outputId": "35509efe-812f-4ff9-c4b1-4b78bfc6e3c5"
      },
      "execution_count": null,
      "outputs": [
        {
          "output_type": "stream",
          "name": "stdout",
          "text": [
            "Digite um número inteiro: 10\n",
            "\n",
            "Kelly diz que o no. 10 ao quadrado é 100.000000.\n"
          ]
        }
      ]
    },
    {
      "cell_type": "code",
      "source": [
        "# Desafio 01\n",
        "# Professor v7\n",
        "\n",
        "num = int(input(\"Digite um número inteiro: \"))\n",
        "quad = num**2\n",
        "nome = 'Kelly'\n",
        "print(f\"\\n{nome} diz que o no. {num} ao quadrado é {quad}!\")"
      ],
      "metadata": {
        "colab": {
          "base_uri": "https://localhost:8080/"
        },
        "id": "BkRC4eVxODlt",
        "outputId": "b2d0c1ea-885f-4441-dbdc-80d68c1440bb"
      },
      "execution_count": null,
      "outputs": [
        {
          "output_type": "stream",
          "name": "stdout",
          "text": [
            "Digite um número inteiro: 10\n",
            "\n",
            "Kelly diz que o no. 10 ao quadrado é 100.\n"
          ]
        }
      ]
    },
    {
      "cell_type": "code",
      "source": [
        "# Desafio 02\n",
        "\"\"\"\n",
        "Escreva um programa que leia dois caracteres e imprima-os na tela da seguinte\n",
        "forma:\n",
        "'O usuário digitou {caractere1} e {caractere2}!'.\n",
        "\"\"\"\n",
        "\n",
        "car1 = input(\"Digite o 1o. caracter: \")\n",
        "car2 = input(\"Digite o 2o. caracter: \")\n",
        "print(f\"\\nO usuário digitou '{car1}' e '{car2}'!\")"
      ],
      "metadata": {
        "colab": {
          "base_uri": "https://localhost:8080/"
        },
        "id": "uo4LxN36B9ZL",
        "outputId": "bbb65a6c-57db-473a-f479-edc6ae6d4dc9"
      },
      "execution_count": null,
      "outputs": [
        {
          "output_type": "stream",
          "name": "stdout",
          "text": [
            "Digite o 1o. caracter: 1\n",
            "Digite o 2o. caracter: a\n",
            "\n",
            "O usuário digitou '1' e 'a'!\n"
          ]
        }
      ]
    },
    {
      "cell_type": "code",
      "source": [
        "# Desafio 02\n",
        "# Professor v1\n",
        "\n",
        "car1 = input(\"Digite o 1o. caracter: \")\n",
        "car2 = input(\"Digite o 2o. caracter: \")\n",
        "print(\"\\nO usuário digitou \\\"\", car1,\"\\\" e \\\"\", car2,\"\\\"!\")"
      ],
      "metadata": {
        "id": "nohcS5-BoYxV",
        "outputId": "ad52160e-fee6-42bc-9d22-b1136796ac5c",
        "colab": {
          "base_uri": "https://localhost:8080/"
        }
      },
      "execution_count": 1,
      "outputs": [
        {
          "output_type": "stream",
          "name": "stdout",
          "text": [
            "Digite o 1o. caracter: 1\n",
            "Digite o 2o. caracter: a\n",
            "\n",
            "O usuário digitou \" 1 \" e \" a \"!\n"
          ]
        }
      ]
    },
    {
      "cell_type": "code",
      "source": [
        "# Desafio 02\n",
        "# Professor v2\n",
        "\n",
        "car1 = input(\"Digite o 1o. caracter: \")\n",
        "car2 = input(\"Digite o 2o. caracter: \")\n",
        "print(f\"\\nO usuário digitou \\\"{car1}\\\" e \\\"{car2}\\\"!\")"
      ],
      "metadata": {
        "id": "zbZ1gQukogtN",
        "outputId": "97eed07c-f9c6-4e6d-bcf0-430777f0025a",
        "colab": {
          "base_uri": "https://localhost:8080/"
        }
      },
      "execution_count": 2,
      "outputs": [
        {
          "output_type": "stream",
          "name": "stdout",
          "text": [
            "Digite o 1o. caracter: 1\n",
            "Digite o 2o. caracter: a\n",
            "\n",
            "O usuário digitou \"1\" e \"a\"!\n"
          ]
        }
      ]
    },
    {
      "cell_type": "code",
      "source": [
        "# Desafio 03\n",
        "\"\"\"\n",
        "Crie um programa que leia um número inteiro e imprima seu sucessor e antecessor\n",
        "\"\"\"\n",
        "\n",
        "num = int(input(\"Digite um número inteiro: \"))\n",
        "print(f\"\\nAntecessor: {num-1}\")\n",
        "print(f\"Sucessor:   {num+1}\")"
      ],
      "metadata": {
        "colab": {
          "base_uri": "https://localhost:8080/"
        },
        "id": "pLh-zHSbB-Br",
        "outputId": "aeb73b7a-1098-4b03-eda2-e1425f5c4c7e"
      },
      "execution_count": null,
      "outputs": [
        {
          "output_type": "stream",
          "name": "stdout",
          "text": [
            "Digite um número inteiro: 10\n",
            "\n",
            "Antecessor: 9\n",
            "Sucessor:   11\n"
          ]
        }
      ]
    }
  ]
}