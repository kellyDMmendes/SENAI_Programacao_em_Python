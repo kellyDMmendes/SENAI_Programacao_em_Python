{
  "nbformat": 4,
  "nbformat_minor": 0,
  "metadata": {
    "colab": {
      "provenance": [],
      "authorship_tag": "ABX9TyMFVN2CBC/rlYoiCp2U5Pg9",
      "include_colab_link": true
    },
    "kernelspec": {
      "name": "python3",
      "display_name": "Python 3"
    },
    "language_info": {
      "name": "python"
    }
  },
  "cells": [
    {
      "cell_type": "markdown",
      "metadata": {
        "id": "view-in-github",
        "colab_type": "text"
      },
      "source": [
        "<a href=\"https://colab.research.google.com/github/kellyDMmendes/SENAI_Programacao_em_Python/blob/main/02_Tipos_de_Dados.ipynb\" target=\"_parent\"><img src=\"https://colab.research.google.com/assets/colab-badge.svg\" alt=\"Open In Colab\"/></a>"
      ]
    },
    {
      "cell_type": "markdown",
      "source": [
        "# **Tipos de Dados**\n",
        "\n"
      ],
      "metadata": {
        "id": "rAlKY2JAdkDY"
      }
    },
    {
      "cell_type": "code",
      "execution_count": null,
      "metadata": {
        "id": "A8-5DjATcTbE"
      },
      "outputs": [],
      "source": [
        "# Tipos Numéricos (int, float)\n",
        "\n",
        "x = 10     # Inteiro\n",
        "y = -1     # Inteiro Negativo\n",
        "z = -5.29  # Decimal Negativo\n",
        "pi = 3.14  # Decimal\n",
        "\n",
        "print(type(x))\n",
        "print(type(y))\n",
        "print(type(z))\n",
        "print(type(pi))"
      ]
    },
    {
      "cell_type": "code",
      "source": [
        "# Tipo Caracter | String (str)\n",
        "\n",
        "nome = 'Kelly'\n",
        "escola = \"SENAI Ary Torres\"\n",
        "\n",
        "print(nome)\n",
        "print(escola)\n",
        "print()\n",
        "print(type(nome))\n",
        "print('\\n', escola)  # Tabela ANSI\n",
        "print('\\n', escola[2])"
      ],
      "metadata": {
        "id": "yc0Fuerrgjf4"
      },
      "execution_count": null,
      "outputs": []
    },
    {
      "cell_type": "code",
      "source": [
        "# Tipos Lógicos (bool)\n",
        "\n",
        "continuar = True\n",
        "parar = False\n",
        "casado = True\n",
        "\n",
        "print(continuar)\n",
        "print(parar)\n",
        "print(type(casado))"
      ],
      "metadata": {
        "id": "1m4oqYH2jBnY"
      },
      "execution_count": null,
      "outputs": []
    },
    {
      "cell_type": "code",
      "source": [
        "# Declaração de Variáveis\n",
        "\n",
        "texto = '2'\n",
        "texto1 = str(2)\n",
        "numero = 3\n",
        "numero1 = int(3)\n",
        "decimal = float(3)\n",
        "logico = bool(False)\n",
        "\n",
        "print(texto)\n",
        "print(texto1)\n",
        "print(numero)\n",
        "print(numero1)\n",
        "print(decimal)\n",
        "print(logico)"
      ],
      "metadata": {
        "id": "s5US4c8pnHmp"
      },
      "execution_count": null,
      "outputs": []
    },
    {
      "cell_type": "code",
      "source": [
        "# Entrada de Dados\n",
        "\n",
        "numero_inteiro = int(input(\"Digite um número inteiro: \"))\n",
        "print(numero_inteiro)\n",
        "\n",
        "numero_decimal = float(input(\"\\nDigite um número decimal: \"))  # Separador de decimal: \".\"\n",
        "print(numero_decimal)\n",
        "\n",
        "valor_logico = bool(input(\"\\nDigite algo: \"))\n",
        "print(valor_logico)\n",
        "\n",
        "texto = input(\"\\nDigite um valor alfanumérico: \")\n",
        "print(texto)"
      ],
      "metadata": {
        "id": "MWKZpkL3qXUK"
      },
      "execution_count": null,
      "outputs": []
    },
    {
      "cell_type": "code",
      "source": [
        "# Identificar Tipo Primitivo\n",
        "\n",
        "print(type(numero_inteiro))\n",
        "print(type(numero_decimal))\n",
        "print(type(valor_logico))\n",
        "print(type(texto))"
      ],
      "metadata": {
        "id": "DQ4M-wEYusbK"
      },
      "execution_count": null,
      "outputs": []
    },
    {
      "cell_type": "code",
      "source": [
        "# Análise de Strings\n",
        "\n",
        "n = '5t'\n",
        "\n",
        "print(n.isnumeric())    # Numérico\n",
        "print(n.isalpha())      # Alfabético\n",
        "print(n.isalnum())      # Alfanumérico\n",
        "print(n.isupper())      # Maiúsculo\n",
        "print(n.islower())      # Minúculo\n",
        "print(n.istitle())      # Primeiro Maiúsculo\n",
        "print(n.isdecimal())    # Numérico\n",
        "print(n.isspace())      # Espaço"
      ],
      "metadata": {
        "id": "CqKA7Wucv6aJ"
      },
      "execution_count": null,
      "outputs": []
    },
    {
      "cell_type": "code",
      "source": [
        "# Exemplo: Análise de Strings\n",
        "\n",
        "num = input(\"Digite um número: \")\n",
        "\n",
        "if num.isnumeric():\n",
        "    num = int(num)\n",
        "else:\n",
        "    print(\"Não é número...\")\n",
        "\n",
        "print(type(num))"
      ],
      "metadata": {
        "id": "9zvp5JIeyd96"
      },
      "execution_count": null,
      "outputs": []
    },
    {
      "cell_type": "code",
      "source": [
        "# Constantes\n",
        "\n",
        "PI = 3.1415\n",
        "GRAVIDADE = 9.81\n",
        "\n",
        "print(\"Valor de PI: \", PI)\n",
        "print(\"Valor da gravidade: \", GRAVIDADE)"
      ],
      "metadata": {
        "id": "BY_tYt0Dz_pb"
      },
      "execution_count": null,
      "outputs": []
    },
    {
      "cell_type": "code",
      "source": [
        "# Cores\n",
        "\"\"\"\n",
        "\\033[ESTILO;FONTE;FUNDOm TEXTO \\033[0m\n",
        "\n",
        "\\033[m \\033[0m\n",
        "\n",
        "Estilos: 0 nenhum | 1 negrito | 2 itálico | 4 sublinhado\n",
        "\"\"\"\n",
        "\n",
        "print(\"\\033[1;33;45m Texto \\033[0m\")\n",
        "\n",
        "print(\"\\033[30m Cinza\")\n",
        "print(\"\\033[31m Vermelho\")\n",
        "print(\"\\033[32m Verde\")\n",
        "print(\"\\033[33m Amarelo\")\n",
        "print(\"\\033[34m Ciano\")\n",
        "print(\"\\033[35m Magenta\")\n",
        "print(\"\\033[36m Azul\")\n",
        "print(\"\\033[37m Branco\")"
      ],
      "metadata": {
        "id": "HvjESf_00_-G"
      },
      "execution_count": null,
      "outputs": []
    },
    {
      "cell_type": "code",
      "source": [
        "# Colunas com Preenchimento e Alinhamento\n",
        "\n",
        "print(\"Centralizado\".center(30, '.'))\n",
        "print(\"Direita\".rjust(30, '.'))\n",
        "print(\"Esquerda\".ljust(30, '.'))"
      ],
      "metadata": {
        "id": "Larp2pJo-WXs"
      },
      "execution_count": null,
      "outputs": []
    },
    {
      "cell_type": "code",
      "source": [
        "# Alinhamento para F-Strings\n",
        "\n",
        "print(f\"-----------------------------------------------\")\n",
        "print(f\"| {'Unidade':>20} | {'5':^20} |\")\n",
        "print(f\"| {'Unidade':^20} | {'5':^20} |\")\n",
        "print(f\"| {'Unidade':<20} | {'5':^20} |\")\n",
        "print(f\"-----------------------------------------------\")"
      ],
      "metadata": {
        "id": "bDfh2UKi_QI7"
      },
      "execution_count": null,
      "outputs": []
    },
    {
      "cell_type": "code",
      "source": [
        "# Multiplicação de Strings\n",
        "\n",
        "sus = '#'\n",
        "ast = '*'\n",
        "\n",
        "print(sus*2, ast*10, sus*2)\n",
        "print('='*16)"
      ],
      "metadata": {
        "id": "FMegd1ZDAiIL"
      },
      "execution_count": null,
      "outputs": []
    },
    {
      "cell_type": "markdown",
      "source": [
        "# **Desafios**"
      ],
      "metadata": {
        "id": "nzEPSKhcBjwM"
      }
    },
    {
      "cell_type": "code",
      "source": [
        "# Desafio 01\n",
        "\"\"\"\n",
        "Crie um programa para efetuar a leitura de um número inteiro e apresentar o\n",
        "resultado do quadrado desse número\n",
        "\"\"\"\n",
        "\n",
        "numero = int(input(\"Digite um número inteiro: \"))\n",
        "print(\"\\nNo.\", numero, \"ao quadrado:\", numero ** 2)"
      ],
      "metadata": {
        "id": "L9_s9BoBB70b"
      },
      "execution_count": null,
      "outputs": []
    },
    {
      "cell_type": "code",
      "source": [
        "# Desafio 01\n",
        "# Professor v1\n",
        "\n",
        "numero = int(input(\"Digite um número inteiro: \"))\n",
        "quadrado = numero**2\n",
        "print(quadrado)"
      ],
      "metadata": {
        "id": "59fHZ_xfJePt"
      },
      "execution_count": null,
      "outputs": []
    },
    {
      "cell_type": "code",
      "source": [
        "# Desafio 01\n",
        "# Professor v2\n",
        "\n",
        "numero = int(input(\"Digite um número inteiro: \"))\n",
        "print(numero**2)"
      ],
      "metadata": {
        "id": "432_fqkKJq0U"
      },
      "execution_count": null,
      "outputs": []
    },
    {
      "cell_type": "code",
      "source": [
        "# Desafio 01\n",
        "# Professor v3\n",
        "\n",
        "print(int(input(\"Digite um número inteiro: \"))**2)"
      ],
      "metadata": {
        "id": "zwitWiCEKFUk"
      },
      "execution_count": null,
      "outputs": []
    },
    {
      "cell_type": "code",
      "source": [
        "# Desafio 01\n",
        "# Professor v4\n",
        "\n",
        "numero = int(input(\"Digite um número inteiro: \"))\n",
        "quadrado = numero**2\n",
        "print(\"O quadrado é\", quadrado, \"!\")"
      ],
      "metadata": {
        "id": "t0gIO979Kzh8"
      },
      "execution_count": null,
      "outputs": []
    },
    {
      "cell_type": "code",
      "source": [
        "# Desafio 01\n",
        "# Professor v5\n",
        "\n",
        "numero = int(input(\"Digite um número inteiro: \"))\n",
        "quadrado = numero**2\n",
        "print(\"O quadrado de {} é {}!\".format(numero, quadrado))"
      ],
      "metadata": {
        "id": "ET_xjIFeL1hs"
      },
      "execution_count": null,
      "outputs": []
    },
    {
      "cell_type": "code",
      "source": [
        "# Desafio 01\n",
        "# Professor v6\n",
        "\n",
        "numero = int(input(\"Digite um número inteiro: \"))\n",
        "quadrado = numero**2\n",
        "nome = 'Leandro'\n",
        "print(\"\\n%s diz que o quadrado de %d é %f!\"%(nome, numero, quadrado))"
      ],
      "metadata": {
        "id": "invfUKAqMwy8"
      },
      "execution_count": null,
      "outputs": []
    },
    {
      "cell_type": "code",
      "source": [
        "# Desafio 01\n",
        "# Professor v7\n",
        "\n",
        "numero = int(input(\"Digite um número inteiro: \"))\n",
        "quadrado = numero**2\n",
        "nome = 'Leandro'\n",
        "print(f\"\\n{nome} diz que o quadrado de {numero} é {quadrado}!\")"
      ],
      "metadata": {
        "id": "BkRC4eVxODlt"
      },
      "execution_count": null,
      "outputs": []
    },
    {
      "cell_type": "code",
      "source": [
        "# Desafio 02\n",
        "\"\"\"\n",
        "Escreva um programa que leia dois caracteres e imprima-os na tela da seguinte\n",
        "forma:\n",
        "'O usuário digitou {caractere1} e {caractere2}!'.\n",
        "\"\"\"\n",
        "\n",
        "caracter1 = input(\"Digite o 1o. caracter: \")\n",
        "caracter2 = input(\"Digite o 2o. caracter: \")\n",
        "print(f\"\\nO usuário digitou '{caracter1}' e '{caracter2}'!\")"
      ],
      "metadata": {
        "id": "uo4LxN36B9ZL"
      },
      "execution_count": null,
      "outputs": []
    },
    {
      "cell_type": "code",
      "source": [
        "# Desafio 02\n",
        "# Professor v1\n",
        "\n",
        "a = input(\"Digite o 1º caractere: \")\n",
        "b = input(\"Digite o 2º caractere: \")\n",
        "\n",
        "print(\"O usuário digitou {\",a,\"} e {\",b,\"}!\")"
      ],
      "metadata": {
        "id": "nohcS5-BoYxV"
      },
      "execution_count": null,
      "outputs": []
    },
    {
      "cell_type": "code",
      "source": [
        "# Desafio 02\n",
        "# Professor v2\n",
        "\n",
        "a = input(\"Digite o 1º caractere: \")\n",
        "b = input(\"Digite o 2º caractere: \")\n",
        "\n",
        "print(f\"O usuário digitou ({a}) e ({b})!\")"
      ],
      "metadata": {
        "id": "zbZ1gQukogtN"
      },
      "execution_count": null,
      "outputs": []
    },
    {
      "cell_type": "code",
      "source": [
        "# Desafio 03\n",
        "\"\"\"\n",
        "Crie um programa que leia um número inteiro e imprima seu sucessor e antecessor\n",
        "\"\"\"\n",
        "\n",
        "numero = int(input(\"Digite um número inteiro: \"))\n",
        "print(f\"\\nAntecessor: {numero - 1}\")\n",
        "print(f\"Sucessor:   {numero + 1}\")"
      ],
      "metadata": {
        "id": "pLh-zHSbB-Br"
      },
      "execution_count": null,
      "outputs": []
    },
    {
      "cell_type": "code",
      "source": [
        "# Desafio 03\n",
        "# Professor v1\n",
        "\n",
        "num = int(input(\"Digite um número: \"))\n",
        "print(f\"O sucessor é {num+1} e o antecessor é {num-1}!\")"
      ],
      "metadata": {
        "id": "juBmnHXurVP1"
      },
      "execution_count": null,
      "outputs": []
    },
    {
      "cell_type": "code",
      "source": [
        "# DESAFIO 04\n",
        "\"\"\"\n",
        "Crie um programa para entrar com a base e a altura de um retângulo e imprimir\n",
        "respectivamente o perímetro e a área correspondente.\n",
        "\"\"\"\n",
        "\n",
        "base = float(input(\"Digite a base do retângulo: \"))\n",
        "altura = float(input(\"Digite a altura do retângulo: \"))\n",
        "\n",
        "print(f\"\\nPerímetro: {2 * (base + altura)} m\")\n",
        "print(f\"Área: {base * altura} m²\")"
      ],
      "metadata": {
        "id": "b1IIJvz8q_1d"
      },
      "execution_count": null,
      "outputs": []
    },
    {
      "cell_type": "code",
      "source": [
        "# DESAFIO 04\n",
        "# Professor v1\n",
        "\n",
        "base   = float(input(\"Digite a base: \"))\n",
        "altura = float(input(\"Digite a altura: \"))\n",
        "\n",
        "print(f\"\\nPerímetro: {2*(base+altura)}\")\n",
        "print(f\"Área: {base*altura} m²\")"
      ],
      "metadata": {
        "id": "g8fWn--_u5Fm"
      },
      "execution_count": null,
      "outputs": []
    },
    {
      "cell_type": "code",
      "source": [
        "# DESAFIO 05\n",
        "\"\"\"\n",
        "Crie um programa que dados o valor, a taxa e o tempo, efetuar o cálculo do valor de\n",
        "uma prestação em atraso.\n",
        "FÓRMULA: valor da prestação + (valor da prestação * (taxa / 100) * tempo)\n",
        "\"\"\"\n",
        "\n",
        "val = float(input(\"Digite o valor da prestação: \"))\n",
        "tx = float(input(\"Digite a taxa da prestação: \"))\n",
        "tmp = int(input(\"Digite o tempo de atraso: \"))\n",
        "print(f\"\\nValor da prestação em atraso: R$ {val + (val * (tx / 100) * tmp)}\")"
      ],
      "metadata": {
        "id": "rqkBPTncrEF-"
      },
      "execution_count": null,
      "outputs": []
    },
    {
      "cell_type": "code",
      "source": [
        "# DESAFIO 05\n",
        "# Professor v1\n",
        "\n",
        "valor = float(input(\"Digite o valor da prestação: \"))\n",
        "taxa  = float(input(\"Digite a taxa da prestação: \"))\n",
        "tempo = int(input(\"Digite quantidade de parcelas em atraso: \"))\n",
        "\n",
        "print(f\"\\nValor atualizado: R$ {valor+(valor*(taxa/100)*tempo):,.2f}\")"
      ],
      "metadata": {
        "id": "DaJG-74FxjC_"
      },
      "execution_count": null,
      "outputs": []
    },
    {
      "cell_type": "code",
      "source": [
        "# DESAFIO 06\n",
        "\"\"\"\n",
        "Dado a nota das provas P1, P2 e P3, calcular a média (aritmética) das notas do aluno.\n",
        "\"\"\"\n",
        "\n",
        "prova1 = float(input(\"Digite a nota da 1a. prova: \"))\n",
        "prova2 = float(input(\"Digite a nota da 2a. prova: \"))\n",
        "prova3 = float(input(\"Digite a nota da 3a. prova: \"))\n",
        "print(f\"\\nMédia: {((prova1 + prova2 + prova3) / 3):,.1f}\")"
      ],
      "metadata": {
        "id": "mBhy0nahrH7-"
      },
      "execution_count": null,
      "outputs": []
    },
    {
      "cell_type": "code",
      "source": [
        "# DESAFIO 06\n",
        "# Professor v1\n",
        "\n",
        "p1 = float(input(\"Digite a nota da P1: \"))\n",
        "p2 = float(input(\"Digite a nota da P2: \"))\n",
        "p3 = float(input(\"Digite a nota da P3: \"))\n",
        "\n",
        "media = (p1+p2+p3)/3\n",
        "print(f\"\\n\\033[1;32mSua média é: {media:,.1f}\\033[0m\")"
      ],
      "metadata": {
        "id": "WLol3raM3fpv"
      },
      "execution_count": null,
      "outputs": []
    },
    {
      "cell_type": "code",
      "source": [
        "# DESAFIO 07\n",
        "\"\"\"\n",
        "Escreva um código que calcule a hipotenusa de um triângulo retângulo, cujos catetos são:\n",
        "a = 4\n",
        "b = 3\n",
        "\"\"\"\n",
        "\n",
        "a = 4\n",
        "b = 3\n",
        "\n",
        "hip = (a ** 2 + b ** 2) ** (1 / 2)\n",
        "print(f\"Catetos: {a} e {b}\")\n",
        "print(f\"\\033[1mHipotenusa: {hip:,.1f}\\033[0m\")"
      ],
      "metadata": {
        "id": "B7zXmfwez4eA"
      },
      "execution_count": null,
      "outputs": []
    },
    {
      "cell_type": "code",
      "source": [
        "# DESAFIO 07\n",
        "# Professor v1\n",
        "\n",
        "a = 4\n",
        "b = 3\n",
        "hipotenusa = (a**2+b**2)**(1/2)\n",
        "print(hipotenusa)"
      ],
      "metadata": {
        "id": "dRzJ3IUk6y-Q"
      },
      "execution_count": null,
      "outputs": []
    },
    {
      "cell_type": "code",
      "source": [
        "# DESAFIO 08\n",
        "\"\"\"\n",
        "Solicite ao usuário o valor do salário atual, em seguida solicite o\n",
        "percentual de aumento e imprima o valor do salário atualizado.\n",
        "\"\"\"\n",
        "\n",
        "salario = float(input(\"Digite o valor do salário atual: \"))\n",
        "aumento = float(input(\"Digite o aumento em %: \"))\n",
        "\n",
        "novo_salario = salario * (1 + aumento / 100)\n",
        "print(f\"\\n\\033[1mSalário atualizado: R$ {novo_salario:,.2f}\\033[0m\")"
      ],
      "metadata": {
        "id": "JnJu4HMnz_n_"
      },
      "execution_count": null,
      "outputs": []
    },
    {
      "cell_type": "code",
      "source": [
        "# DESAFIO 08\n",
        "# Porfessor v1\n",
        "\n",
        "salario    = float(input(\"Digite seu salário: \"))\n",
        "percentual = float(input(\"Digite percentual de aumento: \"))\n",
        "atualizado = salario+salario*(percentual/100)\n",
        "\n",
        "print(f\"\\nSalário atualizado: R$ {atualizado:,.2f}\")"
      ],
      "metadata": {
        "id": "lj_zRNIT9rGw"
      },
      "execution_count": null,
      "outputs": []
    },
    {
      "cell_type": "code",
      "source": [
        "# DESAFIO 09\n",
        "\"\"\"\n",
        "Crie um programa e declare uma constante PI utilizando 4 casas\n",
        "decimais. Dados o raio e a altura, calcule e apresente o volume de um\n",
        "objeto cilíndrico.\n",
        "Fórmula: volume = PI * r² * altura\n",
        "\"\"\"\n",
        "\n",
        "PI = 3.1415\n",
        "raio = float(input(\"Digite o raio: \"))\n",
        "altura = float(input(\"Digite a altura: \"))\n",
        "\n",
        "volume = PI * raio ** 2 * altura\n",
        "print(f\"\\n\\033[1mVolume do cilíndro: {volume:,.1f} ml\\033[0m\")"
      ],
      "metadata": {
        "id": "6kStDOel0B4v"
      },
      "execution_count": null,
      "outputs": []
    },
    {
      "cell_type": "code",
      "source": [
        "# DESAFIO 09\n",
        "# Professor v1\n",
        "\n",
        "PI     = 3.1415\n",
        "raio   = float(input(\"Digite o raio: \"))\n",
        "altura = float(input(\"Digite a altura: \"))\n",
        "volume = PI * raio**2 * altura\n",
        "\n",
        "print(f\"{volume:,.1f} ml\")"
      ],
      "metadata": {
        "id": "c75hv7WMAtIg"
      },
      "execution_count": null,
      "outputs": []
    },
    {
      "cell_type": "code",
      "source": [
        "# DESAFIO 10\n",
        "\"\"\"\n",
        "Imprima uma árvore de Natal como no exemplo utilizando a multiplicação\n",
        "de Strings.\n",
        "          *\n",
        "         ***\n",
        "        *****\n",
        "       *******\n",
        "      *********\n",
        "     ***********\n",
        "    *************\n",
        "   ***************\n",
        "  *****************\n",
        "         ***\n",
        "         ***\n",
        "         ***\n",
        "\"\"\"\n",
        "\n",
        "s = '*'\n",
        "n = ' '\n",
        "\n",
        "print(f\"{n*8}{s}{n*8}\")\n",
        "print(f\"{n*7}{s*3}{n*7}\")\n",
        "print(f\"{n*6}{s*5}{n*6}\")\n",
        "print(f\"{n*5}{s*7}{n*5}\")\n",
        "print(f\"{n*4}{s*9}{n*4}\")\n",
        "print(f\"{n*3}{s*11}{n*3}\")\n",
        "print(f\"{n*2}{s*13}{n*2}\")\n",
        "print(f\"{n}{s*15}{n}\")\n",
        "print(f\"{s*17}\")\n",
        "print(f\"{n*7}{s*3}{n*7}\")\n",
        "print(f\"{n*7}{s*3}{n*7}\")\n",
        "print(f\"{n*7}{s*3}{n*7}\")"
      ],
      "metadata": {
        "id": "f6SvgQaZ72xB"
      },
      "execution_count": null,
      "outputs": []
    },
    {
      "cell_type": "code",
      "source": [
        "# DESAFIO 10\n",
        "# Porfessor v1\n",
        "\n",
        "e=' '\n",
        "c='*'\n",
        "print(9*e,1*c)\n",
        "print(8*e,3*c)\n",
        "print(7*e,5*c)\n",
        "print(6*e,7*c)\n",
        "print(5*e,9*c)\n",
        "print(4*e,11*c)\n",
        "print(3*e,13*c)\n",
        "print(2*e,15*c)\n",
        "print(1*e,17*c)\n",
        "\n",
        "print(8*e,3*c)\n",
        "print(8*e,3*c)\n",
        "print(8*e,3*c)"
      ],
      "metadata": {
        "id": "rgU1ia5uKcXB"
      },
      "execution_count": null,
      "outputs": []
    },
    {
      "cell_type": "code",
      "source": [
        "# DESAFIO 11\n",
        "\"\"\"\n",
        "Com base no desafio 10, faça a coloração da árvore de Natal, sendo sua\n",
        "copa verde e base vermelha.\n",
        "\"\"\"\n",
        "\n",
        "s = '*'\n",
        "n = ' '\n",
        "x = '🌟'\n",
        "\n",
        "print(f\"{n*7}{x}\")\n",
        "print(f\"\\033[32m{n*8}{s}\")\n",
        "print(f\"{n*7}{s*3}\")\n",
        "print(f\"{n*6}{s*5}\")\n",
        "print(f\"{n*5}{s*7}\")\n",
        "print(f\"{n*4}{s*9}\")\n",
        "print(f\"{n*3}{s*11}\")\n",
        "print(f\"{n*2}{s*13}\")\n",
        "print(f\"{n}{s*15}\")\n",
        "print(f\"{s*17}\\033[0m\")\n",
        "print(f\"\\033[31m{n*7}{s*3}\")\n",
        "print(f\"{n*7}{s*3}\")\n",
        "print(f\"{n*7}{s*3}\\033[0m\")"
      ],
      "metadata": {
        "id": "khU8X8xJ74VI"
      },
      "execution_count": null,
      "outputs": []
    },
    {
      "cell_type": "code",
      "source": [
        "# DESAFIO 11\n",
        "# Porfessor v1\n",
        "\n",
        "e=' '\n",
        "c='*'\n",
        "print('\\033[32m')\n",
        "print(9*e,1*c)\n",
        "print(8*e,3*c)\n",
        "print(7*e,5*c)\n",
        "print(6*e,7*c)\n",
        "print(5*e,9*c)\n",
        "print(4*e,11*c)\n",
        "print(3*e,13*c)\n",
        "print(2*e,15*c)\n",
        "print(1*e,17*c,'\\033[31m')\n",
        "\n",
        "print(8*e,3*c)\n",
        "print(8*e,3*c)\n",
        "print(8*e,3*c)"
      ],
      "metadata": {
        "id": "yZ-6sfcHLno5"
      },
      "execution_count": null,
      "outputs": []
    },
    {
      "cell_type": "code",
      "source": [
        "# DESAFIO 11\n",
        "# Professor v2\n",
        "\n",
        "e=' '\n",
        "c='*'\n",
        "print(8*e,'🌟','\\033[32m')\n",
        "print(9*e,1*c)\n",
        "print(8*e,3*c)\n",
        "print(7*e,5*c)\n",
        "print(6*e,7*c)\n",
        "print(5*e,9*c)\n",
        "print(4*e,11*c)\n",
        "print(3*e,13*c)\n",
        "print(2*e,15*c)\n",
        "print(1*e,17*c,'\\033[31m')\n",
        "\n",
        "print(8*e,3*c)\n",
        "print(8*e,3*c)\n",
        "print(8*e,3*c)"
      ],
      "metadata": {
        "id": "XyRW1vOMQyuq"
      },
      "execution_count": null,
      "outputs": []
    },
    {
      "cell_type": "code",
      "source": [
        "# DESAFIO 12\n",
        "\"\"\"\n",
        "Construir um cardápio utilizando colunas e autopreenchimento.\n",
        "\"\"\"\n",
        "\n",
        "produto = input(\"Digite o produto: \")\n",
        "preco = input(\"Digite o preço do produto: \")\n",
        "\n",
        "print(f\"\\n\\033[1;33;42m {' CARDÁPIO '.center(40, '#')} \\033[0m\\n\")\n",
        "print(f\"{'Pastel'.ljust(34, '.')} R$ 6,50\")\n",
        "print(f\"{'Coxinha'.ljust(34, '.')} R$ 5,50\")\n",
        "print(f\"{'Risole'.ljust(34, '.')} R$ 7,50\")\n",
        "print(f\"{produto.ljust(34, '.')} R$ {preco}\")"
      ],
      "metadata": {
        "id": "BbMpOCqvMGsy"
      },
      "execution_count": null,
      "outputs": []
    },
    {
      "cell_type": "code",
      "source": [
        "# DESAFIO 12\n",
        "# Professor v1\n",
        "\n",
        "print('\\033[1;33;42m',\" CARDÁPIO \".center(40, '#'),'\\033[0m\\n')\n",
        "\n",
        "print(\"Pastel\".ljust(34, '.'),\"R$ 6,50\")\n",
        "print(\"Coxinha\".ljust(34, '.'),\"R$ 5,50\")\n",
        "print(\"Risoles de queijo\".ljust(34, '.'),\"R$ 7,50\")"
      ],
      "metadata": {
        "id": "0bsYswoEX1CM"
      },
      "execution_count": null,
      "outputs": []
    },
    {
      "cell_type": "code",
      "source": [
        "# DESAFIO 12\n",
        "# Professor v2\n",
        "\n",
        "produto = input(\"Digite o nome do produto: \")\n",
        "preco   = input(\"Digite o preço do produto: \")\n",
        "\n",
        "print('\\033[1;33;42m',\" CARDÁPIO \".center(40, '#'),'\\033[0m\\n')\n",
        "\n",
        "print(\"Pastel\".ljust(34, '.'),\"R$ 6,50\")\n",
        "print(\"Coxinha\".ljust(34, '.'),\"R$ 5,50\")\n",
        "print(\"Risoles de queijo\".ljust(34, '.'),\"R$ 7,50\")\n",
        "print(produto.ljust(34, '.'),\"R$\",preco)"
      ],
      "metadata": {
        "id": "mwAY9vEbX81i"
      },
      "execution_count": null,
      "outputs": []
    }
  ]
}