{
  "nbformat": 4,
  "nbformat_minor": 0,
  "metadata": {
    "colab": {
      "provenance": [],
      "authorship_tag": "ABX9TyPDrl+/j7orVYEPyFwXwTA6",
      "include_colab_link": true
    },
    "kernelspec": {
      "name": "python3",
      "display_name": "Python 3"
    },
    "language_info": {
      "name": "python"
    }
  },
  "cells": [
    {
      "cell_type": "markdown",
      "metadata": {
        "id": "view-in-github",
        "colab_type": "text"
      },
      "source": [
        "<a href=\"https://colab.research.google.com/github/kellyDMmendes/SENAI_Programacao_em_Python/blob/main/03_Manipulacao_de_Strings.ipynb\" target=\"_parent\"><img src=\"https://colab.research.google.com/assets/colab-badge.svg\" alt=\"Open In Colab\"/></a>"
      ]
    },
    {
      "cell_type": "code",
      "execution_count": null,
      "metadata": {
        "id": "dBzMyw-nJ-Fy"
      },
      "outputs": [],
      "source": [
        "# Fatiamento de Strings\n",
        "\n",
        "#        012345678901234\n",
        "texto = \"Curso de Python\"\n",
        "\n",
        "print(texto[6])       # 7o. caractere\n",
        "\n",
        "print(texto[9:15])    # 10o. ao 15o. caractere\n",
        "\n",
        "print(texto[9:15:2])  # 10o. ao 15o. caractere, salto 2\n",
        "\n",
        "print(texto[:5])      # Até o 5o. caractere\n",
        "\n",
        "print(texto[9:])      # 10o. caractere em diante\n",
        "\n",
        "print(texto[::-1])    # inverter o texto\n",
        "\n",
        "nome = 'KELLY'\n",
        "print(nome[::-1])"
      ]
    },
    {
      "cell_type": "code",
      "source": [
        "# Análise de String\n",
        "\n",
        "#        0123456789012345\n",
        "frase = \"SENAI Ary Torres\"\n",
        "\n",
        "# Tamanho da String\n",
        "print(len(frase))\n",
        "\n",
        "# Contar Caracteres\n",
        "print(frase.count('e'))\n",
        "\n",
        "# Encontrar Índice (retorna -1 se não encontrar)\n",
        "print(frase.find('r'))\n",
        "\n",
        "# Encontrar Índice (a partir da direita)\n",
        "print(frase.rfind('r'))\n",
        "\n",
        "# Encontrar Índice (gra erro se não encontrar)\n",
        "print(frase.index('r'))\n",
        "\n",
        "# Verificar Existência\n",
        "print('Ary' in frase)"
      ],
      "metadata": {
        "id": "ndofLJSsN0kT"
      },
      "execution_count": null,
      "outputs": []
    },
    {
      "cell_type": "code",
      "source": [
        "# Transformação de Strings\n",
        "\n",
        "# Maiúscula\n",
        "print(frase.upper())\n",
        "\n",
        "# Minúscula\n",
        "print(frase.lower())\n",
        "\n",
        "# Primeira da Frase em Maiúscula\n",
        "print(frase.capitalize())\n",
        "\n",
        "# Primeira de Cada Palavra em Maiúscula\n",
        "print(frase.title())"
      ],
      "metadata": {
        "id": "QgT3HBwpQ9iR"
      },
      "execution_count": null,
      "outputs": []
    }
  ]
}