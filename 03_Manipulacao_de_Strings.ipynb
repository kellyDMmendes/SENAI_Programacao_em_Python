{
  "nbformat": 4,
  "nbformat_minor": 0,
  "metadata": {
    "colab": {
      "provenance": [],
      "authorship_tag": "ABX9TyO3d7KvLco5f4xD8bjqPisd",
      "include_colab_link": true
    },
    "kernelspec": {
      "name": "python3",
      "display_name": "Python 3"
    },
    "language_info": {
      "name": "python"
    }
  },
  "cells": [
    {
      "cell_type": "markdown",
      "metadata": {
        "id": "view-in-github",
        "colab_type": "text"
      },
      "source": [
        "<a href=\"https://colab.research.google.com/github/kellyDMmendes/SENAI_Programacao_em_Python/blob/main/03_Manipulacao_de_Strings.ipynb\" target=\"_parent\"><img src=\"https://colab.research.google.com/assets/colab-badge.svg\" alt=\"Open In Colab\"/></a>"
      ]
    },
    {
      "cell_type": "code",
      "execution_count": 11,
      "metadata": {
        "id": "dBzMyw-nJ-Fy",
        "colab": {
          "base_uri": "https://localhost:8080/"
        },
        "outputId": "9bbd0a6e-fa70-4b2b-8501-06418d926cb2"
      },
      "outputs": [
        {
          "output_type": "stream",
          "name": "stdout",
          "text": [
            "d\n",
            "Python\n",
            "Pto\n",
            "Curso\n",
            "Python\n",
            "nohtyP ed osruC\n",
            "YLLEK\n"
          ]
        }
      ],
      "source": [
        "# Fatiamento de Strings\n",
        "\n",
        "#        012345678901234\n",
        "texto = \"Curso de Python\"\n",
        "\n",
        "print(texto[6])       # 7o. caractere\n",
        "\n",
        "print(texto[9:15])    # 10o. ao 15o. caractere\n",
        "\n",
        "print(texto[9:15:2])  # 10o. ao 15o. caractere, salto 2\n",
        "\n",
        "print(texto[:5])      # Até o 5o. caractere\n",
        "\n",
        "print(texto[9:])      # 10o. caractere em diante\n",
        "\n",
        "print(texto[::-1])    # inverter o texto\n",
        "\n",
        "nome = 'KELLY'\n",
        "print(nome[::-1])"
      ]
    },
    {
      "cell_type": "code",
      "source": [
        "# Análise de String\n",
        "\n",
        "#        0123456789012345\n",
        "frase = \"SENAI Ary Torres\"\n",
        "\n",
        "# Tamanho da String\n",
        "print(len(frase))\n",
        "\n",
        "# Contar Caracteres\n",
        "print(frase.count('e'))\n",
        "\n",
        "# Encontrar Índice (retorna -1 se não encontrar)\n",
        "print(frase.find('r'))\n",
        "\n",
        "# Encontrar Índice (a partir da direita)\n",
        "print(frase.rfind('r'))\n",
        "\n",
        "# Encontrar Índice (gra erro se não encontrar)\n",
        "print(frase.index('r'))\n",
        "\n",
        "# Verificar Existência\n",
        "print('Ary' in frase)"
      ],
      "metadata": {
        "id": "ndofLJSsN0kT",
        "outputId": "48f57f3b-14e3-4b36-c041-3b41e6f4c6ec",
        "colab": {
          "base_uri": "https://localhost:8080/"
        }
      },
      "execution_count": 22,
      "outputs": [
        {
          "output_type": "stream",
          "name": "stdout",
          "text": [
            "16\n",
            "1\n",
            "7\n",
            "13\n",
            "7\n",
            "True\n"
          ]
        }
      ]
    }
  ]
}