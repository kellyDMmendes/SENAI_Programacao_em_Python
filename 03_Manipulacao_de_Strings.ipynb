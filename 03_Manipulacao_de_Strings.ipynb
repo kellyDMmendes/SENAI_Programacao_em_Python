{
  "nbformat": 4,
  "nbformat_minor": 0,
  "metadata": {
    "colab": {
      "provenance": [],
      "authorship_tag": "ABX9TyOQS76vPF/+HePpRymDnslZ",
      "include_colab_link": true
    },
    "kernelspec": {
      "name": "python3",
      "display_name": "Python 3"
    },
    "language_info": {
      "name": "python"
    }
  },
  "cells": [
    {
      "cell_type": "markdown",
      "metadata": {
        "id": "view-in-github",
        "colab_type": "text"
      },
      "source": [
        "<a href=\"https://colab.research.google.com/github/kellyDMmendes/SENAI_Programacao_em_Python/blob/main/03_Manipulacao_de_Strings.ipynb\" target=\"_parent\"><img src=\"https://colab.research.google.com/assets/colab-badge.svg\" alt=\"Open In Colab\"/></a>"
      ]
    },
    {
      "cell_type": "code",
      "execution_count": null,
      "metadata": {
        "id": "dBzMyw-nJ-Fy"
      },
      "outputs": [],
      "source": [
        "# Fatiamento de Strings\n",
        "\n",
        "#        012345678901234\n",
        "texto = \"Curso de Python\"\n",
        "\n",
        "print(texto[6])       # 7o. caractere\n",
        "\n",
        "print(texto[9:15])    # 10o. ao 15o. caractere\n",
        "\n",
        "print(texto[9:15:2])  # 10o. ao 15o. caractere, salto 2\n",
        "\n",
        "print(texto[:5])      # Até o 5o. caractere\n",
        "\n",
        "print(texto[9:])      # 10o. caractere em diante\n",
        "\n",
        "print(texto[::-1])    # inverter o texto\n",
        "\n",
        "nome = 'KELLY'\n",
        "print(nome[::-1])"
      ]
    },
    {
      "cell_type": "code",
      "source": [
        "# Análise de String\n",
        "\n",
        "#        0123456789012345\n",
        "frase = \"SENAI Ary Torres\"\n",
        "\n",
        "# Tamanho da String\n",
        "print(len(frase))\n",
        "\n",
        "# Contar Caracteres\n",
        "print(frase.count('e'))\n",
        "\n",
        "# Encontrar Índice (retorna -1 se não encontrar)\n",
        "print(frase.find('r'))\n",
        "\n",
        "# Encontrar Índice (a partir da direita)\n",
        "print(frase.rfind('r'))\n",
        "\n",
        "# Encontrar Índice (gra erro se não encontrar)\n",
        "print(frase.index('r'))\n",
        "\n",
        "# Verificar Existência\n",
        "print('Ary' in frase)"
      ],
      "metadata": {
        "id": "ndofLJSsN0kT"
      },
      "execution_count": null,
      "outputs": []
    },
    {
      "cell_type": "code",
      "source": [
        "# Transformação de Strings\n",
        "\n",
        "# Maiúscula\n",
        "print(frase.upper())\n",
        "\n",
        "# Minúscula\n",
        "print(frase.lower())\n",
        "\n",
        "# Primeira da Frase em Maiúscula\n",
        "print(frase.capitalize())\n",
        "\n",
        "# Primeira de Cada Palavra em Maiúscula\n",
        "print(frase.title())"
      ],
      "metadata": {
        "colab": {
          "base_uri": "https://localhost:8080/"
        },
        "id": "QgT3HBwpQ9iR",
        "outputId": "7a83fe94-ea6c-41ec-e306-3231e137e2fd"
      },
      "execution_count": 27,
      "outputs": [
        {
          "output_type": "stream",
          "name": "stdout",
          "text": [
            "SENAI ARY TORRES\n",
            "senai ary torres\n",
            "Senai ary torres\n",
            "Senai Ary Torres\n"
          ]
        }
      ]
    },
    {
      "cell_type": "code",
      "source": [
        "# Transformação de Strings\n",
        "\n",
        "#Substituir Palavras\n",
        "print(frase.replace('SENAI', 'ESCOLA'))\n",
        "\n",
        "frase = \"oi  SENAI Ary  Torres  oi\"\n",
        "\n",
        "# Retirada/Limpeza\n",
        "print(frase.strip())      # limpa espaços antes e depois\n",
        "\n",
        "print(frase.strip('oi'))  # limpa caracteres\n",
        "\n",
        "frase2 = \"https://google.com/h\"\n",
        "# frase2 = frase2.rstrip('h')\n",
        "print(frase2.rstrip('h'))\n",
        "print(frase2.lstrip('h'))\n",
        "print(frase2)"
      ],
      "metadata": {
        "colab": {
          "base_uri": "https://localhost:8080/"
        },
        "id": "3Arbpi-2Rs2T",
        "outputId": "15cf9fc3-d10a-41a2-cb98-e591e63c758a"
      },
      "execution_count": 39,
      "outputs": [
        {
          "output_type": "stream",
          "name": "stdout",
          "text": [
            "oi  ESCOLA Ary  Torres  oi\n",
            "oi  SENAI Ary  Torres  oi\n",
            "  SENAI Ary  Torres  \n",
            "https://google.com/\n",
            "ttps://google.com/\n",
            "https://google.com/\n"
          ]
        }
      ]
    },
    {
      "cell_type": "code",
      "source": [
        "# Divisão e Junção de Strings\n",
        "\n",
        "texto = \"SENAI Ary Torres\"\n",
        "\n",
        "# Juntar caracteres com delimitador\n",
        "print('.'.join(texto))\n",
        "\n",
        "# Dividir palavras em lista\n",
        "print(texto.split())\n",
        "texto = texto.split()\n",
        "\n",
        "print(', '.join(texto))\n",
        "\n",
        "#Acesso a Lista\n",
        "print(texto[1])\n",
        "\n",
        "#Acesso ao Último Item da Lista\n",
        "print(texto[-1])"
      ],
      "metadata": {
        "colab": {
          "base_uri": "https://localhost:8080/"
        },
        "id": "t9V7YV56UEMR",
        "outputId": "91afeb7e-1430-4e32-ef60-a29cf8d5bdc0"
      },
      "execution_count": 55,
      "outputs": [
        {
          "output_type": "stream",
          "name": "stdout",
          "text": [
            "S.E.N.A.I. .A.r.y. .T.o.r.r.e.s\n",
            "['SENAI', 'Ary', 'Torres']\n",
            "SENAI, Ary, Torres\n",
            "Ary\n",
            "Torres\n"
          ]
        }
      ]
    },
    {
      "cell_type": "code",
      "source": [
        "### Teste de Limpeza ###\n",
        "nova_frase = \"oi  SENAI  Ary  Torres  oi\"\n",
        "print(type(nova_frase))\n",
        "print(nova_frase)            # Antes\n",
        "\n",
        "nova_frase = nova_frase.strip('oi').split()\n",
        "print(type(nova_frase))\n",
        "print(' '.join(nova_frase))  # Depois"
      ],
      "metadata": {
        "id": "PewiIzh4Yb3v"
      },
      "execution_count": null,
      "outputs": []
    },
    {
      "cell_type": "markdown",
      "source": [
        "# **Desafios**"
      ],
      "metadata": {
        "id": "l-jv14fYZVSJ"
      }
    },
    {
      "cell_type": "code",
      "source": [
        "# DESAFIO 01\n",
        "\"\"\"\n",
        "Crie um programa que leia o nome completo de uma pessoa e mostre:\n",
        " \tO nome com todas as letras maiúsculas\n",
        " \tO nome com todas as letras minúsculas\n",
        " \tQuantas letras ao todo (sem considerar espaços)\n",
        " \tQuantas letras tem o primeiro nome\n",
        "\"\"\"\n",
        "\n",
        "nome = input(\"Digite o seu nome completo: \")\n",
        "print(f\"\\n{nome.upper()}\")\n",
        "print(f\"{nome.lower()}\")\n",
        "sem_espacos = len(nome.replace(' ', ''))\n",
        "print(f\"Qtde. de letras do nome:          {sem_espacos}\")\n",
        "lista = len(nome.split()[0])\n",
        "print(f\"Qtde. de letras do primeiro nome: {lista}\")"
      ],
      "metadata": {
        "id": "PSQH5rQwZZ-m",
        "outputId": "5be41aec-0959-4fef-9826-b53a81300f11",
        "colab": {
          "base_uri": "https://localhost:8080/"
        }
      },
      "execution_count": 87,
      "outputs": [
        {
          "output_type": "stream",
          "name": "stdout",
          "text": [
            "Digite o seu nome completo: kelly mendes\n",
            "\n",
            "KELLY MENDES\n",
            "kelly mendes\n",
            "Qtde. de letras do nome:          11\n",
            "Qtde. de letras do primeiro nome: 5\n"
          ]
        }
      ]
    },
    {
      "cell_type": "code",
      "source": [
        "# DESAFIO 02\n",
        "\"\"\"\n",
        "Faça um programa que leia um numero de quatro dígitos entre 1000 a 9999 e mostre na tela\n",
        "cada um dos dígitos separados.\n",
        "Ex: Digite um numero: 1979\n",
        "\n",
        "Unidade: 9\n",
        "Dezena: 7\n",
        "Centena: 9\n",
        "Milhar: 1\n",
        "\"\"\"\n",
        "\n",
        "numero = input(\"Digite um número de quatro dígitos: \")\n",
        "print(f\"\\nUnidade: {numero[3]}\")\n",
        "print(f\"Dezena:  {numero[2]}\")\n",
        "print(f\"Centena: {numero[1]}\")\n",
        "print(f\"Milhar:  {numero[0]}\")"
      ],
      "metadata": {
        "id": "eF7rFPxMZjye",
        "outputId": "3f491add-78f1-4c84-8b48-efe493fbe0c6",
        "colab": {
          "base_uri": "https://localhost:8080/"
        }
      },
      "execution_count": 75,
      "outputs": [
        {
          "output_type": "stream",
          "name": "stdout",
          "text": [
            "Digite um número de quatro dígitos: 1324\n",
            "\n",
            "Unidade: 4\n",
            "Dezena:  2\n",
            "Centena: 3\n",
            "Milhar:  1\n"
          ]
        }
      ]
    },
    {
      "cell_type": "code",
      "source": [
        "# DESAFIO 03\n",
        "\"\"\"\n",
        "Faça um programa que leia uma frase pelo teclado e mostre:\n",
        "\n",
        "Quantas vezes aparece a letra \"A\"\n",
        "Em que posição ela aparece a primeira vez\n",
        "Em que posição ela aparece a ultima vez\n",
        "\"\"\"\n",
        "\n",
        "frase = input(\"Digite uma frase: \")\n",
        "print(f\"\\nQtde. de 'A's:            {frase.count('A')} caractere(s)\")\n",
        "print(f\"Primeira aparição de 'A': {frase.find('A') + 1}o. caractere\")\n",
        "print(f\"Última aparição de 'A':   {frase.rfind('A') + 1}o. caractere\")"
      ],
      "metadata": {
        "id": "slLjxTi7ZmLN",
        "outputId": "04389410-72df-41a3-d2f6-100c8a721487",
        "colab": {
          "base_uri": "https://localhost:8080/"
        }
      },
      "execution_count": 86,
      "outputs": [
        {
          "output_type": "stream",
          "name": "stdout",
          "text": [
            "Digite uma frase: A frase A\n",
            "\n",
            "Qtde. de 'A's:            2 caractere(s)\n",
            "Primeira aparição de 'A': 1o. caractere\n",
            "Última aparição de 'A':   9o. caractere\n"
          ]
        }
      ]
    }
  ]
}