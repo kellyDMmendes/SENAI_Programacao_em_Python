{
  "nbformat": 4,
  "nbformat_minor": 0,
  "metadata": {
    "colab": {
      "provenance": [],
      "toc_visible": true,
      "authorship_tag": "ABX9TyPeLHX5Pb55LZzStcvdocgW",
      "include_colab_link": true
    },
    "kernelspec": {
      "name": "python3",
      "display_name": "Python 3"
    },
    "language_info": {
      "name": "python"
    }
  },
  "cells": [
    {
      "cell_type": "markdown",
      "metadata": {
        "id": "view-in-github",
        "colab_type": "text"
      },
      "source": [
        "<a href=\"https://colab.research.google.com/github/kellyDMmendes/SENAI_Programacao_em_Python/blob/main/03_Manipulacao_de_Strings.ipynb\" target=\"_parent\"><img src=\"https://colab.research.google.com/assets/colab-badge.svg\" alt=\"Open In Colab\"/></a>"
      ]
    },
    {
      "cell_type": "code",
      "execution_count": null,
      "metadata": {
        "id": "dBzMyw-nJ-Fy"
      },
      "outputs": [],
      "source": [
        "# Fatiamento de Strings\n",
        "\n",
        "#        012345678901234\n",
        "texto = \"Curso de Python\"\n",
        "\n",
        "print(texto[6])       # 7o. caractere\n",
        "\n",
        "print(texto[9:15])    # 10o. ao 15o. caractere\n",
        "\n",
        "print(texto[9:15:2])  # 10o. ao 15o. caractere, salto 2\n",
        "\n",
        "print(texto[:5])      # Até o 5o. caractere\n",
        "\n",
        "print(texto[9:])      # 10o. caractere em diante\n",
        "\n",
        "print(texto[::-1])    # inverter o texto\n",
        "\n",
        "nome = 'KELLY'\n",
        "print(nome[::-1])"
      ]
    },
    {
      "cell_type": "code",
      "source": [
        "# Análise de String\n",
        "\n",
        "#        0123456789012345\n",
        "frase = \"SENAI Ary Torres\"\n",
        "\n",
        "# Tamanho da String\n",
        "print(len(frase))\n",
        "\n",
        "# Contar Caracteres\n",
        "print(frase.count('e'))\n",
        "\n",
        "# Encontrar Índice (retorna -1 se não encontrar)\n",
        "print(frase.find('r'))\n",
        "\n",
        "# Encontrar Índice (a partir da direita)\n",
        "print(frase.rfind('r'))\n",
        "\n",
        "# Encontrar Índice (gra erro se não encontrar)\n",
        "print(frase.index('r'))\n",
        "\n",
        "# Verificar Existência\n",
        "print('Ary' in frase)"
      ],
      "metadata": {
        "id": "ndofLJSsN0kT"
      },
      "execution_count": null,
      "outputs": []
    },
    {
      "cell_type": "code",
      "source": [
        "# Transformação de Strings\n",
        "\n",
        "# Maiúscula\n",
        "print(frase.upper())\n",
        "\n",
        "# Minúscula\n",
        "print(frase.lower())\n",
        "\n",
        "# Primeira da Frase em Maiúscula\n",
        "print(frase.capitalize())\n",
        "\n",
        "# Primeira de Cada Palavra em Maiúscula\n",
        "print(frase.title())"
      ],
      "metadata": {
        "colab": {
          "base_uri": "https://localhost:8080/"
        },
        "id": "QgT3HBwpQ9iR",
        "outputId": "7a83fe94-ea6c-41ec-e306-3231e137e2fd"
      },
      "execution_count": 27,
      "outputs": [
        {
          "output_type": "stream",
          "name": "stdout",
          "text": [
            "SENAI ARY TORRES\n",
            "senai ary torres\n",
            "Senai ary torres\n",
            "Senai Ary Torres\n"
          ]
        }
      ]
    },
    {
      "cell_type": "code",
      "source": [
        "# Transformação de Strings\n",
        "\n",
        "#Substituir Palavras\n",
        "print(frase.replace('SENAI', 'ESCOLA'))\n",
        "\n",
        "frase = \"oi  SENAI Ary  Torres  oi\"\n",
        "\n",
        "# Retirada/Limpeza\n",
        "print(frase.strip())      # limpa espaços antes e depois\n",
        "\n",
        "print(frase.strip('oi'))  # limpa caracteres\n",
        "\n",
        "frase2 = \"https://google.com/h\"\n",
        "# frase2 = frase2.rstrip('h')\n",
        "print(frase2.rstrip('h'))\n",
        "print(frase2.lstrip('h'))\n",
        "print(frase2)"
      ],
      "metadata": {
        "colab": {
          "base_uri": "https://localhost:8080/"
        },
        "id": "3Arbpi-2Rs2T",
        "outputId": "15cf9fc3-d10a-41a2-cb98-e591e63c758a"
      },
      "execution_count": 39,
      "outputs": [
        {
          "output_type": "stream",
          "name": "stdout",
          "text": [
            "oi  ESCOLA Ary  Torres  oi\n",
            "oi  SENAI Ary  Torres  oi\n",
            "  SENAI Ary  Torres  \n",
            "https://google.com/\n",
            "ttps://google.com/\n",
            "https://google.com/\n"
          ]
        }
      ]
    },
    {
      "cell_type": "code",
      "source": [
        "# Divisão e Junção de Strings\n",
        "\n",
        "texto = \"SENAI Ary Torres\"\n",
        "\n",
        "# Juntar caracteres com delimitador\n",
        "print('.'.join(texto))\n",
        "\n",
        "# Dividir palavras em lista\n",
        "print(texto.split())\n",
        "texto = texto.split()\n",
        "\n",
        "print(', '.join(texto))\n",
        "\n",
        "#Acesso a Lista\n",
        "print(texto[1])\n",
        "\n",
        "#Acesso ao Último Item da Lista\n",
        "print(texto[-1])"
      ],
      "metadata": {
        "id": "t9V7YV56UEMR",
        "outputId": "91afeb7e-1430-4e32-ef60-a29cf8d5bdc0",
        "colab": {
          "base_uri": "https://localhost:8080/"
        }
      },
      "execution_count": 55,
      "outputs": [
        {
          "output_type": "stream",
          "name": "stdout",
          "text": [
            "S.E.N.A.I. .A.r.y. .T.o.r.r.e.s\n",
            "['SENAI', 'Ary', 'Torres']\n",
            "SENAI, Ary, Torres\n",
            "Ary\n",
            "Torres\n"
          ]
        }
      ]
    },
    {
      "cell_type": "code",
      "source": [
        "### Teste de Limpeza ###\n",
        "nova_frase = \"oi  SENAI  Ary  Torres  oi\"\n",
        "print(type(nova_frase))\n",
        "print(nova_frase)            # Antes\n",
        "\n",
        "nova_frase = nova_frase.strip('oi').split()\n",
        "print(type(nova_frase))\n",
        "print(' '.join(nova_frase))  # Depois"
      ],
      "metadata": {
        "id": "PewiIzh4Yb3v"
      },
      "execution_count": null,
      "outputs": []
    }
  ]
}