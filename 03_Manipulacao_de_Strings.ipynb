{
  "nbformat": 4,
  "nbformat_minor": 0,
  "metadata": {
    "colab": {
      "provenance": [],
      "authorship_tag": "ABX9TyMIr0s+DAqbvfgzPKsN0Hty",
      "include_colab_link": true
    },
    "kernelspec": {
      "name": "python3",
      "display_name": "Python 3"
    },
    "language_info": {
      "name": "python"
    }
  },
  "cells": [
    {
      "cell_type": "markdown",
      "metadata": {
        "id": "view-in-github",
        "colab_type": "text"
      },
      "source": [
        "<a href=\"https://colab.research.google.com/github/kellyDMmendes/SENAI_Programacao_em_Python/blob/main/03_Manipulacao_de_Strings.ipynb\" target=\"_parent\"><img src=\"https://colab.research.google.com/assets/colab-badge.svg\" alt=\"Open In Colab\"/></a>"
      ]
    },
    {
      "cell_type": "code",
      "execution_count": null,
      "metadata": {
        "id": "dBzMyw-nJ-Fy"
      },
      "outputs": [],
      "source": [
        "# Fatiamento de Strings\n",
        "\n",
        "texto = \"Curso de Python\"\n",
        "\n",
        "print(texto[6])       # 7o. caractere\n",
        "\n",
        "print(texto[9:15])    # 10o. ao 15o. caractere\n",
        "\n",
        "print(texto[9:15:2])  # 10o. ao 15o. caractere, salto 2\n",
        "\n",
        "print(texto[:5])      # Até o 5o. caractere\n",
        "\n",
        "print(texto[9:])      # 10o. caractere em diante\n",
        "\n",
        "print(texto[::-1])    # inverter o texto\n",
        "\n",
        "nome = 'KELLY'\n",
        "print(nome[::-1])"
      ]
    }
  ]
}