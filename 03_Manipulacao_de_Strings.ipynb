{
  "nbformat": 4,
  "nbformat_minor": 0,
  "metadata": {
    "colab": {
      "provenance": [],
      "authorship_tag": "ABX9TyNwTpQAY8yxsv54qa3OPgV6",
      "include_colab_link": true
    },
    "kernelspec": {
      "name": "python3",
      "display_name": "Python 3"
    },
    "language_info": {
      "name": "python"
    }
  },
  "cells": [
    {
      "cell_type": "markdown",
      "metadata": {
        "id": "view-in-github",
        "colab_type": "text"
      },
      "source": [
        "<a href=\"https://colab.research.google.com/github/kellyDMmendes/SENAI_Programacao_em_Python/blob/main/03_Manipulacao_de_Strings.ipynb\" target=\"_parent\"><img src=\"https://colab.research.google.com/assets/colab-badge.svg\" alt=\"Open In Colab\"/></a>"
      ]
    },
    {
      "cell_type": "code",
      "execution_count": null,
      "metadata": {
        "id": "dBzMyw-nJ-Fy"
      },
      "outputs": [],
      "source": [
        "# Fatiamento de Strings\n",
        "\n",
        "#        012345678901234\n",
        "texto = \"Curso de Python\"\n",
        "\n",
        "print(texto[6])       # 7o. caractere\n",
        "\n",
        "print(texto[9:15])    # 10o. ao 15o. caractere\n",
        "\n",
        "print(texto[9:15:2])  # 10o. ao 15o. caractere, salto 2\n",
        "\n",
        "print(texto[:5])      # Até o 5o. caractere\n",
        "\n",
        "print(texto[9:])      # 10o. caractere em diante\n",
        "\n",
        "print(texto[::-1])    # inverter o texto\n",
        "\n",
        "nome = 'KELLY'\n",
        "print(nome[::-1])"
      ]
    },
    {
      "cell_type": "code",
      "source": [
        "# Análise de String\n",
        "\n",
        "#        0123456789012345\n",
        "frase = \"SENAI Ary Torres\"\n",
        "\n",
        "# Tamanho da String\n",
        "print(len(frase))\n",
        "\n",
        "# Contar Caracteres\n",
        "print(frase.count('e'))\n",
        "\n",
        "# Encontrar Índice (retorna -1 se não encontrar)\n",
        "print(frase.find('r'))\n",
        "\n",
        "# Encontrar Índice (a partir da direita)\n",
        "print(frase.rfind('r'))\n",
        "\n",
        "# Encontrar Índice (gra erro se não encontrar)\n",
        "print(frase.index('r'))\n",
        "\n",
        "# Verificar Existência\n",
        "print('Ary' in frase)"
      ],
      "metadata": {
        "id": "ndofLJSsN0kT"
      },
      "execution_count": null,
      "outputs": []
    },
    {
      "cell_type": "code",
      "source": [
        "# Transformação de Strings\n",
        "\n",
        "# Maiúscula\n",
        "print(frase.upper())\n",
        "\n",
        "# Minúscula\n",
        "print(frase.lower())\n",
        "\n",
        "# Primeira da Frase em Maiúscula\n",
        "print(frase.capitalize())\n",
        "\n",
        "# Primeira de Cada Palavra em Maiúscula\n",
        "print(frase.title())"
      ],
      "metadata": {
        "colab": {
          "base_uri": "https://localhost:8080/"
        },
        "id": "QgT3HBwpQ9iR",
        "outputId": "7a83fe94-ea6c-41ec-e306-3231e137e2fd"
      },
      "execution_count": 27,
      "outputs": [
        {
          "output_type": "stream",
          "name": "stdout",
          "text": [
            "SENAI ARY TORRES\n",
            "senai ary torres\n",
            "Senai ary torres\n",
            "Senai Ary Torres\n"
          ]
        }
      ]
    },
    {
      "cell_type": "code",
      "source": [
        "# Transformação de Strings\n",
        "\n",
        "#Substituir Palavras\n",
        "print(frase.replace('SENAI', 'ESCOLA'))\n",
        "\n",
        "frase = \"oi  SENAI Ary  Torres  oi\"\n",
        "\n",
        "# Retirada/Limpeza\n",
        "print(frase.strip())      # limpa espaços antes e depois\n",
        "\n",
        "print(frase.strip('oi'))  # limpa caracteres\n",
        "\n",
        "frase2 = \"https://google.com/h\"\n",
        "print(frase2.rstrip('h'))\n",
        "print(frase2.lstrip('h'))"
      ],
      "metadata": {
        "id": "3Arbpi-2Rs2T",
        "outputId": "02327979-8043-4e94-8422-07b45f0210c8",
        "colab": {
          "base_uri": "https://localhost:8080/"
        }
      },
      "execution_count": 36,
      "outputs": [
        {
          "output_type": "stream",
          "name": "stdout",
          "text": [
            "oi  ESCOLA Ary  Torres  oi\n",
            "oi  SENAI Ary  Torres  oi\n",
            "  SENAI Ary  Torres  \n",
            "https://google.com/\n",
            "ttps://google.com/h\n"
          ]
        }
      ]
    }
  ]
}