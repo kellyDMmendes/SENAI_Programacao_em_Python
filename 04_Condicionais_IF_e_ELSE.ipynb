{
  "nbformat": 4,
  "nbformat_minor": 0,
  "metadata": {
    "colab": {
      "provenance": [],
      "toc_visible": true,
      "authorship_tag": "ABX9TyNAwQ1l6b8NnZk6LVxpTb0p",
      "include_colab_link": true
    },
    "kernelspec": {
      "name": "python3",
      "display_name": "Python 3"
    },
    "language_info": {
      "name": "python"
    }
  },
  "cells": [
    {
      "cell_type": "markdown",
      "metadata": {
        "id": "view-in-github",
        "colab_type": "text"
      },
      "source": [
        "<a href=\"https://colab.research.google.com/github/kellyDMmendes/SENAI_Programacao_em_Python/blob/main/04_Condicionais_IF_e_ELSE.ipynb\" target=\"_parent\"><img src=\"https://colab.research.google.com/assets/colab-badge.svg\" alt=\"Open In Colab\"/></a>"
      ]
    },
    {
      "cell_type": "markdown",
      "source": [
        "# **Condicionais IF e ELSE**"
      ],
      "metadata": {
        "id": "JjEuNYGcxusS"
      }
    },
    {
      "cell_type": "code",
      "source": [
        "# Operadores Relacionais (ou de Comparação)\n",
        "\"\"\"\n",
        "    ==  igual\n",
        "    !=  diferente\n",
        "    <   menor\n",
        "    <=  menor ou igual\n",
        "    >   maior\n",
        "    >=  maior ou igual\n",
        "\"\"\"\n",
        "\n",
        "# Bloco IF\n",
        "x = 15\n",
        "print(f\"X = {x}\")\n",
        "print('-'*30)\n",
        "\n",
        "if x > 5:\n",
        "    print(\"É maior que 5\")\n",
        "    if x < 8:\n",
        "        print(\"Também é menor que 8\")\n",
        "if x == 10:\n",
        "    print(\"X vale 10!\")\n",
        "print('-'*30)\n",
        "\n",
        "# Bloco IF-ELSE\n",
        "if x != 8:\n",
        "    print(\"É diferente de 8\")\n",
        "else:\n",
        "    print(\"É igual a 8\")\n",
        "print('-'*30)\n",
        "\n",
        "# Bloco IF-ELIF-ELSE\n",
        "if x <= 10:\n",
        "    print(\"Frio\")\n",
        "elif x <= 20:\n",
        "    print(\"Morno\")\n",
        "elif x <= 30:\n",
        "    print(\"Quente\")\n",
        "else:\n",
        "    print(\"Muito Quente\")\n",
        "print('-'*30)"
      ],
      "metadata": {
        "id": "jejguQTZx0_6"
      },
      "execution_count": null,
      "outputs": []
    },
    {
      "cell_type": "code",
      "source": [
        "# Operadores Lógicos\n",
        "\"\"\"\n",
        "    and | or | not\n",
        "\"\"\"\n",
        "\n",
        "# Bloco AND\n",
        "if x >= 10 and x <= 20:\n",
        "    print(\"X está entre 10 e 20\")\n",
        "else:\n",
        "    print(\"X não está entre 10 e 20\")\n",
        "print('-'*30)\n",
        "\n",
        "# Bloco OR\n",
        "if x >= 10 or x <= 20:\n",
        "    print(\"X é maior ou igual a 10 OU é menor ou igual a 20\")\n",
        "else:\n",
        "    print(\"X não é maior ou igual a 10 OU não é menor ou igual a 20\")\n",
        "print('-'*30)\n",
        "\n",
        "# Bloco IN\n",
        "escola = \"SENAI Ary Torres\"\n",
        "if 'Ary' in escola:\n",
        "    print(\"Tem Ary\")\n",
        "else:\n",
        "    print(\"Não tem Ary\")\n",
        "print('-'*30)\n",
        "\n",
        "# Bloco NOT IN\n",
        "if 'Ary' not in escola:\n",
        "    print(\"Não tem Ary\")\n",
        "else:\n",
        "    print(\"Tem Ary\")"
      ],
      "metadata": {
        "id": "ZWCDqLyr5sxl"
      },
      "execution_count": null,
      "outputs": []
    },
    {
      "cell_type": "code",
      "source": [
        "# DESAFIO 01\n",
        "\"\"\"\n",
        "Crie um programa que leia o nome de um bairro e diga se\n",
        "ele começa ou não com o nome Santo.\n",
        "\"\"\"\n",
        "\n",
        "bairro = input(\"Digite o nome de um bairro: \").title()\n",
        "if bairro.split()[0] == 'Santo':\n",
        "    print(f\"\\n\\033[32m{bairro} começa com SANTO.\\033[0m\")\n",
        "else:\n",
        "    print(f\"\\n\\033[31m{bairro} não começa com SANTO.\\033[0m\")"
      ],
      "metadata": {
        "id": "v-r342P26iO1"
      },
      "execution_count": null,
      "outputs": []
    },
    {
      "cell_type": "code",
      "source": [
        "# DESAFIO 01\n",
        "# Professor v1\n",
        "\n",
        "bairro = input(\"Digite o nome do bairro: \").upper()\n",
        "if bairro.split()[0] == 'SANTO':\n",
        "    print(f\"\\n\\033[32mO bairro {bairro.title()} começa com SANTO\")\n",
        "else:\n",
        "    print(f\"\\n\\033[31mO bairro {bairro.title()} não começa com SANTO\")"
      ],
      "metadata": {
        "id": "Sa1rlxu-AMKc"
      },
      "execution_count": null,
      "outputs": []
    },
    {
      "cell_type": "code",
      "source": [
        "# DESAFIO 02\n",
        "\"\"\"\n",
        "Crie um programa que leia o nome de uma pessoa e diga se ela\n",
        "tem \"Silva\" no nome.\n",
        "\"\"\"\n",
        "\n",
        "nome = input(\"Digite o seu nome: \").title().split()\n",
        "if 'Silva' in nome:\n",
        "    print(\"\\n\\033[32mO nome tem SILVA.\\033[0m\")\n",
        "else:\n",
        "    print(\"\\n\\033[31mO nome não tem SILVA.\\033[0m\")"
      ],
      "metadata": {
        "id": "W9dTW1qc6kY1"
      },
      "execution_count": null,
      "outputs": []
    },
    {
      "cell_type": "code",
      "source": [
        "# DESAFIO 02\n",
        "# Professor v1\n",
        "\n",
        "nome = input(\"Digite seu nome: \").upper().split()\n",
        "if 'SILVA' in nome:\n",
        "    print(\"\\nTem Silva 👍\")\n",
        "else:\n",
        "    print(\"\\nNão tem Silva 👎\")"
      ],
      "metadata": {
        "id": "HpVUudzkez62"
      },
      "execution_count": null,
      "outputs": []
    },
    {
      "cell_type": "code",
      "source": [
        "# DESAFIO 03\n",
        "\"\"\"\n",
        "Crie um programa que leia uma frase qualquer e diga se ela é um palíndromo, exemplo:\n",
        "APOS A SOPA\n",
        "A SACADA DA CASA\n",
        "A TORRE DA DERROTA\n",
        "\"\"\"\n",
        "\n",
        "frase = input(\"Digite uma frase: \").lower().replace(' ', '')\n",
        "print(f\"\\n{frase}\")\n",
        "print(frase[::-1])\n",
        "if frase == frase[::-1]:\n",
        "    print(\"\\n\\033[1;32mA frase é um palíndromo\\033[0m\")\n",
        "else:\n",
        "    print(\"\\n\\033[1;31mA frase não é um palíndromo\\033[0m\")"
      ],
      "metadata": {
        "id": "nedu-RuN6mKl"
      },
      "execution_count": null,
      "outputs": []
    },
    {
      "cell_type": "code",
      "source": [
        "#DESAFIO 03\n",
        "# Professor v1\n",
        "\n",
        "frase = input(\"Digite sua frase: \").lower().replace(' ', '')\n",
        "if frase == frase[::-1]:\n",
        "    print(\"\\n\\033[32mÉ um palíndromo\")\n",
        "else:\n",
        "    print(\"\\n\\033[31mNão um palíndromo\")"
      ],
      "metadata": {
        "id": "WkSD319FiVTt"
      },
      "execution_count": null,
      "outputs": []
    },
    {
      "cell_type": "code",
      "source": [
        "# DESAFIO 04\n",
        "\"\"\"\n",
        "Escreva um programa que faça o computador sortear um\n",
        "número inteiro entre 1 e 3 e peça para o usuário tentar\n",
        "descobrir qual foi o número escolhido pelo computador.\n",
        "\n",
        "O programa deverá escrever na tela se o usuário venceu ou\n",
        "perdeu.\n",
        "\n",
        "Biblioteca necessária:\n",
        "import random\n",
        "random.randint(0,1000)\n",
        "\"\"\"\n",
        "import random\n",
        "computador = random.randint(1, 3)\n",
        "usuario = int(input(\"Digite um número entre 1 e 3: \"))\n",
        "\n",
        "print(f\"\\nComputador: \\033[1m{computador}\\033[0m\")\n",
        "if usuario == computador:\n",
        "    print(f\"\\033[1;37;42m{' '*20}\")\n",
        "    print(\" 🥳 VOCÊ VENCEU 🥳 \")\n",
        "    print(f\"{' '*20}\\033[0m\")\n",
        "else:\n",
        "    print(f\"\\033[1;37;41m{' '*20}\")\n",
        "    print(\" 😭 VOCÊ PERDEU 😭 \")\n",
        "    print(f\"{' '*20}\\033[0m\")"
      ],
      "metadata": {
        "id": "Go72caNA-nKW"
      },
      "execution_count": null,
      "outputs": []
    },
    {
      "cell_type": "code",
      "source": [
        "# DESAFIO 05\n",
        "\"\"\"\n",
        "Escreva um programa que leia a velocidade de um carro.\n",
        "\n",
        "Se ele ultrapassar 80km/h, mostre uma mensagem dizendo que\n",
        "ele foi multado.\n",
        "\n",
        "A multa custará R$ 7,00 por cada Km acima do limite.\n",
        "\"\"\"\n",
        "velocidade = int(input(\"Velocidade do carro: \"))\n",
        "if velocidade <= 80:\n",
        "    print(f\"\\n\\033[32mCarro dentro da velocidade permitida\\033[0m\")\n",
        "else:\n",
        "    multa = (velocidade - 80) * 7\n",
        "    print(f\"\\n\\033[31mCarro acima da velocidade permitida\")\n",
        "    print(f\"\\033[1mMulta: R$ {multa:,.2f}\\033[0m\")"
      ],
      "metadata": {
        "id": "1a2N53sHWmCc"
      },
      "execution_count": null,
      "outputs": []
    },
    {
      "cell_type": "code",
      "source": [
        "# DESAFIO 06\n",
        "\"\"\"\n",
        "Crie um programa que leia um número inteiro e mostre na tela\n",
        "se ele é PAR ou IMPAR.\n",
        "\"\"\"\n",
        "numero = int(input(\"Digite um número inteiro: \"))\n",
        "if numero % 2 == 0:\n",
        "    print(f\"\\n\\033[1m{numero}\\033[0m é PAR.\")\n",
        "else:\n",
        "    print(f\"\\n\\033[1m{numero}\\033[0m é ÍMPAR.\")"
      ],
      "metadata": {
        "id": "jBOc7bxfWnSL"
      },
      "execution_count": null,
      "outputs": []
    },
    {
      "cell_type": "code",
      "source": [
        "# DESAFIO 07\n",
        "\"\"\"\n",
        "Escreva um programa que pergunte o salário de um funcionário\n",
        "e calcule o valor do seu aumento.\n",
        "Para salários superiores a R$ 1.250,00, calcule um aumento de\n",
        "10%.\n",
        "Para salários inferiores ou iguais, o aumento é de 15%.\n",
        "\"\"\"\n",
        "salario = float(input(\"Salário do funcionário: \"))\n",
        "if salario <= 1250:\n",
        "    print(f\"\\nAumento de 15%\")\n",
        "    print(f\"\\033[1mNovo salário: R$ {salario * 1.15:,.2f}\\033[0m\")\n",
        "else:\n",
        "    print(f\"\\nAumento de 10%\")\n",
        "    print(f\"\\033[1mNovo salário: R$ {salario * 1.1:,.2f}\\033[0m\")"
      ],
      "metadata": {
        "id": "y81FUuO3WrFS"
      },
      "execution_count": null,
      "outputs": []
    },
    {
      "cell_type": "code",
      "source": [
        "# DESAFIO 08\n",
        "\"\"\"\n",
        "Desenvolva um programa que pergunte a distância de uma\n",
        "viagem em Km. Calcule o preço da passagem cobrando R$\n",
        "0,50 por Km para viagens de até 200 Km e R$ 0,45 para\n",
        "viagens mais longas.\n",
        "\"\"\"\n",
        "distancia = int(input(\"Distância da viagem: \"))\n",
        "if distancia <= 200:\n",
        "    print(\"\\nViagem até 200 km\")\n",
        "    print(f\"\\033[1mPreço da passagem: R$ {distancia * 0.5:,.2f}\\033[0m\")\n",
        "else:\n",
        "    print(\"\\nViagem acima de 200 km\")\n",
        "    print(f\"\\033[1mPreço da passagem: R$ {distancia * 0.45:,.2f}\\033[0m\")"
      ],
      "metadata": {
        "id": "h3THjxvvjICG"
      },
      "execution_count": null,
      "outputs": []
    },
    {
      "cell_type": "code",
      "source": [
        "# DESAFIO 09\n",
        "\"\"\"\n",
        "Faça um programa que leia um ano qualquer e mostre se ele é\n",
        "BISSEXTO.\n",
        "O ano bissexto ocorre a cada 4 anos (exceto em anos múltiplos\n",
        "de 100 que não são múltiplos de 400)\n",
        "\"\"\"\n",
        "ano = int(input(\"Ano: \"))\n",
        "if ano % 4 == 0 and ano % 100 != 0 or ano % 400 == 0:\n",
        "    print(f\"\\n\\033[1;32m{ano} é bissexto\\033[0m\")\n",
        "else:\n",
        "    print(f\"\\n\\033[1;31m{ano} não é bissexto\\033[0m\")"
      ],
      "metadata": {
        "id": "0d1RZNcFjJG2"
      },
      "execution_count": null,
      "outputs": []
    },
    {
      "cell_type": "code",
      "source": [
        "# DESAFIO 10\n",
        "\"\"\"\n",
        "Faça um programa que leia três números e mostre qual é o\n",
        "maior e menor.\n",
        "\"\"\"\n",
        "n1 = float(input(\"Digite o 1º número: \"))\n",
        "n2 = float(input(\"Digite o 2º número: \"))\n",
        "n3 = float(input(\"Digite o 3º número: \"))\n",
        "menor = maior = n1\n",
        "\n",
        "if n1 < n2 and n1 < n3:\n",
        "    if n2 < n3:\n",
        "        maior = n3\n",
        "    else:\n",
        "        maior = n2\n",
        "elif n2 < n3:\n",
        "    menor = n2\n",
        "    if n1 < n3:\n",
        "        maior = n3\n",
        "else:\n",
        "    menor = n3\n",
        "    if n1 < n2:\n",
        "        maior = n2\n",
        "print(f\"\\nMenor: \\033[1m{menor:,.1f}\\033[0m\")\n",
        "print(f\"Maior: \\033[1m{maior:,.1f}\\033[0m\")"
      ],
      "metadata": {
        "id": "F0hT7V4ujMA2"
      },
      "execution_count": null,
      "outputs": []
    }
  ]
}