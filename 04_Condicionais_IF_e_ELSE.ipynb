{
  "nbformat": 4,
  "nbformat_minor": 0,
  "metadata": {
    "colab": {
      "provenance": [],
      "toc_visible": true,
      "authorship_tag": "ABX9TyOj6CktrNChcJgB66/7vWMq",
      "include_colab_link": true
    },
    "kernelspec": {
      "name": "python3",
      "display_name": "Python 3"
    },
    "language_info": {
      "name": "python"
    }
  },
  "cells": [
    {
      "cell_type": "markdown",
      "metadata": {
        "id": "view-in-github",
        "colab_type": "text"
      },
      "source": [
        "<a href=\"https://colab.research.google.com/github/kellyDMmendes/SENAI_Programacao_em_Python/blob/main/04_Condicionais_IF_e_ELSE.ipynb\" target=\"_parent\"><img src=\"https://colab.research.google.com/assets/colab-badge.svg\" alt=\"Open In Colab\"/></a>"
      ]
    },
    {
      "cell_type": "markdown",
      "source": [
        "# **Condicionais IF e ELSE**"
      ],
      "metadata": {
        "id": "JjEuNYGcxusS"
      }
    },
    {
      "cell_type": "code",
      "source": [
        "# Operadores Relacionais (ou de Comparação)\n",
        "\"\"\"\n",
        "    ==  igual\n",
        "    !=  diferente\n",
        "    <   menor\n",
        "    <=  menor ou igual\n",
        "    >   maior\n",
        "    >=  maior ou igual\n",
        "\"\"\"\n",
        "\n",
        "# Bloco IF\n",
        "x = 15\n",
        "print(f\"X = {x}\")\n",
        "print('-'*30)\n",
        "\n",
        "if x > 5:\n",
        "    print(\"É maior que 5\")\n",
        "    if x < 8:\n",
        "        print(\"Também é menor que 8\")\n",
        "if x == 10:\n",
        "    print(\"X vale 10!\")\n",
        "print('-'*30)\n",
        "\n",
        "# Bloco IF-ELSE\n",
        "if x != 8:\n",
        "    print(\"É diferente de 8\")\n",
        "else:\n",
        "    print(\"É igual a 8\")\n",
        "print('-'*30)\n",
        "\n",
        "# Bloco IF-ELIF-ELSE\n",
        "if x <= 10:\n",
        "    print(\"Frio\")\n",
        "elif x <= 20:\n",
        "    print(\"Morno\")\n",
        "elif x <= 30:\n",
        "    print(\"Quente\")\n",
        "else:\n",
        "    print(\"Muito Quente\")\n",
        "print('-'*30)"
      ],
      "metadata": {
        "colab": {
          "base_uri": "https://localhost:8080/"
        },
        "id": "jejguQTZx0_6",
        "outputId": "04d8ea2b-df8a-43aa-e6ca-dfe60005a17b"
      },
      "execution_count": 18,
      "outputs": [
        {
          "output_type": "stream",
          "name": "stdout",
          "text": [
            "X = 15\n",
            "------------------------------\n",
            "É maior que 5\n",
            "------------------------------\n",
            "É diferente de 8\n",
            "------------------------------\n",
            "Morno\n",
            "------------------------------\n",
            "X está entre 10 e 20\n",
            "------------------------------\n",
            "X é maior ou igual a 10 OU menor ou igual a 20\n"
          ]
        }
      ]
    },
    {
      "cell_type": "code",
      "source": [
        "# Operadores Lógicos\n",
        "\"\"\"\n",
        "    and | or | not\n",
        "\"\"\"\n",
        "\n",
        "# Bloco AND\n",
        "if x >= 10 and x <= 20:\n",
        "    print(\"X está entre 10 e 20\")\n",
        "else:\n",
        "    print(\"X não está entre 10 e 20\")\n",
        "print('-'*30)\n",
        "\n",
        "# Bloco OR\n",
        "if x >= 10 or x <= 20:\n",
        "    print(\"X é maior ou igual a 10 OU é menor ou igual a 20\")\n",
        "else:\n",
        "    print(\"X não é maior ou igual a 10 OU não é menor ou igual a 20\")\n",
        "print('-'*30)\n",
        "\n",
        "# Bloco IN\n",
        "escola = \"SENAI Ary Torres\"\n",
        "if 'Ary' in escola:\n",
        "    print(\"Tem Ary\")\n",
        "else:\n",
        "    print(\"Não tem Ary\")\n",
        "print('-'*30)\n",
        "\n",
        "# Bloco NOT IN\n",
        "if 'Ary' not in escola:\n",
        "    print(\"Não tem Ary\")\n",
        "else:\n",
        "    print(\"Tem Ary\")"
      ],
      "metadata": {
        "colab": {
          "base_uri": "https://localhost:8080/"
        },
        "id": "ZWCDqLyr5sxl",
        "outputId": "50c81977-3192-4f1a-b13b-edccaf07fe67"
      },
      "execution_count": 19,
      "outputs": [
        {
          "output_type": "stream",
          "name": "stdout",
          "text": [
            "X está entre 10 e 20\n",
            "------------------------------\n",
            "X é maior ou igual a 10 OU é menor ou igual a 20\n",
            "------------------------------\n",
            "Tem Ary\n",
            "------------------------------\n",
            "Tem Ary\n"
          ]
        }
      ]
    },
    {
      "cell_type": "code",
      "source": [
        "# DESAFIO 01\n",
        "\"\"\"\n",
        "Crie um programa que leia o nome de um bairro e diga se\n",
        "ele começa ou não com o nome Santo.\n",
        "\"\"\"\n",
        "\n",
        "bairro = input(\"Digite o nome de um bairro: \").title()\n",
        "if bairro[:5] == 'Santo':\n",
        "    print(\"\\n\\033[32mComeça com 'Santo'.\\033[0m\")\n",
        "else:\n",
        "    print(\"\\n\\033[32mNão começa com 'Santo'.\\033[0m\")"
      ],
      "metadata": {
        "id": "v-r342P26iO1",
        "outputId": "de2bd236-ff19-45ff-a1d1-e6b756455c05",
        "colab": {
          "base_uri": "https://localhost:8080/"
        }
      },
      "execution_count": 40,
      "outputs": [
        {
          "output_type": "stream",
          "name": "stdout",
          "text": [
            "Digite o nome de um bairro: santo amaro\n",
            "\n",
            "\u001b[32mComeça com 'Santo'.\u001b[0m\n"
          ]
        }
      ]
    },
    {
      "cell_type": "code",
      "source": [
        "# DESAFIO 02\n",
        "\"\"\"\n",
        "Crie um programa que leia o nome de uma pessoa e diga se ela\n",
        "tem \"Silva\" no nome.\n",
        "\"\"\"\n",
        "\n",
        "nome = input(\"Digite o seu nome: \").title()\n",
        "if 'Silva' in nome:\n",
        "    print(\"\\n\\033[32mO nome tem 'Silva'.\\033[0m\")\n",
        "else:\n",
        "    print(\"\\n\\033[31mO nome não tem 'Silva'.\\033[0m\")"
      ],
      "metadata": {
        "id": "W9dTW1qc6kY1",
        "outputId": "5d704694-ce12-43fc-87ac-fadaebf83f93",
        "colab": {
          "base_uri": "https://localhost:8080/"
        }
      },
      "execution_count": 41,
      "outputs": [
        {
          "output_type": "stream",
          "name": "stdout",
          "text": [
            "Digite o seu nome: kelly silva\n",
            "\n",
            "\u001b[32mO nome tem 'Silva'.\u001b[0m\n"
          ]
        }
      ]
    },
    {
      "cell_type": "code",
      "source": [
        "# DESAFIO 03\n",
        "\"\"\"\n",
        "Crie um programa que leia uma frase qualquer e diga se ela é um palíndromo, exemplo:\n",
        "APOS A SOPA\n",
        "A SACADA DA CASA\n",
        "A TORRE DA DERROTA\n",
        "\"\"\"\n",
        "\n",
        "frase = input(\"Digite uma frase: \").upper().replace(' ', '')\n",
        "if frase == frase[::-1]:\n",
        "    print(\"\\n\\033[32mA frase é um palíndromo.\\033[0m\")\n",
        "else:\n",
        "    print(\"\\n\\033[31mA frase não é um palíndromo.\\033[0m\")"
      ],
      "metadata": {
        "id": "nedu-RuN6mKl",
        "outputId": "b23c0b89-0a2b-419f-cf2e-cbf72bbbe5cb",
        "colab": {
          "base_uri": "https://localhost:8080/"
        }
      },
      "execution_count": 42,
      "outputs": [
        {
          "output_type": "stream",
          "name": "stdout",
          "text": [
            "Digite uma frase: apos a sopa\n",
            "\n",
            "\u001b[32mA frase é um palíndromo.\u001b[0m\n"
          ]
        }
      ]
    }
  ]
}