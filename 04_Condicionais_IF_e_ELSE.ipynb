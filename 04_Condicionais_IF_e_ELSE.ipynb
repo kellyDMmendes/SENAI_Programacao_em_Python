{
  "nbformat": 4,
  "nbformat_minor": 0,
  "metadata": {
    "colab": {
      "provenance": [],
      "toc_visible": true,
      "authorship_tag": "ABX9TyOAhdFhRbW+jn4pz8sg5C75",
      "include_colab_link": true
    },
    "kernelspec": {
      "name": "python3",
      "display_name": "Python 3"
    },
    "language_info": {
      "name": "python"
    }
  },
  "cells": [
    {
      "cell_type": "markdown",
      "metadata": {
        "id": "view-in-github",
        "colab_type": "text"
      },
      "source": [
        "<a href=\"https://colab.research.google.com/github/kellyDMmendes/SENAI_Programacao_em_Python/blob/main/04_Condicionais_IF_e_ELSE.ipynb\" target=\"_parent\"><img src=\"https://colab.research.google.com/assets/colab-badge.svg\" alt=\"Open In Colab\"/></a>"
      ]
    },
    {
      "cell_type": "markdown",
      "source": [
        "# **Condicionais IF e ELSE**"
      ],
      "metadata": {
        "id": "JjEuNYGcxusS"
      }
    },
    {
      "cell_type": "code",
      "source": [
        "# Operadores Relacionais (ou de Comparação)\n",
        "\"\"\"\n",
        "    ==  igual\n",
        "    !=  diferente\n",
        "    <   menor\n",
        "    <=  menor ou igual\n",
        "    >   maior\n",
        "    >=  maior ou igual\n",
        "\"\"\"\n",
        "\n",
        "# Bloco IF\n",
        "x = 15\n",
        "print(f\"X = {x}\")\n",
        "print('-'*30)\n",
        "\n",
        "if x > 5:\n",
        "    print(\"É maior que 5\")\n",
        "    if x < 8:\n",
        "        print(\"Também é menor que 8\")\n",
        "if x == 10:\n",
        "    print(\"X vale 10!\")\n",
        "print('-'*30)\n",
        "\n",
        "# Bloco IF-ELSE\n",
        "if x != 8:\n",
        "    print(\"É diferente de 8\")\n",
        "else:\n",
        "    print(\"É igual a 8\")\n",
        "print('-'*30)\n",
        "\n",
        "# Bloco IF-ELIF-ELSE\n",
        "if x <= 10:\n",
        "    print(\"Frio\")\n",
        "elif x <= 20:\n",
        "    print(\"Morno\")\n",
        "elif x <= 30:\n",
        "    print(\"Quente\")\n",
        "else:\n",
        "    print(\"Muito Quente\")\n",
        "print('-'*30)"
      ],
      "metadata": {
        "id": "jejguQTZx0_6"
      },
      "execution_count": null,
      "outputs": []
    },
    {
      "cell_type": "code",
      "source": [
        "# Operadores Lógicos\n",
        "\"\"\"\n",
        "    and | or | not\n",
        "\"\"\"\n",
        "\n",
        "# Bloco AND\n",
        "if x >= 10 and x <= 20:\n",
        "    print(\"X está entre 10 e 20\")\n",
        "else:\n",
        "    print(\"X não está entre 10 e 20\")\n",
        "print('-'*30)\n",
        "\n",
        "# Bloco OR\n",
        "if x >= 10 or x <= 20:\n",
        "    print(\"X é maior ou igual a 10 OU é menor ou igual a 20\")\n",
        "else:\n",
        "    print(\"X não é maior ou igual a 10 OU não é menor ou igual a 20\")\n",
        "print('-'*30)\n",
        "\n",
        "# Bloco IN\n",
        "escola = \"SENAI Ary Torres\"\n",
        "if 'Ary' in escola:\n",
        "    print(\"Tem Ary\")\n",
        "else:\n",
        "    print(\"Não tem Ary\")\n",
        "print('-'*30)\n",
        "\n",
        "# Bloco NOT IN\n",
        "if 'Ary' not in escola:\n",
        "    print(\"Não tem Ary\")\n",
        "else:\n",
        "    print(\"Tem Ary\")"
      ],
      "metadata": {
        "id": "ZWCDqLyr5sxl"
      },
      "execution_count": null,
      "outputs": []
    },
    {
      "cell_type": "code",
      "source": [
        "# DESAFIO 01\n",
        "\"\"\"\n",
        "Crie um programa que leia o nome de um bairro e diga se\n",
        "ele começa ou não com o nome Santo.\n",
        "\"\"\"\n",
        "\n",
        "bairro = input(\"Digite o nome de um bairro: \").title()\n",
        "if bairro.split()[0] == 'Santo':\n",
        "    print(f\"\\n\\033[32m{bairro} começa com SANTO.\\033[0m\")\n",
        "else:\n",
        "    print(f\"\\n\\033[31m{bairro} não começa com SANTO.\\033[0m\")"
      ],
      "metadata": {
        "id": "v-r342P26iO1"
      },
      "execution_count": null,
      "outputs": []
    },
    {
      "cell_type": "code",
      "source": [
        "# DESAFIO 01\n",
        "# Professor v1\n",
        "\n",
        "bairro = input(\"Digite o nome do bairro: \").upper()\n",
        "if bairro.split()[0] == 'SANTO':\n",
        "    print(f\"\\n\\033[32mO bairro {bairro.title()} começa com SANTO\")\n",
        "else:\n",
        "    print(f\"\\n\\033[31mO bairro {bairro.title()} não começa com SANTO\")"
      ],
      "metadata": {
        "id": "Sa1rlxu-AMKc"
      },
      "execution_count": null,
      "outputs": []
    },
    {
      "cell_type": "code",
      "source": [
        "# DESAFIO 02\n",
        "\"\"\"\n",
        "Crie um programa que leia o nome de uma pessoa e diga se ela\n",
        "tem \"Silva\" no nome.\n",
        "\"\"\"\n",
        "\n",
        "nome = input(\"Digite o seu nome: \").title()\n",
        "if 'Silva' in nome:\n",
        "    print(\"\\n\\033[32mO nome tem 'Silva'.\\033[0m\")\n",
        "else:\n",
        "    print(\"\\n\\033[31mO nome não tem 'Silva'.\\033[0m\")"
      ],
      "metadata": {
        "id": "W9dTW1qc6kY1"
      },
      "execution_count": null,
      "outputs": []
    },
    {
      "cell_type": "code",
      "source": [
        "# DESAFIO 03\n",
        "\"\"\"\n",
        "Crie um programa que leia uma frase qualquer e diga se ela é um palíndromo, exemplo:\n",
        "APOS A SOPA\n",
        "A SACADA DA CASA\n",
        "A TORRE DA DERROTA\n",
        "\"\"\"\n",
        "\n",
        "frase = input(\"Digite uma frase: \").upper().replace(' ', '')\n",
        "if frase == frase[::-1]:\n",
        "    print(\"\\n\\033[32mA frase é um palíndromo.\\033[0m\")\n",
        "else:\n",
        "    print(\"\\n\\033[31mA frase não é um palíndromo.\\033[0m\")"
      ],
      "metadata": {
        "id": "nedu-RuN6mKl"
      },
      "execution_count": null,
      "outputs": []
    },
    {
      "cell_type": "code",
      "source": [
        "# DESAFIO 04\n",
        "\"\"\"\n",
        "Escreva um programa que faça o computador sortear um\n",
        "número inteiro entre 1 e 3 e peça para o usuário tentar\n",
        "descobrir qual foi o número escolhido pelo computador.\n",
        "\n",
        "O programa deverá escrever na tela se o usuário venceu ou\n",
        "perdeu.\n",
        "\n",
        "Biblioteca necessária:\n",
        "import random\n",
        "random.randint(0,1000)\n",
        "\"\"\"\n",
        "\n",
        "import random\n",
        "\n",
        "computador = random.randint(1, 3)\n",
        "usuario = int(input(\"Digite um número entre 1 e 3: \"))\n",
        "print(f\"\\nComputador: \\033[1m{computador}\\033[0m\")\n",
        "if usuario == computador:\n",
        "    print(\"\\033[1;32mVOCÊ VENCEU!!!\\033[0m\")\n",
        "else:\n",
        "    print(\"\\033[1;31mVOCÊ PERDEU...\\033[0m\")"
      ],
      "metadata": {
        "id": "Go72caNA-nKW",
        "outputId": "ca8135bc-ee8b-4eb7-8b80-ed8abd64fcd7",
        "colab": {
          "base_uri": "https://localhost:8080/"
        }
      },
      "execution_count": 14,
      "outputs": [
        {
          "output_type": "stream",
          "name": "stdout",
          "text": [
            "Digite um número entre 1 e 3: 1\n",
            "\n",
            "Computador: \u001b[1m1\u001b[0m\n",
            "\u001b[1;32mVOCÊ VENCEU!!!\u001b[0m\n"
          ]
        }
      ]
    }
  ]
}