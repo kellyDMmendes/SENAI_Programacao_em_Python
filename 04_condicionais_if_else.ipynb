{
  "nbformat": 4,
  "nbformat_minor": 0,
  "metadata": {
    "colab": {
      "provenance": [],
      "authorship_tag": "ABX9TyOGy5sslPfE4mgU9oBo0B8F",
      "include_colab_link": true
    },
    "kernelspec": {
      "name": "python3",
      "display_name": "Python 3"
    },
    "language_info": {
      "name": "python"
    }
  },
  "cells": [
    {
      "cell_type": "markdown",
      "metadata": {
        "id": "view-in-github",
        "colab_type": "text"
      },
      "source": [
        "<a href=\"https://colab.research.google.com/github/kellyDMmendes/SENAI_Programacao_em_Python/blob/main/04_Condicionais_IF_e_ELSE.ipynb\" target=\"_parent\"><img src=\"https://colab.research.google.com/assets/colab-badge.svg\" alt=\"Open In Colab\"/></a>"
      ]
    },
    {
      "cell_type": "markdown",
      "source": [
        "# **Condicionais IF e ELSE**"
      ],
      "metadata": {
        "id": "JjEuNYGcxusS"
      }
    },
    {
      "cell_type": "code",
      "source": [
        "# Operadores Relacionais (ou de Comparação)\n",
        "\"\"\"\n",
        "    ==  igual\n",
        "    !=  diferente\n",
        "    <   menor\n",
        "    <=  menor ou igual\n",
        "    >   maior\n",
        "    >=  maior ou igual\n",
        "\"\"\"\n",
        "\n",
        "# Bloco IF\n",
        "x = 15\n",
        "print(f\"X = {x}\")\n",
        "print('-'*30)\n",
        "\n",
        "if x > 5:\n",
        "    print(\"É maior que 5\")\n",
        "    if x < 8:\n",
        "        print(\"Também é menor que 8\")\n",
        "if x == 10:\n",
        "    print(\"X vale 10!\")\n",
        "print('-'*30)\n",
        "\n",
        "# Bloco IF-ELSE\n",
        "if x != 8:\n",
        "    print(\"É diferente de 8\")\n",
        "else:\n",
        "    print(\"É igual a 8\")\n",
        "print('-'*30)\n",
        "\n",
        "# Bloco IF-ELIF-ELSE\n",
        "if x <= 10:\n",
        "    print(\"Frio\")\n",
        "elif x <= 20:\n",
        "    print(\"Morno\")\n",
        "elif x <= 30:\n",
        "    print(\"Quente\")\n",
        "else:\n",
        "    print(\"Muito Quente\")\n",
        "print('-'*30)"
      ],
      "metadata": {
        "id": "jejguQTZx0_6"
      },
      "execution_count": null,
      "outputs": []
    },
    {
      "cell_type": "code",
      "source": [
        "# Operadores Lógicos\n",
        "\"\"\"\n",
        "    and | or | not\n",
        "\"\"\"\n",
        "\n",
        "# Bloco AND\n",
        "if x >= 10 and x <= 20:\n",
        "    print(\"X está entre 10 e 20\")\n",
        "else:\n",
        "    print(\"X não está entre 10 e 20\")\n",
        "print('-'*30)\n",
        "\n",
        "# Bloco OR\n",
        "if x >= 10 or x <= 20:\n",
        "    print(\"X é maior ou igual a 10 OU é menor ou igual a 20\")\n",
        "else:\n",
        "    print(\"X não é maior ou igual a 10 OU não é menor ou igual a 20\")\n",
        "print('-'*30)\n",
        "\n",
        "# Bloco IN\n",
        "escola = \"SENAI Ary Torres\"\n",
        "if 'Ary' in escola:\n",
        "    print(\"Tem Ary\")\n",
        "else:\n",
        "    print(\"Não tem Ary\")\n",
        "print('-'*30)\n",
        "\n",
        "# Bloco NOT IN\n",
        "if 'Ary' not in escola:\n",
        "    print(\"Não tem Ary\")\n",
        "else:\n",
        "    print(\"Tem Ary\")"
      ],
      "metadata": {
        "id": "ZWCDqLyr5sxl"
      },
      "execution_count": null,
      "outputs": []
    },
    {
      "cell_type": "markdown",
      "source": [
        "# **Desafios**"
      ],
      "metadata": {
        "id": "8arjkBvwAFtR"
      }
    },
    {
      "cell_type": "code",
      "source": [
        "# DESAFIO 01\n",
        "\"\"\"\n",
        "Crie um programa que leia o nome de um bairro e diga se\n",
        "ele começa ou não com o nome Santo.\n",
        "\"\"\"\n",
        "\n",
        "bairro = input(\"Digite o nome de um bairro: \").title()\n",
        "if bairro.split()[0] == 'Santo':\n",
        "    print(f\"\\n\\033[32m{bairro} começa com SANTO.\\033[0m\")\n",
        "else:\n",
        "    print(f\"\\n\\033[31m{bairro} não começa com SANTO.\\033[0m\")"
      ],
      "metadata": {
        "id": "v-r342P26iO1"
      },
      "execution_count": null,
      "outputs": []
    },
    {
      "cell_type": "code",
      "source": [
        "# DESAFIO 01\n",
        "# Professor v1\n",
        "\n",
        "bairro = input(\"Digite o nome do bairro: \").upper()\n",
        "if bairro.split()[0] == 'SANTO':\n",
        "    print(f\"\\n\\033[32mO bairro {bairro.title()} começa com SANTO\")\n",
        "else:\n",
        "    print(f\"\\n\\033[31mO bairro {bairro.title()} não começa com SANTO\")"
      ],
      "metadata": {
        "id": "Sa1rlxu-AMKc"
      },
      "execution_count": null,
      "outputs": []
    },
    {
      "cell_type": "code",
      "source": [
        "# DESAFIO 02\n",
        "\"\"\"\n",
        "Crie um programa que leia o nome de uma pessoa e diga se ela\n",
        "tem \"Silva\" no nome.\n",
        "\"\"\"\n",
        "\n",
        "nome = input(\"Digite o seu nome: \").title().split()\n",
        "if 'Silva' in nome:\n",
        "    print(\"\\n\\033[32mO nome tem SILVA.\\033[0m\")\n",
        "else:\n",
        "    print(\"\\n\\033[31mO nome não tem SILVA.\\033[0m\")"
      ],
      "metadata": {
        "id": "W9dTW1qc6kY1"
      },
      "execution_count": null,
      "outputs": []
    },
    {
      "cell_type": "code",
      "source": [
        "# DESAFIO 02\n",
        "# Professor v1\n",
        "\n",
        "nome = input(\"Digite seu nome: \").upper().split()\n",
        "if 'SILVA' in nome:\n",
        "    print(\"\\nTem Silva 👍\")\n",
        "else:\n",
        "    print(\"\\nNão tem Silva 👎\")"
      ],
      "metadata": {
        "id": "HpVUudzkez62"
      },
      "execution_count": null,
      "outputs": []
    },
    {
      "cell_type": "code",
      "source": [
        "# DESAFIO 03\n",
        "\"\"\"\n",
        "Crie um programa que leia uma frase qualquer e diga se ela é um palíndromo, exemplo:\n",
        "APOS A SOPA\n",
        "A SACADA DA CASA\n",
        "A TORRE DA DERROTA\n",
        "\"\"\"\n",
        "\n",
        "frase = input(\"Digite uma frase: \").lower().replace(' ', '')\n",
        "print(f\"\\n{frase}\")\n",
        "print(frase[::-1])\n",
        "if frase == frase[::-1]:\n",
        "    print(\"\\n\\033[1;32mA frase é um palíndromo\\033[0m\")\n",
        "else:\n",
        "    print(\"\\n\\033[1;31mA frase não é um palíndromo\\033[0m\")"
      ],
      "metadata": {
        "id": "nedu-RuN6mKl"
      },
      "execution_count": null,
      "outputs": []
    },
    {
      "cell_type": "code",
      "source": [
        "#DESAFIO 03\n",
        "# Professor v1\n",
        "\n",
        "frase = input(\"Digite sua frase: \").lower().replace(' ', '')\n",
        "if frase == frase[::-1]:\n",
        "    print(\"\\n\\033[32mÉ um palíndromo\")\n",
        "else:\n",
        "    print(\"\\n\\033[31mNão um palíndromo\")"
      ],
      "metadata": {
        "id": "WkSD319FiVTt"
      },
      "execution_count": null,
      "outputs": []
    },
    {
      "cell_type": "code",
      "source": [
        "# DESAFIO 04\n",
        "\"\"\"\n",
        "Escreva um programa que faça o computador sortear um\n",
        "número inteiro entre 1 e 3 e peça para o usuário tentar\n",
        "descobrir qual foi o número escolhido pelo computador.\n",
        "\n",
        "O programa deverá escrever na tela se o usuário venceu ou\n",
        "perdeu.\n",
        "\n",
        "Biblioteca necessária:\n",
        "import random\n",
        "random.randint(0,1000)\n",
        "\"\"\"\n",
        "import random\n",
        "computador = random.randint(1, 3)\n",
        "usuario = int(input(\"Digite um número entre 1 e 3: \"))\n",
        "\n",
        "print(f\"\\nComputador: \\033[1m{computador}\\033[0m\")\n",
        "if usuario == computador:\n",
        "    print(f\"\\033[1;37;42m{' '*20}\")\n",
        "    print(\" 🥳 VOCÊ VENCEU 🥳 \")\n",
        "    print(f\"{' '*20}\\033[0m\")\n",
        "else:\n",
        "    print(f\"\\033[1;37;41m{' '*20}\")\n",
        "    print(\" 😭 VOCÊ PERDEU 😭 \")\n",
        "    print(f\"{' '*20}\\033[0m\")"
      ],
      "metadata": {
        "id": "Go72caNA-nKW"
      },
      "execution_count": null,
      "outputs": []
    },
    {
      "cell_type": "code",
      "source": [
        "# DESAFIO 04\n",
        "# Professor v1\n",
        "import random\n",
        "pc = random.randint(1, 3)\n",
        "pl = int(input(\"Adivinhe o número do computador: (1 a 3): \"))\n",
        "if pc == pl:\n",
        "    print(\"\\nVenceu 😎\")\n",
        "else:\n",
        "    print(f\"\\nPerdeu, o computador escolheu: {pc} 😥\")"
      ],
      "metadata": {
        "id": "XX-KzRtGwCo3"
      },
      "execution_count": null,
      "outputs": []
    },
    {
      "cell_type": "code",
      "source": [
        "# DESAFIO 04\n",
        "# Professor v2\n",
        "import random\n",
        "pc = random.randint(1, 3)\n",
        "pl = int(input(\"Adivinhe o número do computador: (1 a 3): \"))\n",
        "print(\"\\nVenceu 😎\" if pc == pl else f\"\\nPerdeu, o computador escolheu: {pc} 😥\")"
      ],
      "metadata": {
        "id": "Z9JhWbz9wGi9"
      },
      "execution_count": null,
      "outputs": []
    },
    {
      "cell_type": "code",
      "source": [
        "# DESAFIO 05\n",
        "\"\"\"\n",
        "Escreva um programa que leia a velocidade de um carro.\n",
        "\n",
        "Se ele ultrapassar 80km/h, mostre uma mensagem dizendo que\n",
        "ele foi multado.\n",
        "\n",
        "A multa custará R$ 7,00 por cada Km acima do limite.\n",
        "\"\"\"\n",
        "velocidade = int(input(\"Velocidade do carro: \"))\n",
        "if velocidade <= 80:\n",
        "    print(f\"\\n\\033[32mCarro dentro da velocidade permitida\\033[0m\")\n",
        "else:\n",
        "    multa = (velocidade - 80) * 7\n",
        "    print(f\"\\n\\033[31mCarro acima da velocidade permitida\")\n",
        "    print(f\"\\033[1mMulta: R$ {multa:,.2f}\\033[0m\")"
      ],
      "metadata": {
        "id": "1a2N53sHWmCc"
      },
      "execution_count": null,
      "outputs": []
    },
    {
      "cell_type": "code",
      "source": [
        "# DESAFIO 05\n",
        "# Professor v1\n",
        "velocidade = float(input(\"Digite a velocidade:\\n\"))\n",
        "if velocidade > 80:\n",
        "    print(f\"Multado R$ {(velocidade-80)*7:,.2f}\")\n",
        "else:\n",
        "    print(\"Dentro do limite de velocidade!\")"
      ],
      "metadata": {
        "id": "_Xc7lbjr1NI0"
      },
      "execution_count": null,
      "outputs": []
    },
    {
      "cell_type": "code",
      "source": [
        "# DESAFIO 06\n",
        "\"\"\"\n",
        "Crie um programa que leia um número inteiro e mostre na tela\n",
        "se ele é PAR ou IMPAR.\n",
        "\"\"\"\n",
        "numero = int(input(\"Digite um número inteiro: \"))\n",
        "if numero % 2 == 0:\n",
        "    print(f\"\\n\\033[1m{numero}\\033[0m é PAR.\")\n",
        "else:\n",
        "    print(f\"\\n\\033[1m{numero}\\033[0m é ÍMPAR.\")"
      ],
      "metadata": {
        "id": "jBOc7bxfWnSL"
      },
      "execution_count": null,
      "outputs": []
    },
    {
      "cell_type": "code",
      "source": [
        "# DESAFIO 06\n",
        "# Professor v1\n",
        "num = int(input())\n",
        "if num%2 == 0:\n",
        "    print('par')\n",
        "else:\n",
        "    print('impar')"
      ],
      "metadata": {
        "id": "5FfPIhD6-EEx"
      },
      "execution_count": null,
      "outputs": []
    },
    {
      "cell_type": "code",
      "source": [
        "# DESAFIO 06\n",
        "# Professor v2\n",
        "numero = int(input(\"Digite um número: \"))\n",
        "if numero%2 == 0:\n",
        "    print(f\"\\nO número '{numero}' é PAR!\")\n",
        "else:\n",
        "    print(f\"\\nO número '{numero}' é ÍMPAR!\")"
      ],
      "metadata": {
        "id": "yT4MBa39-Go4"
      },
      "execution_count": null,
      "outputs": []
    },
    {
      "cell_type": "code",
      "source": [
        "# DESAFIO 07\n",
        "\"\"\"\n",
        "Escreva um programa que pergunte o salário de um funcionário\n",
        "e calcule o valor do seu aumento.\n",
        "Para salários superiores a R$ 1.250,00, calcule um aumento de\n",
        "10%.\n",
        "Para salários inferiores ou iguais, o aumento é de 15%.\n",
        "\"\"\"\n",
        "salario = float(input(\"Salário do funcionário: \"))\n",
        "if salario <= 1250:\n",
        "    print(f\"\\nAumento de 15%\")\n",
        "    print(f\"\\033[1mNovo salário: R$ {salario * 1.15:,.2f}\\033[0m\")\n",
        "else:\n",
        "    print(f\"\\nAumento de 10%\")\n",
        "    print(f\"\\033[1mNovo salário: R$ {salario * 1.1:,.2f}\\033[0m\")"
      ],
      "metadata": {
        "id": "y81FUuO3WrFS"
      },
      "execution_count": null,
      "outputs": []
    },
    {
      "cell_type": "code",
      "source": [
        "# DESAFIO 07\n",
        "# Professor v1\n",
        "salario = float(input(\"Digite o salário: \"))\n",
        "if salario > 1250:\n",
        "    print(f\"\\nSeu novo salário é: R$ {salario+salario*(10/100):,.2f}\")\n",
        "else:\n",
        "    print(f\"\\nSeu novo salário é: R$ {salario+salario*(15/100):,.2f}\")"
      ],
      "metadata": {
        "id": "kHnJLuSX-quR"
      },
      "execution_count": null,
      "outputs": []
    },
    {
      "cell_type": "code",
      "source": [
        "# DESAFIO 08\n",
        "\"\"\"\n",
        "Desenvolva um programa que pergunte a distância de uma\n",
        "viagem em Km. Calcule o preço da passagem cobrando R$\n",
        "0,50 por Km para viagens de até 200 Km e R$ 0,45 para\n",
        "viagens mais longas.\n",
        "\"\"\"\n",
        "distancia = int(input(\"Distância da viagem: \"))\n",
        "if distancia <= 200:\n",
        "    print(\"\\nViagem até 200 km\")\n",
        "    print(f\"\\033[1mPreço da passagem: R$ {distancia * 0.5:,.2f}\\033[0m\")\n",
        "else:\n",
        "    print(\"\\nViagem acima de 200 km\")\n",
        "    print(f\"\\033[1mPreço da passagem: R$ {distancia * 0.45:,.2f}\\033[0m\")"
      ],
      "metadata": {
        "id": "h3THjxvvjICG"
      },
      "execution_count": null,
      "outputs": []
    },
    {
      "cell_type": "code",
      "source": [
        "# DESAFIO 08\n",
        "# Professor v1\n",
        "kms = float(input(\"Digite a distância em Kms: \"))\n",
        "if kms <= 200:\n",
        "    print(f\"\\nValor da passagem: R$ {kms*0.5:,.2f}\")\n",
        "else:\n",
        "    print(f\"\\nValor da passagem: R$ {kms*0.45:,.2f}\")"
      ],
      "metadata": {
        "id": "fRFyfWsqBgE3"
      },
      "execution_count": null,
      "outputs": []
    },
    {
      "cell_type": "code",
      "source": [
        "# DESAFIO 09\n",
        "\"\"\"\n",
        "Faça um programa que leia um ano qualquer e mostre se ele é\n",
        "BISSEXTO.\n",
        "O ano bissexto ocorre a cada 4 anos (exceto em anos múltiplos\n",
        "de 100 que não são múltiplos de 400)\n",
        "\"\"\"\n",
        "ano = int(input(\"Ano: \"))\n",
        "if ano % 4 == 0 and ano % 100 != 0 or ano % 400 == 0:\n",
        "    print(f\"\\n\\033[1;32m{ano} é bissexto\\033[0m\")\n",
        "else:\n",
        "    print(f\"\\n\\033[1;31m{ano} não é bissexto\\033[0m\")"
      ],
      "metadata": {
        "id": "0d1RZNcFjJG2"
      },
      "execution_count": null,
      "outputs": []
    },
    {
      "cell_type": "code",
      "source": [
        "# DESAFIO 10\n",
        "\"\"\"\n",
        "Faça um programa que leia três números e mostre qual é o\n",
        "maior e menor.\n",
        "\"\"\"\n",
        "n1 = float(input(\"Digite o 1º número: \"))\n",
        "n2 = float(input(\"Digite o 2º número: \"))\n",
        "n3 = float(input(\"Digite o 3º número: \"))\n",
        "menor = maior = n1\n",
        "\n",
        "if n1 < n2 and n1 < n3:\n",
        "    if n2 < n3:\n",
        "        maior = n3\n",
        "    else:\n",
        "        maior = n2\n",
        "elif n2 < n3:\n",
        "    menor = n2\n",
        "    if n1 < n3:\n",
        "        maior = n3\n",
        "else:\n",
        "    menor = n3\n",
        "    if n1 < n2:\n",
        "        maior = n2\n",
        "print(f\"\\nMenor: \\033[1m{menor:,.1f}\\033[0m\")\n",
        "print(f\"Maior: \\033[1m{maior:,.1f}\\033[0m\")"
      ],
      "metadata": {
        "id": "F0hT7V4ujMA2"
      },
      "execution_count": null,
      "outputs": []
    },
    {
      "cell_type": "code",
      "source": [
        "# DESAFIO 11\n",
        "\"\"\"\n",
        "Desenvolva um programa que leia o comprimento de três retas\n",
        "e diga ao usuário se elas podem ou não formar um triângulo.\n",
        "Condições Necessárias:\n",
        "a + b > c\n",
        "a + c > b\n",
        "b + c > a\n",
        "\"\"\"\n",
        "a = float(input(\"1ª reta: \"))\n",
        "b = float(input(\"2ª reta: \"))\n",
        "c = float(input(\"3ª reta: \"))\n",
        "\n",
        "if a + b > c and a + c > b and b + c > a:\n",
        "    print(\"\\n\\033[32mAs três retas formam um triângulo\\033[0m\")\n",
        "else:\n",
        "    print(\"\\n\\033[31mAs três retas não formam um triângulo\\033[0m\")"
      ],
      "metadata": {
        "id": "I3dRjOz-1md6"
      },
      "execution_count": null,
      "outputs": []
    },
    {
      "cell_type": "code",
      "source": [
        "# DESAFIO 12\n",
        "\"\"\"\n",
        "Escreva um programa para aprovar um empréstimo bancário\n",
        "para a compra de uma casa. O programa vai perguntar o valor\n",
        "da casa, o salário do comprador e em quantos anos ele vai\n",
        "pagar.\n",
        "\n",
        "Calcule o valor da prestação mensal, sabendo que ela não\n",
        "pode exceder 30% do salário ou então o empréstimo será\n",
        "negado.\n",
        "\"\"\"\n",
        "valor = float(input(\"Valor da casa: \"))\n",
        "salario = float(input(\"Salário do comprador: \"))\n",
        "anos = int(input(\"Anos para pagamento: \"))\n",
        "\n",
        "prestacao = valor / anos\n",
        "if prestacao <= salario * 0.3:\n",
        "    print(\"\\n\\033[1;32mEmpréstimo aprovado\\033[0m\")\n",
        "    print(f\"Valor das prestações: \\033[1mR${prestacao:,.2f}\\033[0m/mês\")\n",
        "else:\n",
        "    print(\"\\n\\033[1;31mEmpréstimo negado\\033[0m\")"
      ],
      "metadata": {
        "id": "0cTGxWzK1nXZ"
      },
      "execution_count": null,
      "outputs": []
    },
    {
      "cell_type": "code",
      "source": [
        "# DESAFIO 13\n",
        "\"\"\"\n",
        "Escreva um programa que leia um número inteiro e peça para o\n",
        "usuário escolher qual será a base de conversão:\n",
        "\n",
        "1 para binário bin()\n",
        "2 para octal oct()\n",
        "3 para hexadecimal hex()\n",
        "\"\"\"\n",
        "numero = int(input(\"Digite um número: \"))\n",
        "print(\"    2 - Binário\")\n",
        "print(\"    8 - Octal\")\n",
        "print(\"    16 - Hexadecimal\")\n",
        "base = int(input(\"Converter para: \"))\n",
        "\n",
        "if base == 2:\n",
        "    print(f\"\\n{numero} em binário: {bin(numero)}\")\n",
        "elif base == 8:\n",
        "    print(f\"\\n{numero} em octal: {oct(numero)}\")\n",
        "elif base == 16:\n",
        "    print(f\"\\n{numero} em hexadecimal: {hex(numero)}\")\n",
        "else:\n",
        "    print(\"\\nBase inválida\")"
      ],
      "metadata": {
        "id": "mUuNN3LZBzuf",
        "outputId": "2f211809-647a-4a5e-8f11-47a3b4713a47",
        "colab": {
          "base_uri": "https://localhost:8080/"
        }
      },
      "execution_count": null,
      "outputs": [
        {
          "output_type": "stream",
          "name": "stdout",
          "text": [
            "Digite um número: 100\n",
            "    2 - Binário\n",
            "    8 - Octal\n",
            "    16 - Hexadecimal\n",
            "Converter para: 10\n",
            "\n",
            "Base inválida\n"
          ]
        }
      ]
    },
    {
      "cell_type": "code",
      "source": [
        "# DESAFIO 14\n",
        "\"\"\"\n",
        "Escreva um programa que leia dois números inteiros e\n",
        "compare- os, mostrando na tela uma mensagem:\n",
        "\n",
        "O primeiro valor é maior\n",
        "O segundo valor é maior\n",
        "Não existe valor maior, os dois são iguais\n",
        "\"\"\"\n",
        "n1 = int(input(\"1º número: \"))\n",
        "n2 = int(input(\"2º número: \"))\n",
        "if n1 > n2:\n",
        "    print(\"\\nO primeiro valor é maior\")\n",
        "elif n2 > n1:\n",
        "    print(\"\\nO segundo valor é maior\")\n",
        "else:\n",
        "    print(\"\\nNão existe valor maior, os dois são iguais\")"
      ],
      "metadata": {
        "id": "_XFs7ZCQB3J-",
        "outputId": "1da7408d-7a7e-41e7-f759-a3500b397057",
        "colab": {
          "base_uri": "https://localhost:8080/"
        }
      },
      "execution_count": null,
      "outputs": [
        {
          "output_type": "stream",
          "name": "stdout",
          "text": [
            "1º número: 1\n",
            "2º número: 1\n",
            "\n",
            "Não existe valor maior, os dois são iguais\n"
          ]
        }
      ]
    },
    {
      "cell_type": "code",
      "source": [
        "# DESAFIO 15\n",
        "\"\"\"\n",
        "Faça um programa que leia o ano de nascimento de um jovem\n",
        "e informe, de acordo com sua idade:\n",
        "\n",
        "Se ele ainda vai se alistar ao serviço militar\n",
        "Se é a hora de se alistar\n",
        "Se já passou o tempo do alistamento\n",
        "\n",
        "Seu programa também deverá mostrar o tempo que falta ou\n",
        "que passou do prazo.\n",
        "\"\"\"\n",
        "ano = int(input(\"Ano de nascimento: \"))\n",
        "\n",
        "idade = 2024 - ano\n",
        "if idade < 18:\n",
        "    print(f\"\\nEle vai se alistar daqui a {18 - idade} anos\")\n",
        "elif idade > 18:\n",
        "    print(f\"\\nEle devia ter se alistado há {idade - 18} anos\")\n",
        "else:\n",
        "    print(f\"\\nEle já pode se alistar\")"
      ],
      "metadata": {
        "id": "2ywPipvIB554",
        "outputId": "a662802f-b230-436b-a3b3-8c963a6c074d",
        "colab": {
          "base_uri": "https://localhost:8080/"
        }
      },
      "execution_count": null,
      "outputs": [
        {
          "output_type": "stream",
          "name": "stdout",
          "text": [
            "Ano de nascimento: 2006\n",
            "Ele já pode se alistar\n"
          ]
        }
      ]
    },
    {
      "cell_type": "code",
      "source": [
        "# DESAFIO 16\n",
        "\"\"\"\n",
        "Crie um programa que leia duas notas entre 0 a 10 de um aluno\n",
        "e calcule sua média, mostrando uma mensagem no final, de\n",
        "acordo com a média atingida.\n",
        "\n",
        "Média abaixo de 5.0: REPROVADO\n",
        "Média entre 5.0 a 6.9: RECUPERAÇÃO\n",
        "Média igual ou superior a 7.0: APROVADO\n",
        "\"\"\"\n",
        "n1 = float(input(\"1ª nota: \"))\n",
        "n2 = float(input(\"2ª nota: \"))\n",
        "\n",
        "media = (n1 + n2) / 2\n",
        "print(f\"\\nMedia: {media:,.1f}\")\n",
        "\n",
        "if media < 5:\n",
        "    print(\"Reprovado\")\n",
        "elif media < 7:\n",
        "    print(\"Recuperação\")\n",
        "else:\n",
        "    print(\"Aprovado\")"
      ],
      "metadata": {
        "id": "aNKLt1E4B8RX",
        "outputId": "f39d2687-6df0-439d-ef5b-f61113e741fe",
        "colab": {
          "base_uri": "https://localhost:8080/"
        }
      },
      "execution_count": null,
      "outputs": [
        {
          "output_type": "stream",
          "name": "stdout",
          "text": [
            "1ª nota: 10\n",
            "2ª nota: 10\n",
            "\n",
            "Media: 10.0\n",
            "Aprovado\n"
          ]
        }
      ]
    },
    {
      "cell_type": "code",
      "source": [
        "# DESAFIO 17\n",
        "\"\"\"\n",
        "A confederação Nacional de Natação precisa de uma programa\n",
        "que leia o ano de nascimento de uma atleta e mostre sua\n",
        "categoria, de acordo com a idade.\n",
        "\n",
        "Até 9 anos: MIRIM\n",
        "Até 14 anos: INFANTIL\n",
        "Até 19 anos: JUNIOR\n",
        "Até 24 anos: SÊNIOR\n",
        "Acima: MASTER\n",
        "\"\"\"\n",
        "anoAtual      = 2024\n",
        "anoNascimento = int(input(\"Digite seu ano de nascimento: \"))\n",
        "idade         = anoAtual-anoNascimento\n",
        "\n",
        "if idade <= 9:\n",
        "    print(\"\\nMIRIM\")\n",
        "elif idade <= 14:\n",
        "    print(\"\\nINFANTIL\")\n",
        "elif idade <= 19:\n",
        "    print(\"\\nJÚNIOR\")\n",
        "elif idade <= 24:\n",
        "    print(\"\\nSÊNIOR\")\n",
        "else:\n",
        "    print(\"\\nMASTER\")"
      ],
      "metadata": {
        "id": "BsRUnf2_B-kP"
      },
      "execution_count": null,
      "outputs": []
    }
  ]
}
