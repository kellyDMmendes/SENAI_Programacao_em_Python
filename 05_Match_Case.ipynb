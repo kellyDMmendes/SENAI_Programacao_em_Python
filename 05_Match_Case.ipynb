{
  "nbformat": 4,
  "nbformat_minor": 0,
  "metadata": {
    "colab": {
      "provenance": [],
      "authorship_tag": "ABX9TyNGUVjJTd7FSxqYjL7GSmhi",
      "include_colab_link": true
    },
    "kernelspec": {
      "name": "python3",
      "display_name": "Python 3"
    },
    "language_info": {
      "name": "python"
    }
  },
  "cells": [
    {
      "cell_type": "markdown",
      "metadata": {
        "id": "view-in-github",
        "colab_type": "text"
      },
      "source": [
        "<a href=\"https://colab.research.google.com/github/kellyDMmendes/SENAI_Programacao_em_Python/blob/main/05_Match_Case.ipynb\" target=\"_parent\"><img src=\"https://colab.research.google.com/assets/colab-badge.svg\" alt=\"Open In Colab\"/></a>"
      ]
    },
    {
      "cell_type": "markdown",
      "source": [
        "# **Match Case**"
      ],
      "metadata": {
        "id": "0zb7vG8omiou"
      }
    },
    {
      "cell_type": "code",
      "execution_count": null,
      "metadata": {
        "id": "bYkhfT9QmYfO"
      },
      "outputs": [],
      "source": [
        "# OPÇÃO ÚNICA\n",
        "\n",
        "operacao = input(\"\"\"\n",
        "Escolha uma opção:\n",
        "\n",
        "[1] Opção 1\n",
        "[2] Opção 2\n",
        "[3] Opção 3\n",
        "\"\"\")\n",
        "\n",
        "match operacao:\n",
        "    case '1':\n",
        "        print(\"Opção 1 foi escolhida\")\n",
        "    case '2':\n",
        "        print(\"Opção 2 foi escolhida\")\n",
        "    case '3':\n",
        "        print(\"Opção 3 foi escolhida\")\n",
        "    case _:\n",
        "        print(\"Opção inválida\")"
      ]
    },
    {
      "cell_type": "code",
      "source": [
        "# OPÇÃO MÚLTIPLA\n",
        "\n",
        "operacao = input(\"\"\"\n",
        "Escolha uma opção:\n",
        "\n",
        "[1] Opção 1\n",
        "[2] Opção 2\n",
        "[3] Opção 3\n",
        "\"\"\")\n",
        "\n",
        "match operacao:\n",
        "    case '1' | '2':\n",
        "        print(\"Opção 1 OU 2 escolhida\")\n",
        "    case '3':\n",
        "        print(\"Opção 3 foi escolhida\")\n",
        "    case _:\n",
        "        print(\"Opção inválida\")"
      ],
      "metadata": {
        "id": "w7fZfW5MmnD-"
      },
      "execution_count": null,
      "outputs": []
    },
    {
      "cell_type": "code",
      "source": [
        "# OPÇÃO MÚLTIPLA COM case _ if\n",
        "\n",
        "numero = int(input(\"Digite um número: \"))\n",
        "\n",
        "match numero:\n",
        "    case 1 | 3 | 5 | 7 | 9:\n",
        "        print(\"É ímpar entre 1 e 10!\")\n",
        "    case _ if numero < 0:\n",
        "        print(\"É um número negativo!\")\n",
        "    case _:\n",
        "        print(\"Um número qualquer...\")"
      ],
      "metadata": {
        "id": "FIlUh9y8mpb9"
      },
      "execution_count": null,
      "outputs": []
    },
    {
      "cell_type": "markdown",
      "source": [
        "# **Desafios**"
      ],
      "metadata": {
        "id": "aZtVSTjKmsee"
      }
    },
    {
      "cell_type": "code",
      "source": [
        "# DESAFIO 01\n",
        "\"\"\"\n",
        "Escreva um programa em Python que solicite ao usuário uma nota inteira entre 0 e 10.\n",
        "Use o comando `match case` para classificar a nota de acordo com a tabela a seguir:\n",
        "\n",
        "- 0-4: Nota Baixa\n",
        "- 5-7: Nota Média\n",
        "- 8-9: Nota Alta\n",
        "- 10: Nota Excelente\n",
        "\n",
        "Exiba a classificação correspondente.\n",
        "\"\"\"\n",
        "nota = int(input(\"Digite sua nota: \"))\n",
        "\n",
        "match nota:\n",
        "    case 0 | 1 | 2 | 3 | 4:\n",
        "        print(f\"\\n\\033[31mNota Baixa: \\033[1m{nota}\\033[0m\")\n",
        "    case 5 | 6 | 7:\n",
        "        print(f\"\\n\\033[33mNota Média: \\033[1m{nota}\\033[0m\")\n",
        "    case 8 | 9:\n",
        "        print(f\"\\n\\033[32mNota Alta: \\033[1m{nota}\\033[0m\")\n",
        "    case 10:\n",
        "        print(f\"\\n\\033[92mNota Excelente: \\033[1m{nota}\\033[0m\")\n",
        "    case _:\n",
        "        print(\"\\n\\033[91mNota inválida...\\033[0m\")"
      ],
      "metadata": {
        "id": "z6QhbwQNmvgO"
      },
      "execution_count": null,
      "outputs": []
    },
    {
      "cell_type": "code",
      "source": [
        "# DESAFIO 01\n",
        "# Professor v1\n",
        "nota = int(input(\"Digite sua nota: \"))\n",
        "\n",
        "match nota:\n",
        "    case 0 | 1 | 2 | 3 | 4:\n",
        "        print(f\"\\nNota Baixa: {nota}\")\n",
        "    case 5 | 6 | 7:\n",
        "        print(f\"\\nNota Média: {nota}\")\n",
        "    case 8 | 9:\n",
        "        print(f\"\\nNota Alta: {nota}\")\n",
        "    case 10:\n",
        "        print(f\"\\nNota Excelente: {nota}\")\n",
        "    case _:\n",
        "        print(\"Nota inválida...\")"
      ],
      "metadata": {
        "id": "mYq9CpwT0pVl"
      },
      "execution_count": null,
      "outputs": []
    },
    {
      "cell_type": "code",
      "source": [
        "# DESAFIO 02\n",
        "\"\"\"\n",
        "Refaça o DESAFIO 01 considerando notas decimais.\n",
        "\"\"\"\n",
        "nota = float(input(\"Digite sua nota: \"))\n",
        "\n",
        "match nota:\n",
        "    case _ if nota < 0:\n",
        "        print(\"\\n\\033[91mNota inválida...\\033[0m\")\n",
        "    case _ if nota <= 4:\n",
        "        print(f\"\\n\\033[31mNota Baixa: \\033[1m{nota}\\033[0m\")\n",
        "    case _ if nota <= 7:\n",
        "        print(f\"\\n\\033[33mNota Média: \\033[1m{nota}\\033[0m\")\n",
        "    case _ if nota <= 9:\n",
        "        print(f\"\\n\\033[32mNota Alta: \\033[1m{nota}\\033[0m\")\n",
        "    case _ if nota <= 10:\n",
        "        print(f\"\\n\\033[92mNota Excelente: \\033[1m{nota}\\033[0m\")\n",
        "    case _:\n",
        "        print(\"\\n\\033[91mNota inválida...\\033[0m\")"
      ],
      "metadata": {
        "id": "179R-UabmxV1"
      },
      "execution_count": null,
      "outputs": []
    },
    {
      "cell_type": "code",
      "source": [
        "# DESAFIO 02\n",
        "# Porfessor v1\n",
        "nota = float(input(\"Digite sua nota: \"))\n",
        "\n",
        "match nota:\n",
        "    case _ if nota < 0:\n",
        "        print(f\"\\nNota inválida\")\n",
        "    case _ if nota <= 4:\n",
        "        print(f\"\\nNota Baixa: {nota}\")\n",
        "    case _ if nota <= 7:\n",
        "        print(f\"\\nNota Média: {nota}\")\n",
        "    case _ if nota <= 9:\n",
        "        print(f\"\\nNota Alta: {nota}\")\n",
        "    case _ if nota <= 10:\n",
        "        print(f\"\\nNota Excelente: {nota}\")\n",
        "    case _:\n",
        "        print(f\"\\nNota inválida\")"
      ],
      "metadata": {
        "id": "EMLZCHKg0p0F"
      },
      "execution_count": null,
      "outputs": []
    },
    {
      "cell_type": "code",
      "source": [
        "# DESAFIO 03\n",
        "\"\"\"\n",
        "Crie um programa que peça ao usuário para inserir um número de 1 a 7,\n",
        "onde cada número representa um dia da semana (1 para domingo, 2 para segunda-feira e assim por diante).\n",
        "Use match case para imprimir o nome do dia da semana correspondente.\n",
        "\"\"\"\n",
        "dia = int(input(\"Digite o dia da semana (1 a 7): \"))\n",
        "\n",
        "match dia:\n",
        "    case 1:\n",
        "        print(\"\\n\\033[1mDomingo\\033[0m\")\n",
        "    case 2:\n",
        "        print(\"\\n\\033[1mSegunda-feira\\033[0m\")\n",
        "    case 3:\n",
        "        print(\"\\n\\033[1mTerça-feira\\033[0m\")\n",
        "    case 4:\n",
        "        print(\"\\n\\033[1mQuarta-feira\\033[0m\")\n",
        "    case 5:\n",
        "        print(\"\\n\\033[1mQuinta-feira\\033[0m\")\n",
        "    case 6:\n",
        "        print(\"\\n\\033[1mSexta-feira\\033[0m\")\n",
        "    case 7:\n",
        "        print(\"\\n\\033[1mSábado\\033[0m\")\n",
        "    case _:\n",
        "        print(\"\\n\\033[31mDia inválido!\")"
      ],
      "metadata": {
        "id": "vW4km0PLmzKl"
      },
      "execution_count": null,
      "outputs": []
    },
    {
      "cell_type": "code",
      "source": [
        "# DESAFIO 03\n",
        "# Professor v1\n",
        "dia = int(input(\"Digite o dia da semana (1 a 7): \"))\n",
        "\n",
        "match dia:\n",
        "    case 1:\n",
        "        print(\"\\nDomingo\")\n",
        "    case 2:\n",
        "        print(\"\\nSegunda-feira\")\n",
        "    case 3:\n",
        "        print(\"\\nTerça-feira\")\n",
        "    case 4:\n",
        "        print(\"\\nQuarta-feira\")\n",
        "    case 5:\n",
        "        print(\"\\nQuinta-feira\")\n",
        "    case 6:\n",
        "        print(\"\\nSexta-feira\")\n",
        "    case 7:\n",
        "        print(\"\\nSábado\")\n",
        "    case _:\n",
        "        print(\"\\nDia inválido!\")"
      ],
      "metadata": {
        "id": "yuRBrM6W0voe"
      },
      "execution_count": null,
      "outputs": []
    },
    {
      "cell_type": "code",
      "source": [
        "# DESAFIO 04\n",
        "\"\"\"\n",
        "Implemente uma calculadora simples que realiza as operações de adição, subtração, multiplicação e divisão.\n",
        "O usuário deve inserir dois números e, em seguida, selecionar a operação desejada (+, -, *, /).\n",
        "Use o comando match case para realizar a operação correta e exibir o resultado.\n",
        "\"\"\"\n",
        "n1 = float(input(\"1º número: \"))\n",
        "print(\"    + para Adição\")\n",
        "print(\"    - para Subtração\")\n",
        "print(\"    * para Multiplicação\")\n",
        "print(\"    / para Divisão\")\n",
        "op = input(\"Operação desejada: \")\n",
        "n2 = float(input(\"2º número: \"))\n",
        "\n",
        "match op:\n",
        "    case '+':\n",
        "        print(f\"\\n{n1} + {n2} = \\033[1m{n1 + n2:,.1f}\\033[0m\")\n",
        "    case '-':\n",
        "        print(f\"\\n{n1} - {n2} = \\033[1m{n1 - n2:,.1f}\\033[0m\")\n",
        "    case '*':\n",
        "        print(f\"\\n{n1} * {n2} = \\033[1m{n1 * n2:,.1f}\\033[0m\")\n",
        "    case '/':\n",
        "        if n2 != 0:\n",
        "            print(f\"\\n{n1} / {n2} = \\033[1m{n1 / n2:,.1f}\\033[0m\")\n",
        "        else:\n",
        "            print(\"\\n\\033[31mNão é possível dividir por 0\\033[0m\")\n",
        "    case _:\n",
        "        print(\"\\n\\033[31mOperação inválida\\033[0m\")"
      ],
      "metadata": {
        "id": "6EM5DOzxm05t"
      },
      "execution_count": null,
      "outputs": []
    },
    {
      "cell_type": "code",
      "source": [
        "# DESAFIO 04\n",
        "# Professor v1\n",
        "num1 = float(input(\"Digite o 1º número: \"))\n",
        "oper = input(\"\"\"Escolha a operação:\n",
        "[+] Somar\n",
        "[-] Subtrair\n",
        "[*] Multiplicar\n",
        "[/] Dividir\n",
        "\"\"\")\n",
        "num2 = float(input(\"Digite o 2º número: \"))\n",
        "\n",
        "match oper:\n",
        "    case '+':\n",
        "        print(f\"\\n{num1} + {num2} = {num1+num2}\")\n",
        "    case '-':\n",
        "        print(f\"\\n{num1} - {num2} = {num1-num2}\")\n",
        "    case '*':\n",
        "        print(f\"\\n{num1} x {num2} = {num1*num2}\")\n",
        "    case '/':\n",
        "        if num2 != 0:\n",
        "            print(f\"\\n{num1} / {num2} = {num1/num2}\")\n",
        "        else:\n",
        "            print(\"\\nNão pode ser divisível por 0! Jumento! 🐴\")\n",
        "    case _:\n",
        "        print(\"\\nOpção inválida...\")"
      ],
      "metadata": {
        "id": "ORKtdzi_0wTN"
      },
      "execution_count": null,
      "outputs": []
    },
    {
      "cell_type": "code",
      "source": [
        "# DESAFIO 05\n",
        "\"\"\"\n",
        "Escreva um programa que converta valores entre diferentes moedas.\n",
        "O usuário deve inserir o valor em reais e selecionar a moeda para conversão:\n",
        "D (Dólar), E (Euro), ou L (Libra). Utilize match case para aplicar a conversão\n",
        "correta com base nas taxas fictícias fornecidas a seguir:\n",
        "\n",
        "1 Real = 0.18 Dólar\n",
        "1 Real = 0.16 Euro\n",
        "1 Real = 0.13 Libra\n",
        "\n",
        "Símbolos: $ € £\n",
        "\"\"\"\n",
        "valor = float(input(\"Valor em reais: \"))\n",
        "print(\"    D para Dólar\")\n",
        "print(\"    E para Euro\")\n",
        "print(\"    L para Libra\")\n",
        "moeda = input(\"Moeda desejada: \").upper()\n",
        "\n",
        "match moeda:\n",
        "    case 'D':\n",
        "        print(f\"\\n\\033[1m{valor:,.2f}\\033[0m reais = \\033[1m{valor * 0.18:,.2f}\\033[0m dólares\")\n",
        "    case 'E':\n",
        "        print(f\"\\n\\033[1m{valor:,.2f}\\033[0m reais = \\033[1m{valor * 0.16:,.2f}\\033[0m euros\")\n",
        "    case 'L':\n",
        "        print(f\"\\n\\033[1m{valor:,.2f}\\033[0m reais = \\033[1m{valor * 0.13:,.2f}\\033[0m libras\")\n",
        "    case _:\n",
        "        print(\"\\n\\033[31mMoeda inválida\\033[0m\")"
      ],
      "metadata": {
        "id": "jlCT9mmDm2ol"
      },
      "execution_count": null,
      "outputs": []
    },
    {
      "cell_type": "code",
      "source": [
        "# DESAFIO 05\n",
        "# Profesor v1\n",
        "dolar = 0.18\n",
        "euro = 0.16\n",
        "libra = 0.13\n",
        "\n",
        "print(\"\"\"\n",
        "___________________________\n",
        "\n",
        "🤑\\033[1;32m  CONVERSÃO DE MOEDAS \\033[0m 💲\n",
        "___________________________\n",
        "\"\"\")\n",
        "\n",
        "valor = float(input(\"Digite um valor em R$ para conversão: \\n\\n\"))\n",
        "conversao = input(\"\\nEscolha a moeda: D (Dólar) E (Euro) L (Libra) \\n\\n\").lower()\n",
        "\n",
        "match conversao:\n",
        "    case 'd':\n",
        "        print(f\"\\n$ {(valor*dolar):,.2f}\")\n",
        "    case 'e':\n",
        "        print(f\"\\n€ {(valor*euro):,.2f}\")\n",
        "    case 'l':\n",
        "        print(f\"\\n£ {(valor*libra):,.2f}\")\n",
        "    case _:\n",
        "        print(\"\\n\\033[31mConversão inválida...\")"
      ],
      "metadata": {
        "id": "AnwHYQZN0w2t"
      },
      "execution_count": null,
      "outputs": []
    },
    {
      "cell_type": "code",
      "source": [
        "# DESAFIO 06\n",
        "\"\"\"\n",
        "Crie um programa que peça ao usuário para inserir uma letra. O programa deve utilizar match case\n",
        "para verificar se a letra é uma vogal.\n",
        "\"\"\"\n",
        "letra = input(\"Digite uma letra: \").upper()\n",
        "\n",
        "if len(letra) == 1:\n",
        "    match letra:\n",
        "        case 'A' | 'E' | 'I' | 'O' | 'U':\n",
        "            print(f\"\\n\\033[32m{letra} é uma vogal\\033[0m\")\n",
        "        case _ if letra.isalpha():\n",
        "            print(f\"\\n\\033[31m{letra} não é uma vogal\\033[0m\")\n",
        "        case _:\n",
        "            print(f\"\\n\\033[31m{letra} não é uma letra\\033[0m\")\n",
        "else:\n",
        "    print(f\"\\n\\033[91mEntrada inválida\\033[0m\")"
      ],
      "metadata": {
        "id": "wfDoR7Qvm4n9"
      },
      "execution_count": null,
      "outputs": []
    },
    {
      "cell_type": "code",
      "source": [
        "# DESAFIO 07\n",
        "\"\"\"\n",
        "Crie um programa que peça ao usuário para inserir uma letra. O programa deve utilizar match case\n",
        "para verificar se a letra é uma vogal (a, e, i, o, u) ou uma consoante, e então exibir uma mensagem apropriada.\n",
        "\"\"\"\n",
        "letra = input(\"Digite uma letra: \").upper()\n",
        "vogais = 'AEIOU'\n",
        "\n",
        "if len(letra) == 1:\n",
        "    match letra:\n",
        "        case 'A' | 'E' | 'I' | 'O' | 'U':\n",
        "            print(f\"\\n\\033[1m{letra} é uma vogal\\033[0m\")\n",
        "        case _ if letra.isalpha() and len(letra) == 1:\n",
        "            print(f\"\\n\\033[1m{letra} é uma consoante\\033[0m\")\n",
        "        case _:\n",
        "            print(f\"\\n\\033[1;31m{letra} não é uma letra\\033[0m\")\n",
        "else:\n",
        "    print(f\"\\n\\033[91mEntrada inválida\\033[0m\")"
      ],
      "metadata": {
        "id": "tQr1-svxm6TV"
      },
      "execution_count": null,
      "outputs": []
    },
    {
      "cell_type": "code",
      "source": [
        "# DESAFIO 07\n",
        "# Professor v1\n",
        "letra = input(\"Digite uma letra: \").lower()\n",
        "\n",
        "match letra:\n",
        "    case \"a\" | \"e\" | \"i\" | \"o\" | \"u\":\n",
        "        print(f\"A letra \\033[1;32m{letra.upper()}\\033[0m é uma vogal!\")\n",
        "    case _ if letra.isalpha():\n",
        "        print(f\"A letra \\033[1;32m{letra.upper()}\\033[0m é uma consoante\")\n",
        "    case _:\n",
        "        print(f\"\\033[1;31m{letra.upper()}\\033[0m não é uma letra!\")"
      ],
      "metadata": {
        "id": "jgACeEba506k"
      },
      "execution_count": null,
      "outputs": []
    },
    {
      "cell_type": "code",
      "source": [
        "# DESAFIO 07\n",
        "# Professor v2\n",
        "letra = input(\"Digite uma letra: \").lower()\n",
        "\n",
        "if len(letra) == 1:\n",
        "    match letra:\n",
        "        case \"a\" | \"e\" | \"i\" | \"o\" | \"u\":\n",
        "            print(f\"A letra \\033[1;32m{letra.upper()}\\033[0m é uma vogal!\")\n",
        "        case _ if letra.isalpha():\n",
        "            print(f\"A letra \\033[1;32m{letra.upper()}\\033[0m é uma consoante\")\n",
        "        case _:\n",
        "            print(f\"\\033[1;31m{letra.upper()}\\033[0m não é uma letra!\")\n",
        "else:\n",
        "    print(\"Digite apenas uma letra...\")"
      ],
      "metadata": {
        "id": "WZdMeKmQ54ok"
      },
      "execution_count": null,
      "outputs": []
    }
  ]
}