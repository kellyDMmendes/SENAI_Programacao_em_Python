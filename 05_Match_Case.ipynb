{
  "nbformat": 4,
  "nbformat_minor": 0,
  "metadata": {
    "colab": {
      "provenance": [],
      "toc_visible": true,
      "authorship_tag": "ABX9TyPiMPI2bNDj4IWTj/McTdkw",
      "include_colab_link": true
    },
    "kernelspec": {
      "name": "python3",
      "display_name": "Python 3"
    },
    "language_info": {
      "name": "python"
    }
  },
  "cells": [
    {
      "cell_type": "markdown",
      "metadata": {
        "id": "view-in-github",
        "colab_type": "text"
      },
      "source": [
        "<a href=\"https://colab.research.google.com/github/kellyDMmendes/SENAI_Programacao_em_Python/blob/main/05_Match_Case.ipynb\" target=\"_parent\"><img src=\"https://colab.research.google.com/assets/colab-badge.svg\" alt=\"Open In Colab\"/></a>"
      ]
    },
    {
      "cell_type": "markdown",
      "source": [
        "# **Match Case**"
      ],
      "metadata": {
        "id": "0zb7vG8omiou"
      }
    },
    {
      "cell_type": "code",
      "execution_count": null,
      "metadata": {
        "id": "bYkhfT9QmYfO"
      },
      "outputs": [],
      "source": [
        "# OPÇÃO ÚNICA\n",
        "\n",
        "operacao = input(\"\"\"\n",
        "Escolha uma opção:\n",
        "\n",
        "[1] Opção 1\n",
        "[2] Opção 2\n",
        "[3] Opção 3\n",
        "\"\"\")\n",
        "\n",
        "match operacao:\n",
        "    case '1':\n",
        "        print(\"Opção 1 foi escolhida\")\n",
        "    case '2':\n",
        "        print(\"Opção 2 foi escolhida\")\n",
        "    case '3':\n",
        "        print(\"Opção 3 foi escolhida\")\n",
        "    case _:\n",
        "        print(\"Opção inválida\")"
      ]
    },
    {
      "cell_type": "code",
      "source": [
        "# OPÇÃO MÚLTIPLA\n",
        "\n",
        "operacao = input(\"\"\"\n",
        "Escolha uma opção:\n",
        "\n",
        "[1] Opção 1\n",
        "[2] Opção 2\n",
        "[3] Opção 3\n",
        "\"\"\")\n",
        "\n",
        "match operacao:\n",
        "    case '1' | '2':\n",
        "        print(\"Opção 1 OU 2 escolhida\")\n",
        "    case '3':\n",
        "        print(\"Opção 3 foi escolhida\")\n",
        "    case _:\n",
        "        print(\"Opção inválida\")"
      ],
      "metadata": {
        "id": "w7fZfW5MmnD-"
      },
      "execution_count": null,
      "outputs": []
    },
    {
      "cell_type": "code",
      "source": [
        "# OPÇÃO MÚLTIPLA COM case _ if\n",
        "\n",
        "numero = int(input(\"Digite um número: \"))\n",
        "\n",
        "match numero:\n",
        "    case 1 | 3 | 5 | 7 | 9:\n",
        "        print(\"É ímpar entre 1 e 10!\")\n",
        "    case _ if numero < 0:\n",
        "        print(\"É um número negativo!\")\n",
        "    case _:\n",
        "        print(\"Um número qualquer...\")"
      ],
      "metadata": {
        "id": "FIlUh9y8mpb9"
      },
      "execution_count": null,
      "outputs": []
    },
    {
      "cell_type": "markdown",
      "source": [
        "# **Desafios**"
      ],
      "metadata": {
        "id": "aZtVSTjKmsee"
      }
    },
    {
      "cell_type": "code",
      "source": [
        "# DESAFIO 01\n",
        "\"\"\"\n",
        "Escreva um programa em Python que solicite ao usuário uma nota inteira entre 0 e 10.\n",
        "Use o comando `match case` para classificar a nota de acordo com a tabela a seguir:\n",
        "\n",
        "- 0-4: Nota Baixa\n",
        "- 5-7: Nota Média\n",
        "- 8-9: Nota Alta\n",
        "- 10: Nota Excelente\n",
        "\n",
        "Exiba a classificação correspondente.\n",
        "\"\"\"\n",
        "nota = int(input(\"Digite sua nota: \"))\n",
        "\n",
        "match nota:\n",
        "    case 0 | 1 | 2 | 3 | 4:\n",
        "        print(f\"\\nNota Baixa: {nota}\")\n",
        "    case 5 | 6 | 7:\n",
        "        print(f\"\\nNota Média: {nota}\")\n",
        "    case 8 | 9:\n",
        "        print(f\"\\nNota Alta: {nota}\")\n",
        "    case 10:\n",
        "        print(f\"\\nNota Excelente: {nota}\")\n",
        "    case _:\n",
        "        print(\"Nota inválida...\")"
      ],
      "metadata": {
        "id": "z6QhbwQNmvgO"
      },
      "execution_count": null,
      "outputs": []
    },
    {
      "cell_type": "code",
      "source": [
        "# DESAFIO 02\n",
        "\"\"\"\n",
        "Refaça o DESAFIO 01 considerando notas decimais.\n",
        "\"\"\"\n",
        "nota = float(input(\"Digite sua nota: \"))\n",
        "\n",
        "match nota:\n",
        "    case _ if nota < 0:\n",
        "        print(f\"\\nNota inválida\")\n",
        "    case _ if nota <= 4:\n",
        "        print(f\"\\nNota Baixa: {nota}\")\n",
        "    case _ if nota <= 7:\n",
        "        print(f\"\\nNota Média: {nota}\")\n",
        "    case _ if nota <= 9:\n",
        "        print(f\"\\nNota Alta: {nota}\")\n",
        "    case _ if nota <= 10:\n",
        "        print(f\"\\nNota Excelente: {nota}\")\n",
        "    case _:\n",
        "        print(f\"\\nNota inválida\")"
      ],
      "metadata": {
        "id": "179R-UabmxV1"
      },
      "execution_count": null,
      "outputs": []
    },
    {
      "cell_type": "code",
      "source": [
        "# DESAFIO 03\n",
        "\"\"\"\n",
        "Crie um programa que peça ao usuário para inserir um número de 1 a 7,\n",
        "onde cada número representa um dia da semana (1 para domingo, 2 para segunda-feira e assim por diante).\n",
        "Use match case para imprimir o nome do dia da semana correspondente.\n",
        "\"\"\"\n",
        "dia = int(input(\"Digite o dia da semana (1 a 7): \"))\n",
        "\n",
        "match dia:\n",
        "    case 1:\n",
        "        print(\"\\nDomingo\")\n",
        "    case 2:\n",
        "        print(\"\\nSegunda-feira\")\n",
        "    case 3:\n",
        "        print(\"\\nTerça-feira\")\n",
        "    case 4:\n",
        "        print(\"\\nQuarta-feira\")\n",
        "    case 5:\n",
        "        print(\"\\nQuinta-feira\")\n",
        "    case 6:\n",
        "        print(\"\\nSexta-feira\")\n",
        "    case 7:\n",
        "        print(\"\\nSábado\")\n",
        "    case _:\n",
        "        print(\"\\nDia inválido!\")"
      ],
      "metadata": {
        "id": "vW4km0PLmzKl"
      },
      "execution_count": null,
      "outputs": []
    },
    {
      "cell_type": "code",
      "source": [
        "# DESAFIO 04\n",
        "\"\"\"\n",
        "Implemente uma calculadora simples que realiza as operações de adição, subtração, multiplicação e divisão.\n",
        "O usuário deve inserir dois números e, em seguida, selecionar a operação desejada (+, -, *, /).\n",
        "Use o comando match case para realizar a operação correta e exibir o resultado.\n",
        "\"\"\""
      ],
      "metadata": {
        "id": "6EM5DOzxm05t"
      },
      "execution_count": null,
      "outputs": []
    },
    {
      "cell_type": "code",
      "source": [
        "# DESAFIO 05\n",
        "\"\"\"\n",
        "Escreva um programa que converta valores entre diferentes moedas.\n",
        "O usuário deve inserir o valor em reais e selecionar a moeda para conversão:\n",
        "D (Dólar), E (Euro), ou L (Libra). Utilize match case para aplicar a conversão\n",
        "correta com base nas taxas fictícias fornecidas a seguir:\n",
        "\n",
        "1 Real = 0.18 Dólar\n",
        "1 Real = 0.16 Euro\n",
        "1 Real = 0.13 Libra\n",
        "\n",
        "Símbolos: $ € £\n",
        "\"\"\""
      ],
      "metadata": {
        "id": "jlCT9mmDm2ol"
      },
      "execution_count": null,
      "outputs": []
    },
    {
      "cell_type": "code",
      "source": [
        "# DESAFIO 06\n",
        "\"\"\"\n",
        "Crie um programa que peça ao usuário para inserir uma letra. O programa deve utilizar match case\n",
        "para verificar se a letra é uma vogal.\n",
        "\"\"\""
      ],
      "metadata": {
        "id": "wfDoR7Qvm4n9"
      },
      "execution_count": null,
      "outputs": []
    },
    {
      "cell_type": "code",
      "source": [
        "# DESAFIO 07\n",
        "\"\"\"\n",
        "Crie um programa que peça ao usuário para inserir uma letra. O programa deve utilizar match case\n",
        "para verificar se a letra é uma vogal (a, e, i, o, u) ou uma consoante, e então exibir uma mensagem apropriada.\n",
        "\"\"\""
      ],
      "metadata": {
        "id": "tQr1-svxm6TV"
      },
      "execution_count": null,
      "outputs": []
    }
  ]
}