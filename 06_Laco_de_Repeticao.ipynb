{
  "nbformat": 4,
  "nbformat_minor": 0,
  "metadata": {
    "colab": {
      "provenance": [],
      "toc_visible": true,
      "authorship_tag": "ABX9TyN0wpRXbdYKVebM/h4xVVD3",
      "include_colab_link": true
    },
    "kernelspec": {
      "name": "python3",
      "display_name": "Python 3"
    },
    "language_info": {
      "name": "python"
    }
  },
  "cells": [
    {
      "cell_type": "markdown",
      "metadata": {
        "id": "view-in-github",
        "colab_type": "text"
      },
      "source": [
        "<a href=\"https://colab.research.google.com/github/kellyDMmendes/SENAI_Programacao_em_Python/blob/main/06_Laco_de_Repeticao.ipynb\" target=\"_parent\"><img src=\"https://colab.research.google.com/assets/colab-badge.svg\" alt=\"Open In Colab\"/></a>"
      ]
    },
    {
      "cell_type": "markdown",
      "source": [
        "# **Laço de Repetição**"
      ],
      "metadata": {
        "id": "rv5SdItd7gHX"
      }
    },
    {
      "cell_type": "code",
      "source": [
        "# Laço de Repetição FOR\n",
        "\n",
        "# Exemplo 01\n",
        "for i in range(1, 6):\n",
        "    print(i, end=' ')"
      ],
      "metadata": {
        "colab": {
          "base_uri": "https://localhost:8080/"
        },
        "id": "kcMPcO6l7jQ3",
        "outputId": "216039fe-06a4-48e6-fae0-7aebfb2892a1"
      },
      "execution_count": 4,
      "outputs": [
        {
          "output_type": "stream",
          "name": "stdout",
          "text": [
            "1 2 3 4 5 "
          ]
        }
      ]
    },
    {
      "cell_type": "code",
      "source": [
        "# Exemplo 02\n",
        "for i in range(0, 10, 2):  # range(inicio, fim, salto)\n",
        "    print(i, end=' ')"
      ],
      "metadata": {
        "colab": {
          "base_uri": "https://localhost:8080/"
        },
        "id": "T8hOMCjz86dq",
        "outputId": "afee2e3e-9b6b-4284-ae46-3248b701bacf"
      },
      "execution_count": 5,
      "outputs": [
        {
          "output_type": "stream",
          "name": "stdout",
          "text": [
            "0 2 4 6 8 "
          ]
        }
      ]
    },
    {
      "cell_type": "code",
      "source": [
        "# Exemplo 03\n",
        "inicio = 5\n",
        "fim = 0\n",
        "salto = -1\n",
        "\n",
        "for i in range(inicio, fim, salto):\n",
        "    print(i, end=' ')"
      ],
      "metadata": {
        "colab": {
          "base_uri": "https://localhost:8080/"
        },
        "id": "9zwepTVX9U3y",
        "outputId": "34bce380-73a6-424c-95ec-ae16ede8deb7"
      },
      "execution_count": 7,
      "outputs": [
        {
          "output_type": "stream",
          "name": "stdout",
          "text": [
            "5 4 3 2 1 "
          ]
        }
      ]
    },
    {
      "cell_type": "code",
      "source": [
        "# Exemplo 04\n",
        "for i in range(5):\n",
        "    print(f\"{i+1} | SENAI\")"
      ],
      "metadata": {
        "colab": {
          "base_uri": "https://localhost:8080/"
        },
        "id": "edkTft2_98Dq",
        "outputId": "deaba7a3-9974-4ec6-b666-0a79c41dd3e8"
      },
      "execution_count": 9,
      "outputs": [
        {
          "output_type": "stream",
          "name": "stdout",
          "text": [
            "1 | SENAI\n",
            "2 | SENAI\n",
            "3 | SENAI\n",
            "4 | SENAI\n",
            "5 | SENAI\n"
          ]
        }
      ]
    },
    {
      "cell_type": "code",
      "source": [
        "# Exemplo 05\n",
        "texto = 'PYTHON'\n",
        "\n",
        "for letra in texto:\n",
        "    print(letra, end=' ')"
      ],
      "metadata": {
        "colab": {
          "base_uri": "https://localhost:8080/"
        },
        "id": "YLv0C2Mv-qTp",
        "outputId": "1044ad2e-67fa-4322-ff7a-685fd2f279c2"
      },
      "execution_count": 11,
      "outputs": [
        {
          "output_type": "stream",
          "name": "stdout",
          "text": [
            "P Y T H O N "
          ]
        }
      ]
    },
    {
      "cell_type": "code",
      "source": [
        "# Exemplo 06\n",
        "frase = ['Python', 'é', 'fantástico!']\n",
        "\n",
        "for palavra in frase:\n",
        "    print(palavra, end=' ')"
      ],
      "metadata": {
        "colab": {
          "base_uri": "https://localhost:8080/"
        },
        "id": "QKev8Dn9_LEC",
        "outputId": "779c05b2-21e9-4ac0-ae14-23494dd575bd"
      },
      "execution_count": 14,
      "outputs": [
        {
          "output_type": "stream",
          "name": "stdout",
          "text": [
            "Python é fantástico! "
          ]
        }
      ]
    },
    {
      "cell_type": "code",
      "source": [
        "# Exemplo 07\n",
        "lista = [1, 10, 20, 30, 40, 50]\n",
        "\n",
        "for numero in lista:\n",
        "    if numero == 30:\n",
        "        continue  # pula o resto da iteração\n",
        "    print(numero, end=' ')"
      ],
      "metadata": {
        "colab": {
          "base_uri": "https://localhost:8080/"
        },
        "id": "QBWa9t9c_q6B",
        "outputId": "2b6c96de-2400-4177-8645-5797fdfefe50"
      },
      "execution_count": 15,
      "outputs": [
        {
          "output_type": "stream",
          "name": "stdout",
          "text": [
            "1 10 20 40 50 "
          ]
        }
      ]
    },
    {
      "cell_type": "code",
      "source": [
        "# Exemplo 08\n",
        "for i in range(50):\n",
        "    if i >= 10:\n",
        "        break\n",
        "    else:\n",
        "        print(i+1, end=' ')"
      ],
      "metadata": {
        "colab": {
          "base_uri": "https://localhost:8080/"
        },
        "id": "VU5ZkReiArPw",
        "outputId": "c67cf91e-26dd-4f6e-d4c4-994a4b82d902"
      },
      "execution_count": 17,
      "outputs": [
        {
          "output_type": "stream",
          "name": "stdout",
          "text": [
            "1 2 3 4 5 6 7 8 9 10 "
          ]
        }
      ]
    },
    {
      "cell_type": "markdown",
      "source": [
        "# **Desafios**"
      ],
      "metadata": {
        "id": "etZR_PhsBTD5"
      }
    },
    {
      "cell_type": "code",
      "source": [
        "# DESAFIO 01\n",
        "\"\"\"\n",
        "Crie um programa que mostre na tela todos os números pares que estão\n",
        "no intervalo entre 1 e 50.\n",
        "\"\"\"\n",
        "for i in range(2, 51, 2):\n",
        "    if i % 20 != 0:\n",
        "        print(f\"{i:>3}\", end=' ')\n",
        "    else:\n",
        "        print(f\"{i:>3}\")"
      ],
      "metadata": {
        "colab": {
          "base_uri": "https://localhost:8080/"
        },
        "id": "Nk5oWBceBXbw",
        "outputId": "8a416e05-beee-4d00-a45f-c0796563f008"
      },
      "execution_count": 31,
      "outputs": [
        {
          "output_type": "stream",
          "name": "stdout",
          "text": [
            "  2   4   6   8  10  12  14  16  18  20\n",
            " 22  24  26  28  30  32  34  36  38  40\n",
            " 42  44  46  48  50 "
          ]
        }
      ]
    },
    {
      "cell_type": "code",
      "source": [
        "# DESAFIO 01\n",
        "# Professor v1\n",
        "for i in range(2, 51, 2):\n",
        "    print(i, end=' ')"
      ],
      "metadata": {
        "id": "XJ_8f9bHKFh9"
      },
      "execution_count": null,
      "outputs": []
    },
    {
      "cell_type": "code",
      "source": [
        "# DESAFIO 01\n",
        "# professor v2\n",
        "\n",
        "for i in range(1, 51):\n",
        "    if i%2 == 0:\n",
        "        print(i, end=' ')"
      ],
      "metadata": {
        "id": "ukk3m8GwKJvU"
      },
      "execution_count": null,
      "outputs": []
    },
    {
      "cell_type": "code",
      "source": [
        "# DESAFIO 02\n",
        "\"\"\"\n",
        "Faça um programa que calcule a soma entre todos os números ímpares\n",
        "que são múltiplos de três e que se encontram no intervalo de 1 até 500.\n",
        "\"\"\"\n",
        "soma = 0\n",
        "for i in range(1, 500, 2):\n",
        "    if i % 3 == 0:\n",
        "        soma += i\n",
        "print(f\"Soma: {soma}\")"
      ],
      "metadata": {
        "colab": {
          "base_uri": "https://localhost:8080/"
        },
        "id": "kLRczlwfB4sY",
        "outputId": "349dffbb-8599-447e-b5ab-b22e833a350c"
      },
      "execution_count": 29,
      "outputs": [
        {
          "output_type": "stream",
          "name": "stdout",
          "text": [
            "Soma: 20667\n"
          ]
        }
      ]
    }
  ]
}