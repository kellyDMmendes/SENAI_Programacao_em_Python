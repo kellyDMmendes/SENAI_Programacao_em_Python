{
  "nbformat": 4,
  "nbformat_minor": 0,
  "metadata": {
    "colab": {
      "provenance": [],
      "toc_visible": true,
      "authorship_tag": "ABX9TyP51ZwcY5OJVttd2zRhr8If",
      "include_colab_link": true
    },
    "kernelspec": {
      "name": "python3",
      "display_name": "Python 3"
    },
    "language_info": {
      "name": "python"
    }
  },
  "cells": [
    {
      "cell_type": "markdown",
      "metadata": {
        "id": "view-in-github",
        "colab_type": "text"
      },
      "source": [
        "<a href=\"https://colab.research.google.com/github/kellyDMmendes/SENAI_Programacao_em_Python/blob/main/06_Laco_de_Repeticao.ipynb\" target=\"_parent\"><img src=\"https://colab.research.google.com/assets/colab-badge.svg\" alt=\"Open In Colab\"/></a>"
      ]
    },
    {
      "cell_type": "markdown",
      "source": [
        "# **Laço de Repetição**"
      ],
      "metadata": {
        "id": "rv5SdItd7gHX"
      }
    },
    {
      "cell_type": "code",
      "source": [
        "# Laço de Repetição FOR\n",
        "\n",
        "# Exemplo 01\n",
        "for i in range(1, 6):\n",
        "    print(i, end=' ')"
      ],
      "metadata": {
        "colab": {
          "base_uri": "https://localhost:8080/"
        },
        "id": "kcMPcO6l7jQ3",
        "outputId": "216039fe-06a4-48e6-fae0-7aebfb2892a1"
      },
      "execution_count": 4,
      "outputs": [
        {
          "output_type": "stream",
          "name": "stdout",
          "text": [
            "1 2 3 4 5 "
          ]
        }
      ]
    },
    {
      "cell_type": "code",
      "source": [
        "# Exemplo 02\n",
        "for i in range(0, 10, 2):  # range(inicio, fim, salto)\n",
        "    print(i, end=' ')"
      ],
      "metadata": {
        "colab": {
          "base_uri": "https://localhost:8080/"
        },
        "id": "T8hOMCjz86dq",
        "outputId": "afee2e3e-9b6b-4284-ae46-3248b701bacf"
      },
      "execution_count": 5,
      "outputs": [
        {
          "output_type": "stream",
          "name": "stdout",
          "text": [
            "0 2 4 6 8 "
          ]
        }
      ]
    },
    {
      "cell_type": "code",
      "source": [
        "# Exemplo 03\n",
        "inicio = 5\n",
        "fim = 0\n",
        "salto = -1\n",
        "\n",
        "for i in range(inicio, fim, salto):\n",
        "    print(i, end=' ')"
      ],
      "metadata": {
        "colab": {
          "base_uri": "https://localhost:8080/"
        },
        "id": "9zwepTVX9U3y",
        "outputId": "34bce380-73a6-424c-95ec-ae16ede8deb7"
      },
      "execution_count": 7,
      "outputs": [
        {
          "output_type": "stream",
          "name": "stdout",
          "text": [
            "5 4 3 2 1 "
          ]
        }
      ]
    },
    {
      "cell_type": "code",
      "source": [
        "# Exemplo 04\n",
        "for i in range(5):\n",
        "    print(f\"{i+1} | SENAI\")"
      ],
      "metadata": {
        "colab": {
          "base_uri": "https://localhost:8080/"
        },
        "id": "edkTft2_98Dq",
        "outputId": "deaba7a3-9974-4ec6-b666-0a79c41dd3e8"
      },
      "execution_count": 9,
      "outputs": [
        {
          "output_type": "stream",
          "name": "stdout",
          "text": [
            "1 | SENAI\n",
            "2 | SENAI\n",
            "3 | SENAI\n",
            "4 | SENAI\n",
            "5 | SENAI\n"
          ]
        }
      ]
    },
    {
      "cell_type": "code",
      "source": [
        "# Exemplo 05\n",
        "texto = 'PYTHON'\n",
        "\n",
        "for letra in texto:\n",
        "    print(letra, end=' ')"
      ],
      "metadata": {
        "colab": {
          "base_uri": "https://localhost:8080/"
        },
        "id": "YLv0C2Mv-qTp",
        "outputId": "1044ad2e-67fa-4322-ff7a-685fd2f279c2"
      },
      "execution_count": 11,
      "outputs": [
        {
          "output_type": "stream",
          "name": "stdout",
          "text": [
            "P Y T H O N "
          ]
        }
      ]
    },
    {
      "cell_type": "code",
      "source": [
        "# Exemplo 06\n",
        "frase = ['Python', 'é', 'fantástico!']\n",
        "\n",
        "for palavra in frase:\n",
        "    print(palavra, end=' ')"
      ],
      "metadata": {
        "colab": {
          "base_uri": "https://localhost:8080/"
        },
        "id": "QKev8Dn9_LEC",
        "outputId": "779c05b2-21e9-4ac0-ae14-23494dd575bd"
      },
      "execution_count": 14,
      "outputs": [
        {
          "output_type": "stream",
          "name": "stdout",
          "text": [
            "Python é fantástico! "
          ]
        }
      ]
    },
    {
      "cell_type": "code",
      "source": [
        "# Exemplo 07\n",
        "lista = [1, 10, 20, 30, 40, 50]\n",
        "\n",
        "for numero in lista:\n",
        "    if numero == 30:\n",
        "        continue  # pula o resto da iteração\n",
        "    print(numero, end=' ')"
      ],
      "metadata": {
        "colab": {
          "base_uri": "https://localhost:8080/"
        },
        "id": "QBWa9t9c_q6B",
        "outputId": "2b6c96de-2400-4177-8645-5797fdfefe50"
      },
      "execution_count": 15,
      "outputs": [
        {
          "output_type": "stream",
          "name": "stdout",
          "text": [
            "1 10 20 40 50 "
          ]
        }
      ]
    },
    {
      "cell_type": "code",
      "source": [
        "# Exemplo 08\n",
        "for i in range(50):\n",
        "    if i >= 10:\n",
        "        break\n",
        "    else:\n",
        "        print(i+1, end=' ')"
      ],
      "metadata": {
        "colab": {
          "base_uri": "https://localhost:8080/"
        },
        "id": "VU5ZkReiArPw",
        "outputId": "c67cf91e-26dd-4f6e-d4c4-994a4b82d902"
      },
      "execution_count": 17,
      "outputs": [
        {
          "output_type": "stream",
          "name": "stdout",
          "text": [
            "1 2 3 4 5 6 7 8 9 10 "
          ]
        }
      ]
    },
    {
      "cell_type": "code",
      "source": [
        "# EXEMPLO 09\n",
        "for i in range(1, 11):\n",
        "    print()\n",
        "    for j in range(1, 11):\n",
        "        print(f\"{i*j}\".rjust(3), end=' ')"
      ],
      "metadata": {
        "id": "QONItFnpLI98"
      },
      "execution_count": null,
      "outputs": []
    },
    {
      "cell_type": "markdown",
      "source": [
        "# **Desafios**"
      ],
      "metadata": {
        "id": "etZR_PhsBTD5"
      }
    },
    {
      "cell_type": "code",
      "source": [
        "# DESAFIO 01\n",
        "\"\"\"\n",
        "Crie um programa que mostre na tela todos os números pares que estão\n",
        "no intervalo entre 1 e 50.\n",
        "\"\"\"\n",
        "for i in range(2, 51, 2):\n",
        "    print(f\"{i:>3}\", end=' ')\n",
        "    if i % 20 == 0:\n",
        "        print()"
      ],
      "metadata": {
        "colab": {
          "base_uri": "https://localhost:8080/"
        },
        "id": "Nk5oWBceBXbw",
        "outputId": "7dda65e1-10f4-466b-847e-7954073bd2a9"
      },
      "execution_count": 35,
      "outputs": [
        {
          "output_type": "stream",
          "name": "stdout",
          "text": [
            "  2   4   6   8  10  12  14  16  18  20 \n",
            " 22  24  26  28  30  32  34  36  38  40 \n",
            " 42  44  46  48  50 "
          ]
        }
      ]
    },
    {
      "cell_type": "code",
      "source": [
        "# DESAFIO 01\n",
        "# Professor v1\n",
        "for i in range(2, 51, 2):\n",
        "    print(i, end=' ')"
      ],
      "metadata": {
        "id": "XJ_8f9bHKFh9"
      },
      "execution_count": null,
      "outputs": []
    },
    {
      "cell_type": "code",
      "source": [
        "# DESAFIO 01\n",
        "# professor v2\n",
        "for i in range(1, 51):\n",
        "    if i%2 == 0:\n",
        "        print(i, end=' ')"
      ],
      "metadata": {
        "id": "ukk3m8GwKJvU"
      },
      "execution_count": null,
      "outputs": []
    },
    {
      "cell_type": "code",
      "source": [
        "# DESAFIO 02\n",
        "\"\"\"\n",
        "Faça um programa que calcule a soma entre todos os números ímpares\n",
        "que são múltiplos de três e que se encontram no intervalo de 1 até 500.\n",
        "\"\"\"\n",
        "soma = 0\n",
        "for i in range(3, 500, 2):\n",
        "    if i % 3 == 0:\n",
        "        soma += i\n",
        "print(f\"Soma: \\033[1m{soma:,}\\033[0m\")"
      ],
      "metadata": {
        "colab": {
          "base_uri": "https://localhost:8080/"
        },
        "id": "kLRczlwfB4sY",
        "outputId": "7000adac-05a7-481a-d24c-3cc143dceabe"
      },
      "execution_count": 40,
      "outputs": [
        {
          "output_type": "stream",
          "name": "stdout",
          "text": [
            "Soma: \u001b[1m20,667\u001b[0m\n"
          ]
        }
      ]
    },
    {
      "cell_type": "code",
      "source": [
        "# DESAFIO 02\n",
        "# Professor v1\n",
        "soma = 0\n",
        "for i in range(0, 501, 3):\n",
        "    if i%2 != 0:\n",
        "        soma+=i\n",
        "print(soma)"
      ],
      "metadata": {
        "id": "jtErUeEXMsEr"
      },
      "execution_count": null,
      "outputs": []
    },
    {
      "cell_type": "code",
      "source": [
        "# DESAFIO 02\n",
        "# Professor v2\n",
        "soma = 0\n",
        "for num in range(0, 501, 3):\n",
        "    if num%2 != 0:\n",
        "        soma+=num\n",
        "soma = f\"{soma:,.0f}\"\n",
        "soma = soma.replace(',', '.')\n",
        "print(soma)"
      ],
      "metadata": {
        "id": "AeJxgzR-NSH4"
      },
      "execution_count": null,
      "outputs": []
    },
    {
      "cell_type": "code",
      "source": [
        "# DESAFIO 03\n",
        "\"\"\"\n",
        "Mostre a tabuada de um número que o usuário escolher.\n",
        "\"\"\"\n",
        "numero = int(input(\"Digite um número: \"))\n",
        "print()\n",
        "for i in range(1, 11):\n",
        "    print(f\"{i:>2} x {numero} = \\033[1m{numero*i:>3}\\033[0m\")"
      ],
      "metadata": {
        "id": "HwhK0LTvNXso",
        "outputId": "5f9254cd-8dc7-4def-bc1f-e78c58cdda22",
        "colab": {
          "base_uri": "https://localhost:8080/"
        }
      },
      "execution_count": 54,
      "outputs": [
        {
          "output_type": "stream",
          "name": "stdout",
          "text": [
            "Digite um número: 5\n",
            "\n",
            " 1 x 5 =   5\n",
            " 2 x 5 =  10\n",
            " 3 x 5 =  15\n",
            " 4 x 5 =  20\n",
            " 5 x 5 =  25\n",
            " 6 x 5 =  30\n",
            " 7 x 5 =  35\n",
            " 8 x 5 =  40\n",
            " 9 x 5 =  45\n",
            "10 x 5 =  50\n"
          ]
        }
      ]
    },
    {
      "cell_type": "code",
      "source": [
        "# DESAFIO 04\n",
        "\"\"\"\n",
        "Faça um programa que mostre na tela uma contagem regressiva para\n",
        "o estouro de fogos de artificio, indo de 10 até 0, com uma pausa\n",
        "de 1 segundo entre eles.\n",
        "Utilizar a Biblioteca TIME time.sleep(segundos)\n",
        "\"\"\"\n",
        "from time import sleep\n",
        "from google.colab import output as o\n",
        "for i in range(10, 0, -1):\n",
        "    print(i, end=' ')\n",
        "    sleep(1)\n",
        "    o.clear()\n",
        "print(\"🎆 FELIZ ANO NOVO 🎆\")"
      ],
      "metadata": {
        "id": "OuM3jvLpNcX_",
        "outputId": "8d552b96-f528-46e8-ee7b-e7a1070a44be",
        "colab": {
          "base_uri": "https://localhost:8080/"
        }
      },
      "execution_count": 119,
      "outputs": [
        {
          "output_type": "stream",
          "name": "stdout",
          "text": [
            "🎆 FELIZ ANO NOVO 🎆\n"
          ]
        }
      ]
    },
    {
      "cell_type": "code",
      "source": [
        "# DESAFIO 05\n",
        "\"\"\"\n",
        "Desenvolva um programa que leia seis números inteiros e mostre a soma apenas\n",
        "daqueles que forem pares. Se o valor digitado for impar desconsidere-o.\n",
        "\"\"\"\n",
        "soma = 0\n",
        "for i in range(6):\n",
        "    numero = int(input(f\"{i+1}º número: \"))\n",
        "    if numero % 2 == 0:\n",
        "        soma += numero\n",
        "print(f\"\\nSoma: \\033[1m{soma:,}\\033[0m\")"
      ],
      "metadata": {
        "id": "Jzg6y0NHaHW0",
        "outputId": "82a67cc1-044c-450d-9023-b0189d484dd1",
        "colab": {
          "base_uri": "https://localhost:8080/"
        }
      },
      "execution_count": 120,
      "outputs": [
        {
          "output_type": "stream",
          "name": "stdout",
          "text": [
            "1º número: 1\n",
            "2º número: 2\n",
            "3º número: 3\n",
            "4º número: 4\n",
            "5º número: 5\n",
            "6º número: 6\n",
            "Soma: \u001b[1m12\u001b[0m\n"
          ]
        }
      ]
    },
    {
      "cell_type": "code",
      "source": [
        "# DESAFIO 06\n",
        "\"\"\"\n",
        "Desenvolva um programa que leia o primeiro termo e a razão de uma PA.\n",
        "No final, mostre os 10 primeiros termos dessa progressão.\n",
        "\"\"\"\n",
        "termo = int(input(\"Primeiro termo: \"))\n",
        "razao = int(input(\"Razão: \"))\n",
        "for i in range(10):\n",
        "    print(termo + razao, end=' ')\n",
        "    termo += razao\n",
        "INCOMPLETO"
      ],
      "metadata": {
        "id": "ymergEtVaJXk",
        "outputId": "8a070324-575d-4018-b8b7-a804da42902e",
        "colab": {
          "base_uri": "https://localhost:8080/"
        }
      },
      "execution_count": 121,
      "outputs": [
        {
          "output_type": "stream",
          "name": "stdout",
          "text": [
            "Primeiro termo: 1\n",
            "Razão: 2\n",
            "3 5 7 9 11 13 15 17 19 21 "
          ]
        }
      ]
    },
    {
      "cell_type": "code",
      "source": [
        "# DESAFIO 07\n",
        "\"\"\"\n",
        "Faça um programa que leia o peso de cinco pessoas.\n",
        "No final, mostre qual foi o maior e o menor peso lidos.\n",
        "\"\"\"\n"
      ],
      "metadata": {
        "id": "_cfGo-4TaK40"
      },
      "execution_count": null,
      "outputs": []
    }
  ]
}