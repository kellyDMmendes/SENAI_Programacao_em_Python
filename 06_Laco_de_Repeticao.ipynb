{
  "nbformat": 4,
  "nbformat_minor": 0,
  "metadata": {
    "colab": {
      "provenance": [],
      "authorship_tag": "ABX9TyP3mitQGt2DytKYLBYfHAcJ",
      "include_colab_link": true
    },
    "kernelspec": {
      "name": "python3",
      "display_name": "Python 3"
    },
    "language_info": {
      "name": "python"
    }
  },
  "cells": [
    {
      "cell_type": "markdown",
      "metadata": {
        "id": "view-in-github",
        "colab_type": "text"
      },
      "source": [
        "<a href=\"https://colab.research.google.com/github/kellyDMmendes/SENAI_Programacao_em_Python/blob/main/06_Laco_de_Repeticao.ipynb\" target=\"_parent\"><img src=\"https://colab.research.google.com/assets/colab-badge.svg\" alt=\"Open In Colab\"/></a>"
      ]
    },
    {
      "cell_type": "markdown",
      "source": [
        "# **Laço de Repetição FOR**"
      ],
      "metadata": {
        "id": "rv5SdItd7gHX"
      }
    },
    {
      "cell_type": "code",
      "source": [
        "# Exemplo 01\n",
        "for i in range(1, 6):\n",
        "    print(i, end=' ')"
      ],
      "metadata": {
        "id": "kcMPcO6l7jQ3"
      },
      "execution_count": null,
      "outputs": []
    },
    {
      "cell_type": "code",
      "source": [
        "# Exemplo 02\n",
        "for i in range(0, 10, 2):  # range(inicio, fim, salto)\n",
        "    print(i, end=' ')"
      ],
      "metadata": {
        "id": "T8hOMCjz86dq"
      },
      "execution_count": null,
      "outputs": []
    },
    {
      "cell_type": "code",
      "source": [
        "# Exemplo 03\n",
        "inicio = 5\n",
        "fim = 0\n",
        "salto = -1\n",
        "\n",
        "for i in range(inicio, fim, salto):\n",
        "    print(i, end=' ')"
      ],
      "metadata": {
        "id": "9zwepTVX9U3y"
      },
      "execution_count": null,
      "outputs": []
    },
    {
      "cell_type": "code",
      "source": [
        "# Exemplo 04\n",
        "for i in range(5):\n",
        "    print(f\"{i+1} | SENAI\")"
      ],
      "metadata": {
        "id": "edkTft2_98Dq"
      },
      "execution_count": null,
      "outputs": []
    },
    {
      "cell_type": "code",
      "source": [
        "# Exemplo 05\n",
        "texto = 'PYTHON'\n",
        "\n",
        "for letra in texto:\n",
        "    print(letra, end=' ')"
      ],
      "metadata": {
        "id": "YLv0C2Mv-qTp"
      },
      "execution_count": null,
      "outputs": []
    },
    {
      "cell_type": "code",
      "source": [
        "# Exemplo 06\n",
        "frase = ['Python', 'é', 'fantástico!']\n",
        "\n",
        "for palavra in frase:\n",
        "    print(palavra, end=' ')"
      ],
      "metadata": {
        "id": "QKev8Dn9_LEC"
      },
      "execution_count": null,
      "outputs": []
    },
    {
      "cell_type": "code",
      "source": [
        "# Exemplo 07\n",
        "lista = [1, 10, 20, 30, 40, 50]\n",
        "\n",
        "for numero in lista:\n",
        "    if numero == 30:\n",
        "        continue  # pula o resto da iteração\n",
        "    print(numero, end=' ')"
      ],
      "metadata": {
        "id": "QBWa9t9c_q6B"
      },
      "execution_count": null,
      "outputs": []
    },
    {
      "cell_type": "code",
      "source": [
        "# Exemplo 08\n",
        "for i in range(50):\n",
        "    if i >= 10:\n",
        "        break\n",
        "    else:\n",
        "        print(i+1, end=' ')"
      ],
      "metadata": {
        "id": "VU5ZkReiArPw"
      },
      "execution_count": null,
      "outputs": []
    },
    {
      "cell_type": "code",
      "source": [
        "# EXEMPLO 09\n",
        "for i in range(1, 11):\n",
        "    print()\n",
        "    for j in range(1, 11):\n",
        "        print(f\"{i*j}\".rjust(3), end=' ')"
      ],
      "metadata": {
        "id": "QONItFnpLI98"
      },
      "execution_count": null,
      "outputs": []
    },
    {
      "cell_type": "markdown",
      "source": [
        "# **Desafios**"
      ],
      "metadata": {
        "id": "etZR_PhsBTD5"
      }
    },
    {
      "cell_type": "code",
      "source": [
        "# DESAFIO 01\n",
        "\"\"\"\n",
        "Crie um programa que mostre na tela todos os números pares que estão\n",
        "no intervalo entre 1 e 50.\n",
        "\"\"\"\n",
        "for i in range(2, 51, 2):\n",
        "    print(f\"{i:>3}\", end=' ')\n",
        "    if i % 20 == 0:\n",
        "        print()"
      ],
      "metadata": {
        "id": "Nk5oWBceBXbw"
      },
      "execution_count": null,
      "outputs": []
    },
    {
      "cell_type": "code",
      "source": [
        "# DESAFIO 01\n",
        "# Professor v1\n",
        "for i in range(2, 51, 2):\n",
        "    print(i, end=' ')"
      ],
      "metadata": {
        "id": "XJ_8f9bHKFh9"
      },
      "execution_count": null,
      "outputs": []
    },
    {
      "cell_type": "code",
      "source": [
        "# DESAFIO 01\n",
        "# professor v2\n",
        "for i in range(1, 51):\n",
        "    if i%2 == 0:\n",
        "        print(i, end=' ')"
      ],
      "metadata": {
        "id": "ukk3m8GwKJvU"
      },
      "execution_count": null,
      "outputs": []
    },
    {
      "cell_type": "code",
      "source": [
        "# DESAFIO 02\n",
        "\"\"\"\n",
        "Faça um programa que calcule a soma entre todos os números ímpares\n",
        "que são múltiplos de três e que se encontram no intervalo de 1 até 500.\n",
        "\"\"\"\n",
        "soma = 0\n",
        "for i in range(3, 500, 2):\n",
        "    if i % 3 == 0:\n",
        "        soma += i\n",
        "print(f\"Soma: \\033[1m{soma:,}\\033[0m\")"
      ],
      "metadata": {
        "id": "kLRczlwfB4sY"
      },
      "execution_count": null,
      "outputs": []
    },
    {
      "cell_type": "code",
      "source": [
        "# DESAFIO 02\n",
        "# Professor v1\n",
        "soma = 0\n",
        "for i in range(0, 501, 3):\n",
        "    if i%2 != 0:\n",
        "        soma+=i\n",
        "print(soma)"
      ],
      "metadata": {
        "id": "jtErUeEXMsEr"
      },
      "execution_count": null,
      "outputs": []
    },
    {
      "cell_type": "code",
      "source": [
        "# DESAFIO 02\n",
        "# Professor v2\n",
        "soma = 0\n",
        "for num in range(0, 501, 3):\n",
        "    if num%2 != 0:\n",
        "        soma+=num\n",
        "soma = f\"{soma:,.0f}\"\n",
        "soma = soma.replace(',', '.')\n",
        "print(soma)"
      ],
      "metadata": {
        "id": "AeJxgzR-NSH4"
      },
      "execution_count": null,
      "outputs": []
    },
    {
      "cell_type": "code",
      "source": [
        "# DESAFIO 03\n",
        "\"\"\"\n",
        "Mostre a tabuada de um número que o usuário escolher.\n",
        "\"\"\"\n",
        "numero = int(input(\"Digite um número: \"))\n",
        "print()\n",
        "for i in range(1, 11):\n",
        "    print(f\"{i:>2} x {numero} = \\033[1m{numero*i:>3}\\033[0m\")"
      ],
      "metadata": {
        "id": "HwhK0LTvNXso"
      },
      "execution_count": null,
      "outputs": []
    },
    {
      "cell_type": "code",
      "source": [
        "# DESAFIO 03\n",
        "# Professor v1\n",
        "tabuada = int(input(\"Digite um número para ver a tabuada: \"))\n",
        "for numero in range(1, 11):\n",
        "    print(f\"{numero} x {tabuada} = {numero*tabuada}\")"
      ],
      "metadata": {
        "id": "Lod-3PlvNRor"
      },
      "execution_count": null,
      "outputs": []
    },
    {
      "cell_type": "code",
      "source": [
        "# DESAFIO 03\n",
        "# Professor v2\n",
        "tabuada = int(input(\"Digite um número para ver a tabuada: \"))\n",
        "for numero in range(tabuada, 10*tabuada+1, tabuada):\n",
        "    print(numero, end='  ')"
      ],
      "metadata": {
        "id": "RnpCqdvGNRRk"
      },
      "execution_count": null,
      "outputs": []
    },
    {
      "cell_type": "code",
      "source": [
        "# DESAFIO 04\n",
        "\"\"\"\n",
        "Faça um programa que mostre na tela uma contagem regressiva para\n",
        "o estouro de fogos de artificio, indo de 10 até 0, com uma pausa\n",
        "de 1 segundo entre eles.\n",
        "Utilizar a Biblioteca TIME time.sleep(segundos)\n",
        "\"\"\"\n",
        "from random import randint\n",
        "from time import sleep\n",
        "from google.colab import output as o\n",
        "\n",
        "e = '🎆'\n",
        "\n",
        "for i in range(10, 0, -1):\n",
        "    letra = randint(30, 37)\n",
        "    print(f\"\\033[1;{letra}m{' '*21}\")\n",
        "    print(f\"{i:^21}\")\n",
        "    print(f\"{' '*21}\\033[0m\")\n",
        "    sleep(1)\n",
        "    o.clear()\n",
        "\n",
        "for i in range(10):\n",
        "    letra = randint(30, 37)\n",
        "    print(f\"\\033[1;{letra}m{' '*21}\")\n",
        "    emoji = randint(1, 5)\n",
        "    match emoji:\n",
        "        case 1:\n",
        "            e = '🎆'\n",
        "        case 2:\n",
        "            e = '🎉'\n",
        "        case 3:\n",
        "            e = '🍾'\n",
        "        case 4:\n",
        "            e = '🎇'\n",
        "        case 5:\n",
        "            e = '🎊'\n",
        "    print(f\"{e}\", end=' ')\n",
        "    emoji = randint(1, 5)\n",
        "    match emoji:\n",
        "        case 1:\n",
        "            e = '🎆'\n",
        "        case 2:\n",
        "            e = '🎉'\n",
        "        case 3:\n",
        "            e = '🍾'\n",
        "        case 4:\n",
        "            e = '🎇'\n",
        "        case 5:\n",
        "            e = '🎊'\n",
        "    print(f\"FELIZ ANO NOVO {e}\")\n",
        "    print(f\"{' '*21}\\033[0m\")\n",
        "    sleep(1)\n",
        "    o.clear()"
      ],
      "metadata": {
        "id": "OuM3jvLpNcX_"
      },
      "execution_count": null,
      "outputs": []
    },
    {
      "cell_type": "code",
      "source": [
        "# DESAFIO 04\n",
        "# Professor v1\n",
        "import time\n",
        "\n",
        "for i in range(10, 0, -1):\n",
        "    print(i)\n",
        "    time.sleep(1)\n",
        "print(\" 🎆 FELIZ ANO NOVO!!! 🍾 \".center(50, '#'))"
      ],
      "metadata": {
        "id": "TrNPz9eHNTbz"
      },
      "execution_count": null,
      "outputs": []
    },
    {
      "cell_type": "code",
      "source": [
        "# DESAFIO 04\n",
        "# Professor v2\n",
        "import time\n",
        "from google.colab import output\n",
        "\n",
        "for i in range(10, 0, -1):\n",
        "    print(i)\n",
        "    time.sleep(1)\n",
        "    output.clear()\n",
        "print(\" 🎆 FELIZ ANO NOVO!!! 🍾 \".center(50, '#'))"
      ],
      "metadata": {
        "id": "0nMEWd44NTUk"
      },
      "execution_count": null,
      "outputs": []
    },
    {
      "cell_type": "code",
      "source": [
        "# DESAFIO 04\n",
        "# Professor v3\n",
        "import time\n",
        "from google.colab import output\n",
        "from IPython.display import Audio\n",
        "wn = Audio('/content/drive/MyDrive/Colab Notebooks/2413/arquivos/fogos.mp3', autoplay=True, embed=None)\n",
        "\n",
        "for i in range(10, 0, -1):\n",
        "    print(i)\n",
        "    time.sleep(1)\n",
        "    output.clear()\n",
        "display(wn)\n",
        "\n",
        "print(\" 🎆 FELIZ ANO NOVO!!! 🍾 \".center(50, '#'))"
      ],
      "metadata": {
        "id": "xog2qjZjNVa8"
      },
      "execution_count": null,
      "outputs": []
    },
    {
      "cell_type": "code",
      "source": [
        "# DESAFIO 05\n",
        "\"\"\"\n",
        "Desenvolva um programa que leia seis números inteiros e mostre a soma apenas\n",
        "daqueles que forem pares. Se o valor digitado for impar desconsidere-o.\n",
        "\"\"\"\n",
        "soma = 0\n",
        "for i in range(6):\n",
        "    numero = int(input(f\"{i+1}º número: \"))\n",
        "    if numero % 2 == 0:\n",
        "        soma += numero\n",
        "print(f\"\\nSoma: \\033[1m{soma:,}\\033[0m\")"
      ],
      "metadata": {
        "id": "Jzg6y0NHaHW0"
      },
      "execution_count": null,
      "outputs": []
    },
    {
      "cell_type": "code",
      "source": [
        "# DESAFIO 05\n",
        "# Professor v1\n",
        "soma = 0\n",
        "for i in range(1, 7):\n",
        "    num = int(input(f\"Digite o {i}º número: \"))\n",
        "    if num%2 == 0:\n",
        "        soma+=num\n",
        "print(f\"\\nSoma de números pares: {soma}\")"
      ],
      "metadata": {
        "id": "VV4Bnp4GNXdb"
      },
      "execution_count": null,
      "outputs": []
    },
    {
      "cell_type": "code",
      "source": [
        "# DESAFIO 06\n",
        "\"\"\"\n",
        "Desenvolva um programa que leia o primeiro termo e a razão de uma PA.\n",
        "No final, mostre os 10 primeiros termos dessa progressão.\n",
        "\"\"\"\n",
        "termo = int(input(f\"Primeiro termo: \"))\n",
        "razao = int(input(f\"Razão: \"))\n",
        "print()\n",
        "\n",
        "for i in range(10):\n",
        "    print(termo, end=' ')\n",
        "    termo += razao"
      ],
      "metadata": {
        "id": "ymergEtVaJXk"
      },
      "execution_count": null,
      "outputs": []
    },
    {
      "cell_type": "code",
      "source": [
        "# DESAFIO 06\n",
        "# Professor v1\n",
        "termo = int(input(\"Digite o 1º termo: \"))\n",
        "razao = int(input(\"Digite a razão: \"))\n",
        "print(f'\\n{termo}', end=' ')\n",
        "for i in range(9):\n",
        "    termo+=razao\n",
        "    print(termo, end=' ')"
      ],
      "metadata": {
        "id": "kpD87bE3QZ8V"
      },
      "execution_count": null,
      "outputs": []
    },
    {
      "cell_type": "code",
      "source": [
        "# DESAFIO 07\n",
        "\"\"\"\n",
        "Faça um programa que leia o peso de cinco pessoas.\n",
        "No final, mostre qual foi o maior e o menor peso lidos.\n",
        "\"\"\"\n",
        "menor = float('inf')\n",
        "maior = 0\n",
        "\n",
        "for i in range(5):\n",
        "    peso = int(input(f\"{i+1}° peso: \"))\n",
        "    if peso < menor:\n",
        "        menor = peso\n",
        "    if peso > maior:\n",
        "        maior = peso\n",
        "\n",
        "print(f\"\\nMenor peso: \\033[1m{menor} kg\\033[0m\")\n",
        "print(f\"Maior peso: \\033[1m{maior} kg\\033[0m\")"
      ],
      "metadata": {
        "id": "_cfGo-4TaK40"
      },
      "execution_count": null,
      "outputs": []
    },
    {
      "cell_type": "code",
      "source": [
        "# DESAFIO 07\n",
        "# Professor v1\n",
        "maior = 0\n",
        "menor = float('inf')\n",
        "for i in range(1, 6):\n",
        "    peso = float(input(f\"Digite o {i}º peso: \"))\n",
        "    if peso > maior:\n",
        "        maior = peso\n",
        "    if peso < menor:\n",
        "        menor = peso\n",
        "print(f\"\\nMaior peso: {maior:,.1f} Kls\")\n",
        "print(f\"Menor peso: {menor:,.1f} Kls\")"
      ],
      "metadata": {
        "id": "l5pj09O8Uq4W"
      },
      "execution_count": null,
      "outputs": []
    },
    {
      "cell_type": "code",
      "source": [
        "# DESAFIO 08\n",
        "\"\"\"\n",
        "Crie um programa que leia o ano de nascimento de sete pessoas. No final,\n",
        "mostre quantas pessoas ainda não atingiram a maioridade e quantas já são maiores.\n",
        "\"\"\"\n",
        "menor = maior = 0\n",
        "\n",
        "for i in range(7):\n",
        "    ano = int(input(f\"{i+1}º ano de nascimento: \"))\n",
        "    if 2024 - ano < 18:\n",
        "        menor += 1\n",
        "    else:\n",
        "        maior += 1\n",
        "\n",
        "print(f\"\\nQuantidade de menores de 18 anos: \\033[1m{menor}\\033[0m\")\n",
        "print(f\"Quantidade de maiores de 18 anos: \\033[1m{maior}\\033[0m\")"
      ],
      "metadata": {
        "id": "6M544-YVN8fN"
      },
      "execution_count": null,
      "outputs": []
    },
    {
      "cell_type": "code",
      "source": [
        "# DESAFIO 08\n",
        "# Professor v1\n",
        "anoAtual = 2024\n",
        "maior    = 0\n",
        "menor    = 0\n",
        "for i in range(1, 8):\n",
        "    idade = anoAtual-int(input(f\"Digite o {i}º ano de nascimento: \"))\n",
        "    if idade >= 18:\n",
        "        maior+=1\n",
        "    else:\n",
        "        menor+=1\n",
        "\n",
        "print(f\"\\nMaiores de idade cadastrados: \\033[1m{maior}\\033[0m\")\n",
        "print(f\"Menores de idade cadastrados: \\033[1m{menor}\\033[0m\")"
      ],
      "metadata": {
        "id": "YoaelyWVcC6A"
      },
      "execution_count": null,
      "outputs": []
    },
    {
      "cell_type": "code",
      "source": [
        "# DESAFIO 09\n",
        "\"\"\"\n",
        "Desenvolva um programa que leia o nome, idade e sexo de 4 pessoas. No final  do programa mostre:\n",
        "\tA média de idade do grupo\n",
        "\tQual é o nome do homem mais velho\n",
        "\tQuantas mulheres tem menos de 20 anos\n",
        "\"\"\"\n",
        "tab = ' '*4\n",
        "media = 0\n",
        "mais_velho = 0\n",
        "nome_mais_velho = \"Nenhum homem cadastrado\"\n",
        "menos_vinte = 0\n",
        "\n",
        "for i in range(4):\n",
        "    print(f\"{i+1}ª pessoa:\")\n",
        "    nome = input(f\"{tab}Nome: \")\n",
        "    idade = int(input(f\"{tab}Idade: \"))\n",
        "    sexo = input(f\"{tab}Sexo (F/M): \").upper()\n",
        "    media += idade\n",
        "    if sexo == 'M' and idade > mais_velho:\n",
        "        nome_mais_velho = nome\n",
        "        mais_velho = idade\n",
        "    if sexo == 'F' and idade < 20:\n",
        "        menos_vinte += 1\n",
        "media /= 4\n",
        "print(f\"\\nMédia de idade: \\033[1m{media:,.1f} anos\\033[0m\")\n",
        "print(f\"Homem mais velho : \\033[1m{nome_mais_velho}, {mais_velho} ano(s)\\033[0m\")\n",
        "print(f\"Mulheres com menos de 20 anos: \\033[1m{menos_vinte} mulher(es)\\033[0m\")"
      ],
      "metadata": {
        "id": "lhCAiR0gU231"
      },
      "execution_count": null,
      "outputs": []
    },
    {
      "cell_type": "code",
      "source": [
        "# DESAFIO 09\n",
        "# Professor v1\n",
        "somaIdade = 0\n",
        "qtd       = 0\n",
        "nomeH     = 'Nenhum homem cadastrado'\n",
        "idadeH    = 0\n",
        "menos20M  = 0\n",
        "for i in range(1, 5):\n",
        "    nome  = input(f\"Digite o {i}º nome: \")\n",
        "    idade = int(input(f\"Digite a {i}ª idade: \"))\n",
        "    sexo  = input(f\"Digite o {i}º sexo (F/M): \").upper()\n",
        "    somaIdade+=idade\n",
        "    qtd+=1\n",
        "    if sexo == 'M' and idade > idadeH:\n",
        "        nomeH = nome\n",
        "        idadeH = idade\n",
        "    if sexo == 'F' and idade < 20:\n",
        "        menos20M+=1\n",
        "\n",
        "print(f\"\\nMédia de idade do grupo: {somaIdade/qtd:,.1f} anos.\")\n",
        "print(f\"O homem mais velho: {nomeH}\")\n",
        "print(f\"{menos20M} Mulher(es) tem menos de 20 anos\" if menos20M >0 else \"Nenhuma mulher com menos de 20 anos...\")"
      ],
      "metadata": {
        "id": "QZukSUmBmtV6"
      },
      "execution_count": null,
      "outputs": []
    },
    {
      "cell_type": "code",
      "source": [
        "# DESAFIO 10\n",
        "\"\"\"\n",
        "Faça um programa que leia um número inteiro e diga se ele é ou não um numero primo.\n",
        ">1 só é divisível por ele mesmo\n",
        "\"\"\"\n",
        "eh_primo = True\n",
        "numero = int(input(\"Digite um número: \"))\n",
        "if numero < 2 or numero != 2 and numero % 2 == 0:\n",
        "    eh_primo = False\n",
        "else:\n",
        "    for i in range(3, numero, 2):\n",
        "        if numero % i == 0:\n",
        "            eh_primo = False\n",
        "            break\n",
        "if(eh_primo):\n",
        "    print(f\"\\n\\033[32m{numero} é primo\\033[0m\")\n",
        "else:\n",
        "    print(f\"\\n\\033[31m{numero} não é primo\\033[0m\")"
      ],
      "metadata": {
        "id": "YeQV59sFU8Kl"
      },
      "execution_count": null,
      "outputs": []
    },
    {
      "cell_type": "code",
      "source": [
        "# DESAFIO 10\n",
        "# Professor v1\n",
        "cont=0\n",
        "numero = int(input(\"Digite um número: \"))\n",
        "for i in range(1, numero):\n",
        "    if numero%i == 0:\n",
        "        cont+=1\n",
        "    if cont > 1:\n",
        "        break\n",
        "if cont == 1:\n",
        "    print(\"É primo!\")\n",
        "else:\n",
        "    print(\"Não é primo!\")"
      ],
      "metadata": {
        "id": "bV3sIpvtpp1a"
      },
      "execution_count": null,
      "outputs": []
    }
  ]
}