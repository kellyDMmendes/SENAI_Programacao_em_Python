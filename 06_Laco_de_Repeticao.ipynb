{
  "nbformat": 4,
  "nbformat_minor": 0,
  "metadata": {
    "colab": {
      "provenance": [],
      "authorship_tag": "ABX9TyNm94MVv/gbAbaVc99LYkzH",
      "include_colab_link": true
    },
    "kernelspec": {
      "name": "python3",
      "display_name": "Python 3"
    },
    "language_info": {
      "name": "python"
    }
  },
  "cells": [
    {
      "cell_type": "markdown",
      "metadata": {
        "id": "view-in-github",
        "colab_type": "text"
      },
      "source": [
        "<a href=\"https://colab.research.google.com/github/kellyDMmendes/SENAI_Programacao_em_Python/blob/main/06_Laco_de_Repeticao.ipynb\" target=\"_parent\"><img src=\"https://colab.research.google.com/assets/colab-badge.svg\" alt=\"Open In Colab\"/></a>"
      ]
    },
    {
      "cell_type": "markdown",
      "source": [
        "# **Laço de Repetição**"
      ],
      "metadata": {
        "id": "rv5SdItd7gHX"
      }
    },
    {
      "cell_type": "code",
      "source": [
        "# Laço de Repetição FOR\n",
        "\n",
        "# Exemplo 01\n",
        "for i in range(1, 6):\n",
        "    print(i, end=' ')"
      ],
      "metadata": {
        "colab": {
          "base_uri": "https://localhost:8080/"
        },
        "id": "kcMPcO6l7jQ3",
        "outputId": "216039fe-06a4-48e6-fae0-7aebfb2892a1"
      },
      "execution_count": 4,
      "outputs": [
        {
          "output_type": "stream",
          "name": "stdout",
          "text": [
            "1 2 3 4 5 "
          ]
        }
      ]
    },
    {
      "cell_type": "code",
      "source": [
        "# Exemplo 02\n",
        "for i in range(0, 10, 2):  # range(inicio, fim, salto)\n",
        "    print(i, end=' ')"
      ],
      "metadata": {
        "colab": {
          "base_uri": "https://localhost:8080/"
        },
        "id": "T8hOMCjz86dq",
        "outputId": "afee2e3e-9b6b-4284-ae46-3248b701bacf"
      },
      "execution_count": 5,
      "outputs": [
        {
          "output_type": "stream",
          "name": "stdout",
          "text": [
            "0 2 4 6 8 "
          ]
        }
      ]
    },
    {
      "cell_type": "code",
      "source": [
        "# Exemplo 03\n",
        "inicio = 5\n",
        "fim = 0\n",
        "salto = -1\n",
        "\n",
        "for i in range(inicio, fim, salto):\n",
        "    print(i, end=' ')"
      ],
      "metadata": {
        "colab": {
          "base_uri": "https://localhost:8080/"
        },
        "id": "9zwepTVX9U3y",
        "outputId": "34bce380-73a6-424c-95ec-ae16ede8deb7"
      },
      "execution_count": 7,
      "outputs": [
        {
          "output_type": "stream",
          "name": "stdout",
          "text": [
            "5 4 3 2 1 "
          ]
        }
      ]
    },
    {
      "cell_type": "code",
      "source": [
        "# Exemplo 04\n",
        "for i in range(5):\n",
        "    print(f\"{i+1} | SENAI\")"
      ],
      "metadata": {
        "id": "edkTft2_98Dq",
        "outputId": "deaba7a3-9974-4ec6-b666-0a79c41dd3e8",
        "colab": {
          "base_uri": "https://localhost:8080/"
        }
      },
      "execution_count": 9,
      "outputs": [
        {
          "output_type": "stream",
          "name": "stdout",
          "text": [
            "1 | SENAI\n",
            "2 | SENAI\n",
            "3 | SENAI\n",
            "4 | SENAI\n",
            "5 | SENAI\n"
          ]
        }
      ]
    }
  ]
}