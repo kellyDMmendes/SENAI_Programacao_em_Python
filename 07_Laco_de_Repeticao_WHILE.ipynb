{
  "nbformat": 4,
  "nbformat_minor": 0,
  "metadata": {
    "colab": {
      "provenance": [],
      "authorship_tag": "ABX9TyMfUS95FqOSw4e2VcDcu/Gm",
      "include_colab_link": true
    },
    "kernelspec": {
      "name": "python3",
      "display_name": "Python 3"
    },
    "language_info": {
      "name": "python"
    }
  },
  "cells": [
    {
      "cell_type": "markdown",
      "metadata": {
        "id": "view-in-github",
        "colab_type": "text"
      },
      "source": [
        "<a href=\"https://colab.research.google.com/github/kellyDMmendes/senai_programacao_em_python/blob/main/07_Laco_de_Repeticao_WHILE.ipynb\" target=\"_parent\"><img src=\"https://colab.research.google.com/assets/colab-badge.svg\" alt=\"Open In Colab\"/></a>"
      ]
    },
    {
      "cell_type": "code",
      "execution_count": null,
      "metadata": {
        "id": "N1AUBLGbvr9f"
      },
      "outputs": [],
      "source": [
        "# Exemplo 01\n",
        "i = 1\n",
        "while i <= 10:\n",
        "    print(i, end=' ')\n",
        "    i += 1"
      ]
    },
    {
      "cell_type": "code",
      "source": [
        "# Exemplo 02\n",
        "i = 10\n",
        "while i > 0:\n",
        "    print(i, end=' ')\n",
        "    i -= 1"
      ],
      "metadata": {
        "id": "1nnRCx3jw7G9"
      },
      "execution_count": null,
      "outputs": []
    },
    {
      "cell_type": "code",
      "source": [
        "# Exemplo 03\n",
        "i = 0\n",
        "while i < 5:\n",
        "    i += 1\n",
        "    if i == 3:\n",
        "        print(\"Pulando a iteração 3...\")\n",
        "        continue\n",
        "    print(i)\n",
        "else:\n",
        "    print(\"Fim do loop\")"
      ],
      "metadata": {
        "id": "8OcUehCWxNpm"
      },
      "execution_count": null,
      "outputs": []
    },
    {
      "cell_type": "code",
      "source": [
        "# Exemplo 04\n",
        "while True:\n",
        "    r = input(\"Digite (S) para sair, outros para continuar: \").upper()\n",
        "    if r == 'S':\n",
        "        print(\"Saindo do loop...\")\n",
        "        break\n",
        "    else:\n",
        "        print(\"Continuando...\")"
      ],
      "metadata": {
        "id": "KOOJVZBVyrUa"
      },
      "execution_count": null,
      "outputs": []
    },
    {
      "cell_type": "code",
      "source": [
        "# Exemplo 05\n",
        "while True:\n",
        "    r = input(\"Digite (S) para sair ou (C) para continuar: \").upper()\n",
        "    if r != 'S' and r != 'C':\n",
        "        print(\"\\nSó vale S e C, seu jumento 🐴\\n\")\n",
        "        continue\n",
        "    if r == 'S':\n",
        "        print(\"\\nSaindo do loop...\\n\")\n",
        "        break\n",
        "    else:\n",
        "        print(\"\\nContinuando...\\n\")"
      ],
      "metadata": {
        "id": "rUuTYdnAzvlG"
      },
      "execution_count": null,
      "outputs": []
    },
    {
      "cell_type": "code",
      "source": [
        "# Exemplo 06\n",
        "from google.colab.output import clear\n",
        "from time import sleep\n",
        "\n",
        "while True:\n",
        "    r = input(\"Digite (S) para sair ou (C) para continuar: \").upper()\n",
        "    if r != 'S' and r != 'C':\n",
        "        print(\"\\nSó vale S e C, seu jumento 🐴\")\n",
        "        sleep(3)\n",
        "        clear()\n",
        "        continue\n",
        "    if r == 'S':\n",
        "        print(\"\\nSaindo do loop...\")\n",
        "        break\n",
        "    else:\n",
        "        print(\"\\nContinuando...\")\n",
        "    sleep(3)\n",
        "    clear()"
      ],
      "metadata": {
        "id": "-5KRPfld1NGg"
      },
      "execution_count": null,
      "outputs": []
    },
    {
      "cell_type": "markdown",
      "source": [
        "# **Desafios**"
      ],
      "metadata": {
        "id": "s9QtjfcV2Von"
      }
    },
    {
      "cell_type": "code",
      "source": [
        "# DESAFIO 01\n",
        "\"\"\"\n",
        "Faça um programa que leia o sexo de uma pessoa, mas só aceite os\n",
        "valores ‘M’ ou ‘F’. Caso esteja errado, peça a digitação novamente até\n",
        "ter um valor correto.\n",
        "\"\"\"\n",
        "from google.colab.output import clear\n",
        "from time import sleep\n",
        "sexo = input(\"Sexo (F/M): \")\n",
        "while sexo != 'F' and sexo != 'M':\n",
        "    print(\"\\n\\033[91mOpção inválida. Aguarde...\")\n",
        "    sleep(2)\n",
        "    clear()\n",
        "    sexo = input(\"Sexo (F/M): \").upper()\n",
        "if sexo == 'F':\n",
        "    print(\"\\n\\033[31mSexo Feminino\\033[0m\")\n",
        "else:\n",
        "    print(\"\\n\\033[36mSexo Masculino\\033[0m\")"
      ],
      "metadata": {
        "id": "qqyOFuSk2Z2W"
      },
      "execution_count": null,
      "outputs": []
    },
    {
      "cell_type": "code",
      "source": [
        "# DESAFIO 01\n",
        "# Professor v1\n",
        "while True:\n",
        "    sexo = input(\"Digite o sexo (M/F) ou (S) para sair: \").upper()\n",
        "    if sexo == 'S':\n",
        "        print(\"\\nSaindo...\")\n",
        "        break\n",
        "    if sexo != 'M' and sexo != 'F':\n",
        "        print(\"\\033[31mOpção inválida...\\033[0m\")\n",
        "        continue\n",
        "    if sexo == 'M':\n",
        "        print(f'\\033[1;37;44m',f'MASCULINO'.center(30),f'\\033[0m')\n",
        "    else:\n",
        "        print(f'\\033[1;37;45m',f'FEMININO'.center(30), f'\\033[0m')"
      ],
      "metadata": {
        "id": "egkdyA7x-Vpa"
      },
      "execution_count": null,
      "outputs": []
    },
    {
      "cell_type": "markdown",
      "source": [],
      "metadata": {
        "id": "NABMjwXa4Ynl"
      }
    },
    {
      "cell_type": "code",
      "source": [
        "# DESAFIO 02\n",
        "\"\"\"\n",
        "Faça um programa onde o computador vai “pensar” em um número entre 1 a 10.\n",
        "O jogador vai tentar adivinhar até acertar, mostrando no final quantos\n",
        "palpites foram necessários para vencer.\n",
        "\"\"\"\n",
        "from google.colab.output import clear\n",
        "from time import sleep\n",
        "from random import randint\n",
        "\n",
        "computador = randint(1, 10)\n",
        "\n",
        "usuario = int(input(\"Adivinhe o número: \"))\n",
        "cont = 1\n",
        "while usuario != computador:\n",
        "    print(\"\\n\\033[1;31mERROOOU!!!\\033[0m\")\n",
        "    print(\"\\nAguarde...\")\n",
        "    cont += 1\n",
        "    sleep(2)\n",
        "    clear()\n",
        "    usuario = int(input(\"Adivinhe o número: \"))\n",
        "print(\"\\n\\033[1;32mACERTOOOU!!!\\033[0m\")\n",
        "print(f\"{cont} tentativas\\033[0m\")"
      ],
      "metadata": {
        "id": "E4Ws3ojF3v53"
      },
      "execution_count": null,
      "outputs": []
    },
    {
      "cell_type": "code",
      "source": [
        "# DESAFIO 02\n",
        "# Professor v1\n",
        "import random\n",
        "tentativas = 0\n",
        "computador = random.randint(1, 10)\n",
        "print(computador)\n",
        "while True:\n",
        "    jogador = int(input(\"Acerte o nº do computador (1 a 10): \"))\n",
        "    tentativas+=1\n",
        "    if jogador == computador:\n",
        "        print(f\"\\n😊 Acertou com {tentativas} tentativa(s)!\")\n",
        "        break\n",
        "    else:\n",
        "        print(f\"\\n🤦‍♂️ Errou! {tentativas}ª tentativa!\")"
      ],
      "metadata": {
        "id": "0GegolUTB_ai"
      },
      "execution_count": null,
      "outputs": []
    },
    {
      "cell_type": "code",
      "source": [
        "# DESAFIO 03\n",
        "\"\"\"\n",
        "Crie um programa que leia dois valores e mostre um menu na tela:\n",
        "[1] Somar\n",
        "[2] Multiplicar\n",
        "[3] Maior\n",
        "[4] Novos Números\n",
        "[5] Sair do programa\n",
        "\n",
        "Seu programa deverá realizar a operação solicitada em cada caso.\n",
        "\"\"\"\n",
        "from google.colab.output import use_tags, clear\n",
        "\n",
        "with use_tags('limpar'):\n",
        "    n1 = int(input(\"Digite o 1º número: \"))\n",
        "    n2 = int(input(\"Digite o 2º número: \"))\n",
        "    print(\"\"\"\n",
        "        [1] Somar\n",
        "        [2] Multiplicar\n",
        "        [3] Maior\n",
        "        [4] Novos Números\n",
        "        [5] Sair do programa\n",
        "    \"\"\")\n",
        "    opcao = int(input(\"Digite uma opção: \"))\n",
        "    while opcao != 5:\n",
        "        match opcao:\n",
        "            case 1:\n",
        "                print(f\"\\n{n1} + {n2} = \\033[1m{n1 + n2}\\033[0m\")\n",
        "            case 2:\n",
        "                print(f\"\\n{n1} x {n2} = \\033[1m{n1 * n2}\\033[0m\")\n",
        "            case 3:\n",
        "                print(f\"\\nMaior número: \\033[1m{max(n1, n2)}\\033[0m\")\n",
        "            case 4:\n",
        "                print()\n",
        "                n1 = int(input(\"Digite o 1º número: \"))\n",
        "                n2 = int(input(\"Digite o 2º número: \"))\n",
        "                print()\n",
        "            case _:\n",
        "                print(\"\\n\\033[31mOpção Inválida\\033[0m\")\n",
        "        _ = input(\"\\nDigite ENTER para continuar \")\n",
        "        clear(output_tags='limpar')\n",
        "\n",
        "        print(f\"1º número: {n1}\")\n",
        "        print(f\"2º número: {n2}\")\n",
        "        print(\"\"\"\n",
        "        [1] Somar\n",
        "        [2] Multiplicar\n",
        "        [3] Maior\n",
        "        [4] Novos Números\n",
        "        [5] Sair do programa\n",
        "        \"\"\")\n",
        "        opcao = int(input(\"Digite uma opção: \"))\n",
        "print(\"\\n\\033[1mFim do programa\\033[0m\")"
      ],
      "metadata": {
        "id": "b0-jmiCs-pbh"
      },
      "execution_count": null,
      "outputs": []
    },
    {
      "cell_type": "code",
      "source": [
        "# DESAFIO 03\n",
        "# Professor v1\n",
        "from google.colab import output\n",
        "while True:\n",
        "    v1 = float(input(\"\\nDigite o 1º valor: \"))\n",
        "    v2 = float(input(\"Digite o 2º valor: \"))\n",
        "    op = input(\"\"\"ESCOLHA UMA OPÇÃO:\n",
        "\n",
        "[1] Somar\n",
        "[2] Multiplicar\n",
        "[3] Maior\n",
        "[4] Novos Números\n",
        "[5] Sair do programa\n",
        "\"\"\")\n",
        "    match op:\n",
        "        case '1':\n",
        "            output.clear()\n",
        "            print(f\"\\n{v1} + {v2} = {v1+v2}\")\n",
        "        case '2':\n",
        "            output.clear()\n",
        "            print(f\"\\n{v1} x {v2} = {v1*v2}\")\n",
        "        case '3':\n",
        "            output.clear()\n",
        "            print(f\"\\nMaior entre {v1} e {v2} = {max(v1, v2)}\")\n",
        "        case '4':\n",
        "            output.clear()\n",
        "            continue\n",
        "        case '5':\n",
        "            output.clear()\n",
        "            print(f\"\\nVocê saiu...\")\n",
        "            break\n",
        "        case _:\n",
        "            output.clear()\n",
        "            print(\"Opção inválida...\")"
      ],
      "metadata": {
        "id": "x6q_AXh3dmpA"
      },
      "execution_count": null,
      "outputs": []
    },
    {
      "cell_type": "code",
      "source": [
        "# DESAFIO 04\n",
        "\"\"\"\n",
        "Faça um programa que leia um número qualquer e mostre o seu\n",
        "fatorial.\n",
        "Exemplo:\n",
        "\n",
        "5! = 5 x 4 x 3 x 2 x 1 = 120\n",
        "\"\"\"\n",
        "vezes = False\n",
        "fatorial = 1\n",
        "numero = int(input(\"Digite um número: \"))\n",
        "texto = f\"{numero}! = \"\n",
        "\n",
        "while numero > 0:\n",
        "    if vezes:\n",
        "        texto += \"x \"\n",
        "    texto += f\"{numero} \"\n",
        "    fatorial *= numero\n",
        "    numero -= 1\n",
        "    vezes = True\n",
        "print(f\"{texto}= \\033[1m{fatorial:,}\\033[0m\")"
      ],
      "metadata": {
        "id": "GHrJ8olAdtmQ"
      },
      "execution_count": null,
      "outputs": []
    },
    {
      "cell_type": "code",
      "source": [
        "# DESAFIO 04\n",
        "# Porfessor v1\n",
        "fatorial = 1\n",
        "\n",
        "num = int(input(\"Digite um número para ver seu Fatorial: \"))\n",
        "r = f'{num}! = '\n",
        "while num >= 1:\n",
        "    fatorial*=num\n",
        "    if num > 1:\n",
        "        r += f'{num} x '\n",
        "    else:\n",
        "        r += f'1 = {fatorial}'\n",
        "    num-=1\n",
        "print(f'\\n{r}')"
      ],
      "metadata": {
        "id": "yIPGFvFhk6k9"
      },
      "execution_count": null,
      "outputs": []
    },
    {
      "cell_type": "code",
      "source": [
        "# DESAFIO 05\n",
        "\"\"\"\n",
        "Lendo o primeiro termo e a razão de uma PA, mostre os 10 primeiros\n",
        "termos da progressão.\n",
        "\"\"\"\n",
        "termo = int(input(f\"Primeiro termo: \"))\n",
        "razao = int(input(f\"Razão: \"))\n",
        "print()\n",
        "\n",
        "i = 0\n",
        "while i < 10:\n",
        "    print(f\"\\033[1m{termo}\\033[0m\", end=' ')\n",
        "    termo += razao\n",
        "    i += 1"
      ],
      "metadata": {
        "id": "qrK7CGPNgqfw"
      },
      "execution_count": null,
      "outputs": []
    },
    {
      "cell_type": "code",
      "source": [
        "# DESAFIO 05\n",
        "# Professor v1\n",
        "termo = int(input(\"Digite o 1º termo da PA: \"))\n",
        "razao = int(input(\"Digite a razão da PA: \"))\n",
        "i=1\n",
        "print(f'\\n{termo}', end=' ')\n",
        "while i < 10:\n",
        "    termo+=razao\n",
        "    print(termo, end=' ')\n",
        "    i+=1"
      ],
      "metadata": {
        "id": "plSN-Hdfpd3T"
      },
      "execution_count": null,
      "outputs": []
    },
    {
      "cell_type": "code",
      "source": [
        "# DESAFIO 06\n",
        "\"\"\"\n",
        "Melhore o DESAFIO 05, perguntando para o usuário se ele quer mostrar mais\n",
        "alguns termos. O programa encera quando ele disser que quer mostrar 0 termos.\n",
        "\"\"\"\n",
        "from google.colab.output import use_tags, clear\n",
        "termo = int(input(\"Primeiro termo: \"))\n",
        "razao = int(input(\"Razão: \"))\n",
        "qtde = int(input(\"Quantidade de termos: \"))\n",
        "\n",
        "while qtde != 0:\n",
        "    i = 0\n",
        "    print()\n",
        "    while i < qtde:\n",
        "        print(termo, end=' ')\n",
        "        termo += razao\n",
        "        i += 1\n",
        "    with use_tags('limpar'):\n",
        "        qtde = int(input(\"\\nApresentar mais quantos termos: \"))\n",
        "    clear(output_tags='limpar')\n",
        "print(\"\\n\\n\\033[1mFim de programa\\033[0m\")"
      ],
      "metadata": {
        "id": "hZfIjZX6hes3"
      },
      "execution_count": null,
      "outputs": []
    },
    {
      "cell_type": "code",
      "source": [
        "# DESAFIO 06\n",
        "# Professor v1\n",
        "while True:\n",
        "    termo = int(input(\"\\nDigite o 1º termo da PA (0 para sair): \"))\n",
        "    if termo == 0:\n",
        "        print(\"\\nSaindo...\")\n",
        "        break\n",
        "    razao = int(input(\"Digite a razão da PA: \"))\n",
        "    i=1\n",
        "    print(f'\\n\\033[1;31m{termo}', end=' ')\n",
        "    while i < 10:\n",
        "        termo+=razao\n",
        "        print(termo, end=' ')\n",
        "        i+=1\n",
        "    print(\"\\n\\033[0m\")"
      ],
      "metadata": {
        "id": "A1utZ7Kvp1CL"
      },
      "execution_count": null,
      "outputs": []
    },
    {
      "cell_type": "code",
      "source": [
        "# DESAFIO 07\n",
        "\"\"\"\n",
        "Crie um programa que leia vários números inteiros pelo teclado. O\n",
        "programa só vai parar quando o usuário digitar o valor 999, que é a\n",
        "condição de parada. No final, mostre quantos números foram\n",
        "digitados e qual foi a soma entre eles (desconsiderando o 999).\n",
        "\"\"\"\n",
        "cont = soma = 0\n",
        "numero = int(input(\"Digite um número: \"))\n",
        "while numero != 999:\n",
        "    cont += 1\n",
        "    soma += numero\n",
        "    numero = int(input(\"Digite um número: \"))\n",
        "print(f\"\\nNúmeros digitados: \\033[1m{cont}\\033[0m\")\n",
        "print(f\"Soma dos números: \\033[1m{soma}\\033[0m\")"
      ],
      "metadata": {
        "id": "nnICLmcilDIy"
      },
      "execution_count": null,
      "outputs": []
    },
    {
      "cell_type": "code",
      "source": [
        "# DESAFIO 07\n",
        "# Professor v1\n",
        "soma = 0\n",
        "while True:\n",
        "    num = int(input(\"Digite um número inteiro (999 para sair): \"))\n",
        "    if num == 999:\n",
        "        print(\"\\nSaindo...\")\n",
        "        break\n",
        "    else:\n",
        "        soma+=num\n",
        "print(f\"\\n\\033[1;32mA Soma dos números deu: {soma}\")"
      ],
      "metadata": {
        "id": "lQ9ucbefvD4r"
      },
      "execution_count": null,
      "outputs": []
    },
    {
      "cell_type": "code",
      "source": [
        "# DESAFIO 08\n",
        "\"\"\"\n",
        "Crie um programa que leia vários números inteiros pelo teclado. No\n",
        "final da execução, mostre a média entre todos os valores e qual foi o\n",
        "maior e o menor valores lidos. O programa deve perguntar ao usuário\n",
        "se ele quer ou não continuar a digitar valores\n",
        "\"\"\"\n",
        "from google.colab.output import use_tags, clear\n",
        "media = cont = 0\n",
        "menor = float('inf')\n",
        "maior = (float('inf')*-1)\n",
        "continuar = 'S'\n",
        "while continuar != 'N':\n",
        "    numero = int(input(\"Digite um número: \"))\n",
        "    media += numero\n",
        "    cont += 1\n",
        "    if menor == 'inf' or numero < menor:\n",
        "        menor = numero\n",
        "    if maior == 'inf' or numero > maior:\n",
        "        maior = numero\n",
        "    with use_tags('limpar'):\n",
        "        continuar = input(\"Continuar (S/N): \").upper()\n",
        "        while continuar != 'S' and continuar != 'N':\n",
        "            clear(output_tags='limpar')\n",
        "            print(\"\\033[31mOpção inválida\\033[0m\")\n",
        "            continuar = input(\"Continuar (S/N): \").upper()\n",
        "        clear(output_tags='limpar')\n",
        "media /= cont\n",
        "print(f\"\\nMédia: \\033[1m{media:.1f}\\033[0m\")\n",
        "print(f\"Menor: \\033[1m{menor}\\033[0m\")\n",
        "print(f\"Maior: \\033[1m{maior}\\033[0m\")"
      ],
      "metadata": {
        "id": "Jo19W9Xsp_qz"
      },
      "execution_count": null,
      "outputs": []
    },
    {
      "cell_type": "code",
      "source": [
        "# DESAFIO 09\n",
        "\"\"\"\n",
        "Escreva um programa que leia um número n inteiro qualquer e mostre\n",
        "na tela os n primeiros elementos de uma sequência de Fibonacci.\n",
        "Exemplo:\n",
        "\n",
        "0 –> 1 –> 1 –> 2 –> 3 –> 5 –> 8\n",
        "\"\"\"\n",
        "f1 = 0\n",
        "f2 = 1\n",
        "fib = 0\n",
        "texto = f\"{f1} -> {f2}\"\n",
        "numero = int(input(\"Digite um número: \"))\n",
        "\n",
        "i = 0\n",
        "while i < numero - 2:\n",
        "    fib = f1 + f2\n",
        "    texto += f\" -> {fib}\"\n",
        "    f1 = f2\n",
        "    f2 = fib\n",
        "    i += 1\n",
        "print(f\"\\n\\033[1m{texto}\\033[0m\")"
      ],
      "metadata": {
        "id": "PX9TFuDovNPr"
      },
      "execution_count": null,
      "outputs": []
    }
  ]
}