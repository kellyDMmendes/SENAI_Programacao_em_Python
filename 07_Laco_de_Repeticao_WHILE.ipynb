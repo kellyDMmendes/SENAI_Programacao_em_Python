{
  "nbformat": 4,
  "nbformat_minor": 0,
  "metadata": {
    "colab": {
      "provenance": [],
      "authorship_tag": "ABX9TyNdsCrz0No7k7YTCGnCQaI/",
      "include_colab_link": true
    },
    "kernelspec": {
      "name": "python3",
      "display_name": "Python 3"
    },
    "language_info": {
      "name": "python"
    }
  },
  "cells": [
    {
      "cell_type": "markdown",
      "metadata": {
        "id": "view-in-github",
        "colab_type": "text"
      },
      "source": [
        "<a href=\"https://colab.research.google.com/github/kellyDMmendes/SENAI_Programacao_em_Python/blob/main/07_Laco_de_Repeticao_WHILE.ipynb\" target=\"_parent\"><img src=\"https://colab.research.google.com/assets/colab-badge.svg\" alt=\"Open In Colab\"/></a>"
      ]
    },
    {
      "cell_type": "code",
      "execution_count": null,
      "metadata": {
        "id": "N1AUBLGbvr9f"
      },
      "outputs": [],
      "source": [
        "# Exemplo 01\n",
        "i = 1\n",
        "while i <= 10:\n",
        "    print(i, end=' ')\n",
        "    i += 1"
      ]
    },
    {
      "cell_type": "code",
      "source": [
        "# Exemplo 02\n",
        "i = 10\n",
        "while i > 0:\n",
        "    print(i, end=' ')\n",
        "    i -= 1"
      ],
      "metadata": {
        "id": "1nnRCx3jw7G9"
      },
      "execution_count": null,
      "outputs": []
    },
    {
      "cell_type": "code",
      "source": [
        "# Exemplo 03\n",
        "i = 0\n",
        "while i < 5:\n",
        "    i += 1\n",
        "    if i == 3:\n",
        "        print(\"Pulando a iteração 3...\")\n",
        "        continue\n",
        "    print(i)\n",
        "else:\n",
        "    print(\"Fim do loop\")"
      ],
      "metadata": {
        "id": "8OcUehCWxNpm"
      },
      "execution_count": null,
      "outputs": []
    },
    {
      "cell_type": "code",
      "source": [
        "# Exemplo 04\n",
        "while True:\n",
        "    r = input(\"Digite (S) para sair, outros para continuar: \").upper()\n",
        "    if r == 'S':\n",
        "        print(\"Saindo do loop...\")\n",
        "        break\n",
        "    else:\n",
        "        print(\"Continuando...\")"
      ],
      "metadata": {
        "id": "KOOJVZBVyrUa"
      },
      "execution_count": null,
      "outputs": []
    },
    {
      "cell_type": "code",
      "source": [
        "# Exemplo 05\n",
        "while True:\n",
        "    r = input(\"Digite (S) para sair ou (C) para continuar: \").upper()\n",
        "    if r != 'S' and r != 'C':\n",
        "        print(\"\\nSó vale S e C, seu jumento 🐴\\n\")\n",
        "        continue\n",
        "    if r == 'S':\n",
        "        print(\"\\nSaindo do loop...\\n\")\n",
        "        break\n",
        "    else:\n",
        "        print(\"\\nContinuando...\\n\")"
      ],
      "metadata": {
        "id": "rUuTYdnAzvlG"
      },
      "execution_count": null,
      "outputs": []
    },
    {
      "cell_type": "code",
      "source": [
        "# Exemplo 06\n",
        "from google.colab.output import clear\n",
        "from time import sleep\n",
        "\n",
        "while True:\n",
        "    r = input(\"Digite (S) para sair ou (C) para continuar: \").upper()\n",
        "    if r != 'S' and r != 'C':\n",
        "        print(\"\\nSó vale S e C, seu jumento 🐴\")\n",
        "        sleep(3)\n",
        "        clear()\n",
        "        continue\n",
        "    if r == 'S':\n",
        "        print(\"\\nSaindo do loop...\")\n",
        "        break\n",
        "    else:\n",
        "        print(\"\\nContinuando...\")\n",
        "    sleep(3)\n",
        "    clear()"
      ],
      "metadata": {
        "id": "-5KRPfld1NGg"
      },
      "execution_count": null,
      "outputs": []
    },
    {
      "cell_type": "markdown",
      "source": [
        "# **Desafios**"
      ],
      "metadata": {
        "id": "s9QtjfcV2Von"
      }
    },
    {
      "cell_type": "code",
      "source": [
        "# DESAFIO 01\n",
        "\"\"\"\n",
        "Faça um programa que leia o sexo de uma pessoa, mas só aceite os\n",
        "valores ‘M’ ou ‘F’. Caso esteja errado, peça a digitação novamente até\n",
        "ter um valor correto.\n",
        "\"\"\"\n",
        "from google.colab.output import clear\n",
        "from time import sleep\n",
        "sexo = input(\"Sexo (F/M): \")\n",
        "while sexo != 'F' and sexo != 'M':\n",
        "    print(\"\\n\\033[91mOpção inválida. Aguarde...\")\n",
        "    sleep(2)\n",
        "    clear()\n",
        "    sexo = input(\"Sexo (F/M): \").upper()\n",
        "if sexo == 'F':\n",
        "    print(\"\\n\\033[31mSexo Feminino\\033[0m\")\n",
        "else:\n",
        "    print(\"\\n\\033[36mSexo Masculino\\033[0m\")"
      ],
      "metadata": {
        "id": "qqyOFuSk2Z2W"
      },
      "execution_count": null,
      "outputs": []
    },
    {
      "cell_type": "code",
      "source": [
        "# DESAFIO 01\n",
        "# Professor v1\n",
        "while True:\n",
        "    sexo = input(\"Digite o sexo (M/F) ou (S) para sair: \").upper()\n",
        "    if sexo == 'S':\n",
        "        print(\"\\nSaindo...\")\n",
        "        break\n",
        "    if sexo != 'M' and sexo != 'F':\n",
        "        print(\"\\033[31mOpção inválida...\\033[0m\")\n",
        "        continue\n",
        "    if sexo == 'M':\n",
        "        print(f'\\033[1;37;44m',f'MASCULINO'.center(30),f'\\033[0m')\n",
        "    else:\n",
        "        print(f'\\033[1;37;45m',f'FEMININO'.center(30), f'\\033[0m')"
      ],
      "metadata": {
        "id": "egkdyA7x-Vpa"
      },
      "execution_count": null,
      "outputs": []
    },
    {
      "cell_type": "markdown",
      "source": [],
      "metadata": {
        "id": "NABMjwXa4Ynl"
      }
    },
    {
      "cell_type": "code",
      "source": [
        "# DESAFIO 02\n",
        "\"\"\"\n",
        "Faça um programa onde o computador vai “pensar” em um número entre 1 a 10.\n",
        "O jogador vai tentar adivinhar até acertar, mostrando no final quantos\n",
        "palpites foram necessários para vencer.\n",
        "\"\"\"\n",
        "from google.colab.output import clear\n",
        "from time import sleep\n",
        "from random import randint\n",
        "\n",
        "computador = randint(1, 10)\n",
        "\n",
        "usuario = int(input(\"Adivinhe o número: \"))\n",
        "cont = 1\n",
        "while usuario != computador:\n",
        "    print(\"\\n\\033[1;31mERROOOU!!!\\033[0m\")\n",
        "    print(\"\\nAguarde...\")\n",
        "    cont += 1\n",
        "    sleep(2)\n",
        "    clear()\n",
        "    usuario = int(input(\"Adivinhe o número: \"))\n",
        "print(\"\\n\\033[1;32mACERTOOOU!!!\\033[0m\")\n",
        "print(f\"{cont} tentativas\\033[0m\")"
      ],
      "metadata": {
        "id": "E4Ws3ojF3v53"
      },
      "execution_count": null,
      "outputs": []
    },
    {
      "cell_type": "code",
      "source": [
        "# DESAFIO 03\n",
        "\"\"\"\n",
        "Crie um programa que leia dois valores e mostre um menu na tela:\n",
        "[1] Somar\n",
        "[2] Multiplicar\n",
        "[3] Maior\n",
        "[4] Novos Números\n",
        "[5] Sair do programa\n",
        "\n",
        "Seu programa deverá realizar a operação solicitada em cada caso.\n",
        "\"\"\"\n",
        "n1 = int(input(\"Digite o 1º número: \"))\n",
        "n2 = int(input(\"Digite o 2º número: \"))\n",
        "print(\"\"\"\n",
        "    [1] Somar\n",
        "    [2] Multiplicar\n",
        "    [3] Maior\n",
        "    [4] Novos Números\n",
        "    [5] Sair do programa\n",
        "\"\"\")\n",
        "opcao = int(input(\"Digite uma opção: \"))\n",
        "while opcao != 5:\n",
        "    match opcao:\n",
        "        case 1:\n",
        "            print(f\"\\n{n1} + {n2} = {n1 + n2}\\n\")\n",
        "        case 2:\n",
        "            print(f\"\\n{n1} x {n2} = {n1 * n2}\\n\")\n",
        "        case 3:\n",
        "            print(f\"\\nMaior número: {max(n1, n2)}\\n\")\n",
        "        case 4:\n",
        "            print()\n",
        "            n1 = int(input(\"Digite o 1º número: \"))\n",
        "            n2 = int(input(\"Digite o 2º número: \"))\n",
        "            print()\n",
        "        case _:\n",
        "            print(\"\\nOpção Inválida\\n\")\n",
        "    opcao = int(input(\"Digite uma opção: \"))\n",
        "print(\"\\nFim do programa\")"
      ],
      "metadata": {
        "id": "b0-jmiCs-pbh"
      },
      "execution_count": null,
      "outputs": []
    }
  ]
}