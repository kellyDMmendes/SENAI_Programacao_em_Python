{
  "nbformat": 4,
  "nbformat_minor": 0,
  "metadata": {
    "colab": {
      "provenance": [],
      "authorship_tag": "ABX9TyNyCkFEqAPYMMr2uQjID4jA",
      "include_colab_link": true
    },
    "kernelspec": {
      "name": "python3",
      "display_name": "Python 3"
    },
    "language_info": {
      "name": "python"
    }
  },
  "cells": [
    {
      "cell_type": "markdown",
      "metadata": {
        "id": "view-in-github",
        "colab_type": "text"
      },
      "source": [
        "<a href=\"https://colab.research.google.com/github/kellyDMmendes/SENAI_Programacao_em_Python/blob/main/07_Laco_de_Repeticao_WHILE.ipynb\" target=\"_parent\"><img src=\"https://colab.research.google.com/assets/colab-badge.svg\" alt=\"Open In Colab\"/></a>"
      ]
    },
    {
      "cell_type": "code",
      "execution_count": null,
      "metadata": {
        "id": "N1AUBLGbvr9f"
      },
      "outputs": [],
      "source": [
        "# Exemplo 01\n",
        "i = 1\n",
        "while i <= 10:\n",
        "    print(i, end=' ')\n",
        "    i += 1"
      ]
    },
    {
      "cell_type": "code",
      "source": [
        "# Exemplo 02\n",
        "i = 10\n",
        "while i > 0:\n",
        "    print(i, end=' ')\n",
        "    i -= 1"
      ],
      "metadata": {
        "id": "1nnRCx3jw7G9"
      },
      "execution_count": null,
      "outputs": []
    },
    {
      "cell_type": "code",
      "source": [
        "# Exemplo 03\n",
        "i = 0\n",
        "while i < 5:\n",
        "    i += 1\n",
        "    if i == 3:\n",
        "        print(\"Pulando a iteração 3...\")\n",
        "        continue\n",
        "    print(i)\n",
        "else:\n",
        "    print(\"Fim do loop\")"
      ],
      "metadata": {
        "id": "8OcUehCWxNpm"
      },
      "execution_count": null,
      "outputs": []
    },
    {
      "cell_type": "code",
      "source": [
        "# Exemplo 04\n",
        "while True:\n",
        "    r = input(\"Digite (S) para sair, outros para continuar: \").upper()\n",
        "    if r == 'S':\n",
        "        print(\"Saindo do loop...\")\n",
        "        break\n",
        "    else:\n",
        "        print(\"Continuando...\")"
      ],
      "metadata": {
        "id": "KOOJVZBVyrUa"
      },
      "execution_count": null,
      "outputs": []
    },
    {
      "cell_type": "code",
      "source": [
        "# Exemplo 05\n",
        "while True:\n",
        "    r = input(\"Digite (S) para sair ou (C) para continuar: \").upper()\n",
        "    if r != 'S' and r != 'C':\n",
        "        print(\"\\nSó vale S e C, seu jumento 🐴\\n\")\n",
        "        continue\n",
        "    if r == 'S':\n",
        "        print(\"\\nSaindo do loop...\\n\")\n",
        "        break\n",
        "    else:\n",
        "        print(\"\\nContinuando...\\n\")"
      ],
      "metadata": {
        "id": "rUuTYdnAzvlG"
      },
      "execution_count": null,
      "outputs": []
    },
    {
      "cell_type": "code",
      "source": [
        "# Exemplo 06\n",
        "from google.colab.output import clear\n",
        "from time import sleep\n",
        "\n",
        "while True:\n",
        "    r = input(\"Digite (S) para sair ou (C) para continuar: \").upper()\n",
        "    if r != 'S' and r != 'C':\n",
        "        print(\"\\nSó vale S e C, seu jumento 🐴\")\n",
        "        sleep(3)\n",
        "        clear()\n",
        "        continue\n",
        "    if r == 'S':\n",
        "        print(\"\\nSaindo do loop...\")\n",
        "        break\n",
        "    else:\n",
        "        print(\"\\nContinuando...\")\n",
        "    sleep(3)\n",
        "    clear()"
      ],
      "metadata": {
        "id": "-5KRPfld1NGg"
      },
      "execution_count": null,
      "outputs": []
    }
  ]
}