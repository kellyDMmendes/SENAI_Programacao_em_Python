{
  "nbformat": 4,
  "nbformat_minor": 0,
  "metadata": {
    "colab": {
      "provenance": [],
      "toc_visible": true,
      "authorship_tag": "ABX9TyMSecx2NZ2Mmlp+5+UkwiDP",
      "include_colab_link": true
    },
    "kernelspec": {
      "name": "python3",
      "display_name": "Python 3"
    },
    "language_info": {
      "name": "python"
    }
  },
  "cells": [
    {
      "cell_type": "markdown",
      "metadata": {
        "id": "view-in-github",
        "colab_type": "text"
      },
      "source": [
        "<a href=\"https://colab.research.google.com/github/kellyDMmendes/senai_programacao_em_python/blob/main/08_listas.ipynb\" target=\"_parent\"><img src=\"https://colab.research.google.com/assets/colab-badge.svg\" alt=\"Open In Colab\"/></a>"
      ]
    },
    {
      "cell_type": "markdown",
      "source": [
        "# **Listas**"
      ],
      "metadata": {
        "id": "hWgq0dWM82nZ"
      }
    },
    {
      "cell_type": "code",
      "execution_count": 3,
      "metadata": {
        "id": "_wYPrp3a8uK9",
        "colab": {
          "base_uri": "https://localhost:8080/"
        },
        "outputId": "b7d10e91-68a0-4bfa-a1dc-40aa0fd5d6cb"
      },
      "outputs": [
        {
          "output_type": "stream",
          "name": "stdout",
          "text": [
            "Lista 1: <class 'list'>\n",
            "Lista 2: <class 'list'>\n"
          ]
        }
      ],
      "source": [
        "# Criar Lista Vazia\n",
        "lista1 = []\n",
        "lista2 = list()\n",
        "\n",
        "print(f\"Lista 1: {type(lista1)}\")\n",
        "print(f\"Lista 2: {type(lista2)}\")"
      ]
    },
    {
      "cell_type": "code",
      "source": [
        "# Manipulação de Listas\n",
        "bancos = ['Banco do Brasil', 'Caixa', 'Santander']\n",
        "print(bancos)\n",
        "print(f\"\\n{bancos[2]}\")\n",
        "\n",
        "# Substituir Item da Lista\n",
        "bancos[1] = 'Itaú'\n",
        "print(f\"\\n{bancos}\")\n",
        "\n",
        "# Substituir Último Item da Lista\n",
        "bancos[-1] = 'C6'\n",
        "print(f\"\\n{bancos}\")\n",
        "\n",
        "# Agregar Itens à Lista\n",
        "bancos += ['Bradesco', 'Nubank']\n",
        "print(f\"\\n{bancos}\")\n",
        "\n",
        "# Agregar Itens à Lista\n",
        "bancos += ['Bradesco', 'Nubank']\n",
        "print(f\"\\n{bancos}\")"
      ],
      "metadata": {
        "colab": {
          "base_uri": "https://localhost:8080/"
        },
        "id": "mYu0TSDy9y1A",
        "outputId": "0d465d7d-5899-4a91-f478-2bad6c82934b"
      },
      "execution_count": 11,
      "outputs": [
        {
          "output_type": "stream",
          "name": "stdout",
          "text": [
            "['Banco do Brasil', 'Caixa', 'Santander']\n",
            "\n",
            "Santander\n",
            "\n",
            "['Banco do Brasil', 'Itaú', 'Santander']\n",
            "\n",
            "['Banco do Brasil', 'Itaú', 'C6']\n",
            "\n",
            "['Banco do Brasil', 'Itaú', 'C6', 'Bradesco', 'Nubank']\n"
          ]
        }
      ]
    },
    {
      "cell_type": "code",
      "source": [
        "# Métodos para Listas\n",
        "lista = [4, 5, 3, 5]\n",
        "print(f\"lista: {lista}\")\n",
        "\n",
        "# Adicionar Itens à Lista\n",
        "lista.append(2)\n",
        "print(f\"\\nlista.append(2): {lista}\")\n",
        "\n",
        "# Adicionar Valor no Índice Específico\n",
        "lista.insert(2, -3)\n",
        "print(f\"\\nlista.insert(2, -3): {lista}\")\n",
        "\n",
        "# Contar Valores\n",
        "print(f\"\\nlista.count(5): {lista.count(5)}\")\n",
        "\n",
        "# Verificar Tamanho da Lista\n",
        "print(f\"\\nlen(lista): {len(lista)}\")\n",
        "\n",
        "# Obter Índice do Item\n",
        "print(f\"\\nlista.index(5): {lista.index(5)}\")\n",
        "\n",
        "# Inverter Ordem da Lista\n",
        "lista.reverse()\n",
        "print(f\"\\nlista.reverse(): {lista}\")\n",
        "\n",
        "# Ordenar Lista\n",
        "lista.sort()\n",
        "print(f\"\\nlista.sort(): {lista}\")\n",
        "\n",
        "# Remover Item Através do Valor\n",
        "lista.remove(4)\n",
        "print(f\"\\nlista.remove(4): {lista}\")\n",
        "\n",
        "# remover o Ùltimo Item da Lista\n",
        "removido = lista.pop()\n",
        "print(f\"\\nlista.pop(): {lista}\")\n",
        "print(f\"\\nremovido: {removido}\")\n",
        "\n",
        "# Remover Intervalo\n",
        "del lista[1:3]\n",
        "print(f\"\\ndel lista[1:3]: {lista}\")\n",
        "\n",
        "# Limpar a Lista\n",
        "lista.clear()\n",
        "print(f\"\\nlista.clear(): {lista}\")"
      ],
      "metadata": {
        "colab": {
          "base_uri": "https://localhost:8080/"
        },
        "id": "hX3_0efVAGcB",
        "outputId": "07810af8-336e-40d5-9b34-6c07dbcf17e7"
      },
      "execution_count": 40,
      "outputs": [
        {
          "output_type": "stream",
          "name": "stdout",
          "text": [
            "lista: [4, 5, 3, 5]\n",
            "\n",
            "lista.append(2): [4, 5, 3, 5, 2]\n",
            "\n",
            "lista.insert(2, -3): [4, 5, -3, 3, 5, 2]\n",
            "\n",
            "lista.count(5): 2\n",
            "\n",
            "len(lista): 6\n",
            "\n",
            "lista.index(5): 1\n",
            "\n",
            "lista.reverse(): [2, 5, 3, -3, 5, 4]\n",
            "\n",
            "lista.sort(): [-3, 2, 3, 4, 5, 5]\n",
            "\n",
            "lista.remove(4): [-3, 2, 3, 5, 5]\n",
            "\n",
            "lista.pop(): [-3, 2, 3, 5]\n",
            "\n",
            "removido: 5\n",
            "\n",
            "del lista[1:3]: [-3, 5]\n",
            "\n",
            "lista.clear(): []\n"
          ]
        }
      ]
    },
    {
      "cell_type": "code",
      "source": [
        "# Lista Dentro da Lista\n",
        "compra = [10.2, 3.35, 16.3, ['Tomate', 'Cebola', 'Pimentão']]\n",
        "print(compra)\n",
        "print(f\"\\n{compra[3][0]}\")"
      ],
      "metadata": {
        "colab": {
          "base_uri": "https://localhost:8080/"
        },
        "id": "HBX0qAdlEbka",
        "outputId": "8ba9b52d-dcf2-41ce-ca82-f3598261a703"
      },
      "execution_count": 35,
      "outputs": [
        {
          "output_type": "stream",
          "name": "stdout",
          "text": [
            "[10.2, 3.35, 16.3, ['Tomate', 'Cebola', 'Pimentão']]\n",
            "\n",
            "Tomate\n"
          ]
        }
      ]
    },
    {
      "cell_type": "code",
      "source": [
        "# Exemplo\n",
        "print(f\"{compra[3][0]} custa R$ {compra[0]:.2f}\")\n",
        "print(f\"{compra[3][1]} custa R$ {compra[1]:.2f}\")\n",
        "print(f\"{compra[3][2]} custa R$ {compra[2]:.2f}\")\n",
        "print(f\"\\nValor Total: {compra[0] + compra[1] + compra[2]:.2f}\")"
      ],
      "metadata": {
        "colab": {
          "base_uri": "https://localhost:8080/"
        },
        "id": "b2Rld90sIqQr",
        "outputId": "b2c09232-45b3-490b-98e6-7118833aa676"
      },
      "execution_count": 43,
      "outputs": [
        {
          "output_type": "stream",
          "name": "stdout",
          "text": [
            "Tomate custa R$ 10.20\n",
            "Cebola custa R$ 3.35\n",
            "Pimentão custa R$ 16.30\n",
            "\n",
            "Valor Total: 29.85\n"
          ]
        }
      ]
    },
    {
      "cell_type": "code",
      "source": [
        "# Percorrer Lista com Índice\n",
        "roupas = ['Camiseta', 'Bermuda', 'Calça', 'Meia']\n",
        "\n",
        "for peca in roupas:\n",
        "    print(peca)\n",
        "\n",
        "print()\n",
        "for i, peca in enumerate(roupas):\n",
        "    print(i, peca)\n",
        "\n",
        "print()\n",
        "for i in range(len(roupas)):\n",
        "    print(i, roupas[i])"
      ],
      "metadata": {
        "colab": {
          "base_uri": "https://localhost:8080/"
        },
        "id": "ijvvCOJCJFcM",
        "outputId": "e824b705-7557-46d5-c03d-a11befa81360"
      },
      "execution_count": 48,
      "outputs": [
        {
          "output_type": "stream",
          "name": "stdout",
          "text": [
            "Camiseta\n",
            "Bermuda\n",
            "Calça\n",
            "Meia\n",
            "\n",
            "0 Camiseta\n",
            "1 Bermuda\n",
            "2 Calça\n",
            "3 Meia\n",
            "\n",
            "0 Camiseta\n",
            "1 Bermuda\n",
            "2 Calça\n",
            "3 Meia\n"
          ]
        }
      ]
    },
    {
      "cell_type": "code",
      "source": [
        "# Verificar se uma Lista Possui Itens\n",
        "letras = ['a', 'b', 'c', 'd', 'e', 'f']\n",
        "letra = input(\"Digite uma letra: \").lower()\n",
        "if letra in letras:\n",
        "    print(\"\\n\\033[32mEstá\")\n",
        "else:\n",
        "    print(\"\\n\\033[31mNão está\")\n",
        "\n",
        "if letra not in letras:\n",
        "    print(\"\\n\\033[31mNão está\")\n",
        "else:\n",
        "    print(\"\\n\\033[32mEstá\")"
      ],
      "metadata": {
        "id": "P4vqEvD-KTVU",
        "outputId": "ae526ea3-4918-4821-f5f0-571cea1b686b",
        "colab": {
          "base_uri": "https://localhost:8080/"
        }
      },
      "execution_count": 56,
      "outputs": [
        {
          "output_type": "stream",
          "name": "stdout",
          "text": [
            "Digite uma letra: a\n",
            "\n",
            "\u001b[32mEstá\n",
            "\n",
            "\u001b[32mEstá\n"
          ]
        }
      ]
    }
  ]
}