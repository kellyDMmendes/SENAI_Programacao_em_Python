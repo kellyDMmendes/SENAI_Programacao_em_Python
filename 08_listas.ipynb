{
  "nbformat": 4,
  "nbformat_minor": 0,
  "metadata": {
    "colab": {
      "provenance": [],
      "authorship_tag": "ABX9TyNW6FLDSRVipBJPGsdXTO0o",
      "include_colab_link": true
    },
    "kernelspec": {
      "name": "python3",
      "display_name": "Python 3"
    },
    "language_info": {
      "name": "python"
    }
  },
  "cells": [
    {
      "cell_type": "markdown",
      "metadata": {
        "id": "view-in-github",
        "colab_type": "text"
      },
      "source": [
        "<a href=\"https://colab.research.google.com/github/kellyDMmendes/senai_programacao_em_python/blob/main/08_listas.ipynb\" target=\"_parent\"><img src=\"https://colab.research.google.com/assets/colab-badge.svg\" alt=\"Open In Colab\"/></a>"
      ]
    },
    {
      "cell_type": "markdown",
      "source": [
        "# **Listas**"
      ],
      "metadata": {
        "id": "hWgq0dWM82nZ"
      }
    },
    {
      "cell_type": "code",
      "execution_count": null,
      "metadata": {
        "id": "_wYPrp3a8uK9"
      },
      "outputs": [],
      "source": [
        "# Criar Lista Vazia\n",
        "lista1 = []\n",
        "lista2 = list()\n",
        "\n",
        "print(f\"Lista 1: {type(lista1)}\")\n",
        "print(f\"Lista 2: {type(lista2)}\")"
      ]
    },
    {
      "cell_type": "code",
      "source": [
        "# Manipulação de Listas\n",
        "bancos = ['Banco do Brasil', 'Caixa', 'Santander']\n",
        "print(bancos)\n",
        "print(f\"\\n{bancos[2]}\")\n",
        "\n",
        "# Substituir Item da Lista\n",
        "bancos[1] = 'Itaú'\n",
        "print(f\"\\n{bancos}\")\n",
        "\n",
        "# Substituir Último Item da Lista\n",
        "bancos[-1] = 'C6'\n",
        "print(f\"\\n{bancos}\")\n",
        "\n",
        "# Agregar Itens à Lista\n",
        "bancos += ['Bradesco', 'Nubank']\n",
        "print(f\"\\n{bancos}\")\n",
        "\n",
        "# Agregar Itens à Lista\n",
        "bancos += ['Bradesco', 'Nubank']\n",
        "print(f\"\\n{bancos}\")"
      ],
      "metadata": {
        "id": "mYu0TSDy9y1A"
      },
      "execution_count": null,
      "outputs": []
    },
    {
      "cell_type": "code",
      "source": [
        "# Métodos para Listas\n",
        "lista = [4, 5, 3, 5]\n",
        "print(f\"lista: {lista}\")\n",
        "\n",
        "# Adicionar Itens à Lista\n",
        "lista.append(2)\n",
        "print(f\"\\nlista.append(2): {lista}\")\n",
        "\n",
        "# Adicionar Valor no Índice Específico\n",
        "lista.insert(2, -3)\n",
        "print(f\"\\nlista.insert(2, -3): {lista}\")\n",
        "\n",
        "# Contar Valores\n",
        "print(f\"\\nlista.count(5): {lista.count(5)}\")\n",
        "\n",
        "# Verificar Tamanho da Lista\n",
        "print(f\"\\nlen(lista): {len(lista)}\")\n",
        "\n",
        "# Obter Índice do Item\n",
        "print(f\"\\nlista.index(5): {lista.index(5)}\")\n",
        "\n",
        "# Inverter Ordem da Lista\n",
        "lista.reverse()\n",
        "print(f\"\\nlista.reverse(): {lista}\")\n",
        "\n",
        "# Ordenar Lista\n",
        "lista.sort()\n",
        "print(f\"\\nlista.sort(): {lista}\")\n",
        "\n",
        "# Remover Item Através do Valor\n",
        "lista.remove(4)\n",
        "print(f\"\\nlista.remove(4): {lista}\")\n",
        "\n",
        "# remover o Ùltimo Item da Lista\n",
        "removido = lista.pop()\n",
        "print(f\"\\nlista.pop(): {lista}\")\n",
        "print(f\"\\nremovido: {removido}\")\n",
        "\n",
        "# Remover Intervalo\n",
        "del lista[1:3]\n",
        "print(f\"\\ndel lista[1:3]: {lista}\")\n",
        "\n",
        "# Limpar a Lista\n",
        "lista.clear()\n",
        "print(f\"\\nlista.clear(): {lista}\")"
      ],
      "metadata": {
        "id": "hX3_0efVAGcB"
      },
      "execution_count": null,
      "outputs": []
    },
    {
      "cell_type": "code",
      "source": [
        "# Lista Dentro da Lista\n",
        "compra = [10.2, 3.35, 16.3, ['Tomate', 'Cebola', 'Pimentão']]\n",
        "print(compra)\n",
        "print(f\"\\n{compra[3][0]}\")"
      ],
      "metadata": {
        "id": "HBX0qAdlEbka"
      },
      "execution_count": null,
      "outputs": []
    },
    {
      "cell_type": "code",
      "source": [
        "# Exemplo\n",
        "print(f\"{compra[3][0]} custa R$ {compra[0]:.2f}\")\n",
        "print(f\"{compra[3][1]} custa R$ {compra[1]:.2f}\")\n",
        "print(f\"{compra[3][2]} custa R$ {compra[2]:.2f}\")\n",
        "print(f\"\\nValor Total: {compra[0] + compra[1] + compra[2]:.2f}\")"
      ],
      "metadata": {
        "id": "b2Rld90sIqQr"
      },
      "execution_count": null,
      "outputs": []
    },
    {
      "cell_type": "code",
      "source": [
        "# Percorrer Lista com Índice\n",
        "roupas = ['Camiseta', 'Bermuda', 'Calça', 'Meia']\n",
        "\n",
        "for peca in roupas:\n",
        "    print(peca)\n",
        "\n",
        "print()\n",
        "for i, peca in enumerate(roupas):\n",
        "    print(i, peca)\n",
        "\n",
        "print()\n",
        "for i in range(len(roupas)):\n",
        "    print(i, roupas[i])"
      ],
      "metadata": {
        "id": "ijvvCOJCJFcM"
      },
      "execution_count": null,
      "outputs": []
    },
    {
      "cell_type": "code",
      "source": [
        "# Verificar se uma Lista Possui Itens\n",
        "letras = ['a', 'b', 'c', 'd', 'e', 'f']\n",
        "letra = input(\"Digite uma letra: \").lower()\n",
        "if letra in letras:\n",
        "    print(\"\\n\\033[32mEstá\")\n",
        "else:\n",
        "    print(\"\\n\\033[31mNão está\")\n",
        "\n",
        "if letra not in letras:\n",
        "    print(\"\\n\\033[31mNão está\")\n",
        "else:\n",
        "    print(\"\\n\\033[32mEstá\")"
      ],
      "metadata": {
        "id": "P4vqEvD-KTVU"
      },
      "execution_count": null,
      "outputs": []
    },
    {
      "cell_type": "markdown",
      "source": [
        "# **Desafios**"
      ],
      "metadata": {
        "id": "y3nvghOHhj_S"
      }
    },
    {
      "cell_type": "code",
      "source": [
        "# DESAFIO 01\n",
        "\"\"\"\n",
        "Faça um programa que leia 5 valores numéricos e\n",
        "guarde-os em uma lista. No final, mostre qual foi\n",
        "o maior e o menor valor digitado e as suas respectivas posições na lista.\n",
        "\"\"\"\n",
        "lista = []\n",
        "for i in range(5):\n",
        "    lista.append(int(input(f\"{i+1}º número: \")))\n",
        "menor = min(lista)\n",
        "maior = max(lista)\n",
        "print(f\"\\nMenor: \\033[1m{menor}\\033[0m, posição \\033[1m{lista.index(menor)+1}\\033[0m\")\n",
        "print(f\"Maior: \\033[1m{maior}\\033[0m, posição \\033[1m{lista.index(maior)+1}\\033[0m\")"
      ],
      "metadata": {
        "id": "bhMYFkyuhp3i"
      },
      "execution_count": null,
      "outputs": []
    },
    {
      "cell_type": "code",
      "source": [
        "# DESAFIO 01\n",
        "# Professor v1\n",
        "lista = []\n",
        "for i in range(1, 6):\n",
        "    num = int(input(f\"Digite o {i}º número: \"))\n",
        "    lista.append(num)\n",
        "\n",
        "# Alternativa:\n",
        "# lista.sort()\n",
        "# lista[0] (menor)\n",
        "# lista[-1] (maior)\n",
        "\n",
        "print(f\"\\nMaior: {max(lista)} na posição: {lista.index(max(lista))+1}\")\n",
        "print(f\"Menor: {min(lista)} na posição: {lista.index(min(lista))+1}\")"
      ],
      "metadata": {
        "id": "6vbb52T1nlQD"
      },
      "execution_count": null,
      "outputs": []
    },
    {
      "cell_type": "code",
      "source": [
        "# DESAFIO 01 v2\n",
        "\n",
        "lista = list(int(input(f\"Digite o {i}º número: \")) for i in range(1, 6))\n",
        "\n",
        "print(f\"\\nMaior: {max(lista)} na posição: {lista.index(max(lista))+1}\")\n",
        "print(f\"Menor: {min(lista)} na posição: {lista.index(min(lista))+1}\")"
      ],
      "metadata": {
        "id": "SVPPoLvpoZ0L"
      },
      "execution_count": null,
      "outputs": []
    },
    {
      "cell_type": "code",
      "source": [
        "# DESAFIO 02\n",
        "\"\"\"\n",
        "Crie um programa onde o usuário possa digitar vários valores\n",
        "numéricos e cadastre-os em uma lista. Caso o número já exista\n",
        "lá dentro, ele não será adicionado. No final serão exibidos\n",
        "todos os valores únicos digitados, em ordem crescente.\n",
        "\"\"\"\n",
        "from random import choices\n",
        "from string import digits\n",
        "lista = []\n",
        "i = 1\n",
        "numero = input(f\"{i:>3}º número: \")\n",
        "while numero.isnumeric():\n",
        "    if int(numero) not in lista:\n",
        "        lista.append(int(numero))\n",
        "    i += 1\n",
        "    numero = input(f\"{i:>3}º número: \")\n",
        "lista.sort()\n",
        "print()\n",
        "for i, l in enumerate(lista):\n",
        "    print(f\"{l:>5}\", end='  ')\n",
        "    if (i+1) % 10 == 0:\n",
        "        print()"
      ],
      "metadata": {
        "id": "rCAGfCL5kyNa"
      },
      "execution_count": null,
      "outputs": []
    }
  ]
}