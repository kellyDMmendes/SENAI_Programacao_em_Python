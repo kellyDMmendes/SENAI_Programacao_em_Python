{
  "nbformat": 4,
  "nbformat_minor": 0,
  "metadata": {
    "colab": {
      "provenance": [],
      "toc_visible": true,
      "authorship_tag": "ABX9TyNx0OlUbUOBtXcDH6H8cZep",
      "include_colab_link": true
    },
    "kernelspec": {
      "name": "python3",
      "display_name": "Python 3"
    },
    "language_info": {
      "name": "python"
    }
  },
  "cells": [
    {
      "cell_type": "markdown",
      "metadata": {
        "id": "view-in-github",
        "colab_type": "text"
      },
      "source": [
        "<a href=\"https://colab.research.google.com/github/kellyDMmendes/senai_programacao_em_python/blob/main/08_listas.ipynb\" target=\"_parent\"><img src=\"https://colab.research.google.com/assets/colab-badge.svg\" alt=\"Open In Colab\"/></a>"
      ]
    },
    {
      "cell_type": "markdown",
      "source": [
        "# **Listas**"
      ],
      "metadata": {
        "id": "hWgq0dWM82nZ"
      }
    },
    {
      "cell_type": "code",
      "execution_count": 3,
      "metadata": {
        "id": "_wYPrp3a8uK9",
        "colab": {
          "base_uri": "https://localhost:8080/"
        },
        "outputId": "b7d10e91-68a0-4bfa-a1dc-40aa0fd5d6cb"
      },
      "outputs": [
        {
          "output_type": "stream",
          "name": "stdout",
          "text": [
            "Lista 1: <class 'list'>\n",
            "Lista 2: <class 'list'>\n"
          ]
        }
      ],
      "source": [
        "# Criar Lista Vazia\n",
        "lista1 = []\n",
        "lista2 = list()\n",
        "\n",
        "print(f\"Lista 1: {type(lista1)}\")\n",
        "print(f\"Lista 2: {type(lista2)}\")"
      ]
    },
    {
      "cell_type": "code",
      "source": [
        "# Manipulação de Listas\n",
        "bancos = ['Banco do Brasil', 'Caixa', 'Santander']\n",
        "print(bancos)\n",
        "print(f\"\\n{bancos[2]}\")\n",
        "\n",
        "# Substituir Item da Lista\n",
        "bancos[1] = 'Itaú'\n",
        "print(f\"\\n{bancos}\")\n",
        "\n",
        "# Substituir Último Item da Lista\n",
        "bancos[-1] = 'C6'\n",
        "print(f\"\\n{bancos}\")\n",
        "\n",
        "# Agregar Itens à Lista\n",
        "bancos += ['Bradesco', 'Nubank']\n",
        "print(f\"\\n{bancos}\")\n",
        "\n",
        "# Agregar Itens à Lista\n",
        "bancos += ['Bradesco', 'Nubank']\n",
        "print(f\"\\n{bancos}\")"
      ],
      "metadata": {
        "id": "mYu0TSDy9y1A",
        "outputId": "0d465d7d-5899-4a91-f478-2bad6c82934b",
        "colab": {
          "base_uri": "https://localhost:8080/"
        }
      },
      "execution_count": 11,
      "outputs": [
        {
          "output_type": "stream",
          "name": "stdout",
          "text": [
            "['Banco do Brasil', 'Caixa', 'Santander']\n",
            "\n",
            "Santander\n",
            "\n",
            "['Banco do Brasil', 'Itaú', 'Santander']\n",
            "\n",
            "['Banco do Brasil', 'Itaú', 'C6']\n",
            "\n",
            "['Banco do Brasil', 'Itaú', 'C6', 'Bradesco', 'Nubank']\n"
          ]
        }
      ]
    }
  ]
}