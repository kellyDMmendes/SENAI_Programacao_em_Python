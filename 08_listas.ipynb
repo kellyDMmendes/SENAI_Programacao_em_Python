{
  "nbformat": 4,
  "nbformat_minor": 0,
  "metadata": {
    "colab": {
      "provenance": [],
      "toc_visible": true,
      "authorship_tag": "ABX9TyNE/w9+11mpXYdIR+jbAHl8",
      "include_colab_link": true
    },
    "kernelspec": {
      "name": "python3",
      "display_name": "Python 3"
    },
    "language_info": {
      "name": "python"
    }
  },
  "cells": [
    {
      "cell_type": "markdown",
      "metadata": {
        "id": "view-in-github",
        "colab_type": "text"
      },
      "source": [
        "<a href=\"https://colab.research.google.com/github/kellyDMmendes/senai_programacao_em_python/blob/main/08_listas.ipynb\" target=\"_parent\"><img src=\"https://colab.research.google.com/assets/colab-badge.svg\" alt=\"Open In Colab\"/></a>"
      ]
    },
    {
      "cell_type": "markdown",
      "source": [
        "# **Listas**"
      ],
      "metadata": {
        "id": "hWgq0dWM82nZ"
      }
    },
    {
      "cell_type": "code",
      "execution_count": 3,
      "metadata": {
        "id": "_wYPrp3a8uK9",
        "colab": {
          "base_uri": "https://localhost:8080/"
        },
        "outputId": "b7d10e91-68a0-4bfa-a1dc-40aa0fd5d6cb"
      },
      "outputs": [
        {
          "output_type": "stream",
          "name": "stdout",
          "text": [
            "Lista 1: <class 'list'>\n",
            "Lista 2: <class 'list'>\n"
          ]
        }
      ],
      "source": [
        "# Criar Lista Vazia\n",
        "lista1 = []\n",
        "lista2 = list()\n",
        "\n",
        "print(f\"Lista 1: {type(lista1)}\")\n",
        "print(f\"Lista 2: {type(lista2)}\")"
      ]
    },
    {
      "cell_type": "code",
      "source": [
        "# Manipulação de Listas\n",
        "bancos = ['Banco do Brasil', 'Caixa', 'Santander']\n",
        "print(bancos)\n",
        "print(f\"\\n{bancos[2]}\")\n",
        "\n",
        "# Substituir Item da Lista\n",
        "bancos[1] = 'Itaú'\n",
        "print(f\"\\n{bancos}\")\n",
        "\n",
        "# Substituir Último Item da Lista\n",
        "bancos[-1] = 'C6'\n",
        "print(f\"\\n{bancos}\")\n",
        "\n",
        "# Agregar Itens à Lista\n",
        "bancos += ['Bradesco', 'Nubank']\n",
        "print(f\"\\n{bancos}\")\n",
        "\n",
        "# Agregar Itens à Lista\n",
        "bancos += ['Bradesco', 'Nubank']\n",
        "print(f\"\\n{bancos}\")"
      ],
      "metadata": {
        "colab": {
          "base_uri": "https://localhost:8080/"
        },
        "id": "mYu0TSDy9y1A",
        "outputId": "0d465d7d-5899-4a91-f478-2bad6c82934b"
      },
      "execution_count": 11,
      "outputs": [
        {
          "output_type": "stream",
          "name": "stdout",
          "text": [
            "['Banco do Brasil', 'Caixa', 'Santander']\n",
            "\n",
            "Santander\n",
            "\n",
            "['Banco do Brasil', 'Itaú', 'Santander']\n",
            "\n",
            "['Banco do Brasil', 'Itaú', 'C6']\n",
            "\n",
            "['Banco do Brasil', 'Itaú', 'C6', 'Bradesco', 'Nubank']\n"
          ]
        }
      ]
    },
    {
      "cell_type": "code",
      "source": [
        "# Métodos para Listas\n",
        "lista = [4, 5, 3, 5]\n",
        "print(f\"lista: {lista}\")\n",
        "\n",
        "# Adicionar Itens à Lista\n",
        "lista.append(2)\n",
        "print(f\"\\nlista.append(2): {lista}\")\n",
        "\n",
        "# Adicionar Valor no Índice Específico\n",
        "lista.insert(2, -3)\n",
        "print(f\"\\nlista.insert(2, -3): {lista}\")\n",
        "\n",
        "# Contar Valores\n",
        "print(f\"\\nlista.count(5): {lista.count(5)}\")\n",
        "\n",
        "# Obter Índice do Item\n",
        "print(f\"\\nlista.index(5): {lista.index(5)}\")\n",
        "\n",
        "# Inverter Ordem da Lista\n",
        "lista.reverse()\n",
        "print(f\"\\nlista.reverse(): {lista}\")\n",
        "\n",
        "# Ordenar Lista\n",
        "lista.sort()\n",
        "print(f\"\\nlista.sort(): {lista}\")\n",
        "\n",
        "# Remover Item Através do Valor\n",
        "lista.remove(4)\n",
        "print(f\"\\nlista.remove(4): {lista}\")\n",
        "\n",
        "# remover o Ùltimo Item da Lista\n",
        "removido = lista.pop()\n",
        "print(f\"\\nlista.pop(): {lista}\")\n",
        "print(f\"\\nremovido: {removido}\")\n",
        "\n",
        "# Remover Intervalo\n",
        "del lista[1:3]\n",
        "print(f\"\\ndel lista[1:3]: {lista}\")\n",
        "\n",
        "# Limpar a Lista\n",
        "lista.clear()\n",
        "print(f\"\\nlista.clear(): {lista}\")"
      ],
      "metadata": {
        "colab": {
          "base_uri": "https://localhost:8080/"
        },
        "id": "hX3_0efVAGcB",
        "outputId": "8e8476cb-7bd6-4ea6-d29e-9be283d33c46"
      },
      "execution_count": 28,
      "outputs": [
        {
          "output_type": "stream",
          "name": "stdout",
          "text": [
            "lista: [4, 5, 3, 5]\n",
            "\n",
            "lista.append(2): [4, 5, 3, 5, 2]\n",
            "\n",
            "lista.insert(2, -3): [4, 5, -3, 3, 5, 2]\n",
            "\n",
            "lista.count(5): 2\n",
            "\n",
            "lista.index(5): 1\n",
            "\n",
            "lista.reverse(): [2, 5, 3, -3, 5, 4]\n",
            "\n",
            "lista.sort(): [-3, 2, 3, 4, 5, 5]\n",
            "\n",
            "lista.remove(4): [-3, 2, 3, 5, 5]\n",
            "\n",
            "lista.pop(): [-3, 2, 3, 5]\n",
            "\n",
            "removido: 5\n",
            "\n",
            "del lista[1:3]: [-3, 5]\n",
            "\n",
            "lista.clear(): []\n"
          ]
        }
      ]
    },
    {
      "cell_type": "code",
      "source": [
        "# Lista Dentro da Lista\n",
        "compra = [10.2, 3.35, 16.3, ['Tomate', 'Cebola', 'Pimentão']]\n",
        "print(compra)\n",
        "print(f\"\\n{compra[3][0]}\")"
      ],
      "metadata": {
        "id": "HBX0qAdlEbka",
        "outputId": "8ba9b52d-dcf2-41ce-ca82-f3598261a703",
        "colab": {
          "base_uri": "https://localhost:8080/"
        }
      },
      "execution_count": 35,
      "outputs": [
        {
          "output_type": "stream",
          "name": "stdout",
          "text": [
            "[10.2, 3.35, 16.3, ['Tomate', 'Cebola', 'Pimentão']]\n",
            "\n",
            "Tomate\n"
          ]
        }
      ]
    }
  ]
}