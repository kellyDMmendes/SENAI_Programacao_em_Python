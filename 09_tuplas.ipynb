{
  "nbformat": 4,
  "nbformat_minor": 0,
  "metadata": {
    "colab": {
      "provenance": [],
      "toc_visible": true,
      "authorship_tag": "ABX9TyNOmuYBjwaKQrxpgEkjE+Wk",
      "include_colab_link": true
    },
    "kernelspec": {
      "name": "python3",
      "display_name": "Python 3"
    },
    "language_info": {
      "name": "python"
    }
  },
  "cells": [
    {
      "cell_type": "markdown",
      "metadata": {
        "id": "view-in-github",
        "colab_type": "text"
      },
      "source": [
        "<a href=\"https://colab.research.google.com/github/kellyDMmendes/senai_programacao_em_python/blob/main/09_tuplas.ipynb\" target=\"_parent\"><img src=\"https://colab.research.google.com/assets/colab-badge.svg\" alt=\"Open In Colab\"/></a>"
      ]
    },
    {
      "cell_type": "markdown",
      "source": [
        "# **Tuplas**"
      ],
      "metadata": {
        "id": "fpGyjzlRTCBX"
      }
    },
    {
      "cell_type": "code",
      "execution_count": null,
      "metadata": {
        "id": "SRXzoPcLS5FI"
      },
      "outputs": [],
      "source": [
        "# TUPLAS\n",
        "linguagens = ('Assembly', 'JAVA', 'Python', 'C#')\n",
        "print(linguagens)\n",
        "\n",
        "linguagens2 = 'Assembly', 'JAVA', 'Python', 'C#'\n",
        "print(linguagens2)\n",
        "\n",
        "print(type(linguagens2))\n",
        "\n",
        "# ACESSO AS TUPLAS\n",
        "lanches = ('Hamburguer', 'Pastel', 'Coxinha', 'Pizza')\n",
        "\n",
        "print(lanches[0])     # Primeiro item\n",
        "print(lanches[-1])    # Último item\n",
        "print(lanches[1:3])   # Dois itens\n",
        "print(lanches[1:])    # A partir do segundo\n",
        "print(lanches[:2])    # Até o segundo\n",
        "print(lanches[:])     # Todos\n",
        "\n",
        "# GERA ERRO (TUPLA É IMUTÁVEL)\n",
        "lanches = ('Hamburguer', 'Pastel', 'Coxinha', 'Pizza')\n",
        "lanches[0] = 'Hotdog'\n",
        "\n",
        "# PERCORRER UMA TUPLA\n",
        "lanches = ('Hamburguer', 'Pastel', 'Coxinha', 'Pizza')\n",
        "for lanche in lanches:\n",
        "    print(lanche)\n",
        "\n",
        "# PERCORRER UMA TUPLA POR ÍNDICE\n",
        "lanches = ('Hamburguer', 'Pastel', 'Coxinha', 'Pizza')\n",
        "for i in range(len(lanches)):\n",
        "    print(lanches[i])\n",
        "\n",
        "# PERCORRER UMA TUPLA POR ÍNDICE E ITEM\n",
        "lanches = ('Hamburguer', 'Pastel', 'Coxinha', 'Pizza')\n",
        "for posicao, lanche in enumerate(lanches):\n",
        "    print(f\"[{posicao+1}] {lanche}\")\n",
        "\n",
        "# CONVERTER LISTA EM TUPLA\n",
        "lista = list()\n",
        "lista = [1, 2, 3, 4, 5]\n",
        "print(lista)\n",
        "\n",
        "tupla = tuple(lista)\n",
        "print(tupla)\n",
        "\n",
        "# MÉTODO SORTED\n",
        "lanches = ('Hamburguer', 'Pastel', 'Coxinha', 'Pizza')\n",
        "\n",
        "ordenar = sorted(lanches)\n",
        "print(ordenar)\n",
        "print(type(ordenar))\n",
        "ordenar = tuple(ordenar)\n",
        "print(type(ordenar))\n",
        "\n",
        "# MÉTODO DEL\n",
        "lanches = ('Hamburguer', 'Pastel', 'Coxinha', 'Pizza')\n",
        "\n",
        "del(lanches)\n",
        "print(lanches) # Gera erro (a Tupla não existe mais)\n",
        "\n",
        "# CONCATENAR TUPLAS\n",
        "lanches = ('Hamburguer', 'Pastel', 'Coxinha', 'Pizza')\n",
        "doces = ('Pudim', 'Bolo', 'Sorvete')\n",
        "\n",
        "unificada = lanches+doces\n",
        "\n",
        "print(unificada)\n",
        "\n",
        "# CRIAR TUPLA COM FOR\n",
        "import random\n",
        "tupla = tuple(int(random.randint(1, 30)) for x in range(10))\n",
        "\n",
        "print(tupla)\n",
        "\n",
        "# CRIAR TUPLA COM FOR\n",
        "import random\n",
        "tupla = tuple(input(f\"Digite o {x+1}º item: \") for x in range(5))\n",
        "\n",
        "print(tupla)"
      ]
    },
    {
      "cell_type": "markdown",
      "source": [
        "# **Desafios**"
      ],
      "metadata": {
        "id": "K_aizCVGUmg_"
      }
    },
    {
      "cell_type": "code",
      "source": [
        "# DESAFIO 01\n",
        "\"\"\"\n",
        "Crie um programa que tenha uma tupla totalmente preenchida com\n",
        "uma contagem por extenso, de um até vinte.\n",
        "\n",
        "Seu programa deverá ler um número pelo teclado (entre 1 e 20) e\n",
        "mostra-lo por extenso.\n",
        "\"\"\"\n",
        "numerosExtenso = (\n",
        "    'Um',\n",
        "    'Dois',\n",
        "    'Três',\n",
        "    'Quatro',\n",
        "    'Cinco',\n",
        "    'Seis',\n",
        "    'Sete',\n",
        "    'Oito',\n",
        "    'Nove',\n",
        "    'Dez',\n",
        "    'Onze',\n",
        "    'Doze',\n",
        "    'Treze',\n",
        "    'Quatorze',\n",
        "    'Quinze',\n",
        "    'Dezesseis',\n",
        "    'Dezessete',\n",
        "    'Dezoito',\n",
        "    'Dezenove',\n",
        "    'Vinte')\n",
        "\n",
        "numero = int(input(\"Digite um número entre 1 e 20: \"))\n",
        "print(numerosExtenso[numero-1])"
      ],
      "metadata": {
        "id": "egDATG5STm43"
      },
      "execution_count": null,
      "outputs": []
    },
    {
      "cell_type": "code",
      "source": [
        "# DESAFIO 01 v2\n",
        "\n",
        "print(numerosExtenso[int(input(\"Digite um número entre 1 e 20: \"))-1])"
      ],
      "metadata": {
        "id": "IviUnikzTq-O"
      },
      "execution_count": null,
      "outputs": []
    },
    {
      "cell_type": "code",
      "source": [
        "# DESAFIO 02\n",
        "\"\"\"\n",
        "Crie um programa que gere cinco números aleatórios para uma tupla.\n",
        "Mostre a listagem de números gerados, indique o menor e o maior valor.\n",
        "\"\"\"\n",
        "import random\n",
        "tupla = tuple(int(random.randint(1, 50)) for x in range(5))\n",
        "print(f\"Tupla: {tupla}\")\n",
        "print(f\"Maior: {max(tupla)}\")\n",
        "print(f\"Menor: {min(tupla)}\")"
      ],
      "metadata": {
        "id": "S8KrmUeTTuhG"
      },
      "execution_count": null,
      "outputs": []
    },
    {
      "cell_type": "code",
      "source": [
        "# DESAFIO 02 v2\n",
        "\n",
        "import random\n",
        "lista = []\n",
        "for x in range(5):\n",
        "    lista.append(random.randint(1,20))\n",
        "tupla = tuple(lista)\n",
        "print(tupla)\n",
        "print(f\"Maior: {max(tupla)}\")\n",
        "print(f\"Menor: {min(tupla)}\")"
      ],
      "metadata": {
        "id": "oSMWRv7BTyAP"
      },
      "execution_count": null,
      "outputs": []
    },
    {
      "cell_type": "code",
      "source": [
        "# DESAFIO 03\n",
        "\"\"\"\n",
        "Desenvolva um programa que leia quatro números inteiros pelo teclado e guarde-os em uma tupla. No final, mostre:\n",
        "    A) Quantas vezes apareceu o valor 9.\n",
        "    B) Em que posição foi digitado o primeiro valor 3.\n",
        "    C) Quais foram os números pares.\n",
        "\"\"\"\n",
        "numeros = tuple(int(input(f\"Digite o {i}º número inteiro: \")) for i in range(1, 5))\n",
        "print(f\"\\nO número 9 aparece: {numeros.count(9)} vez(es)\")\n",
        "print(f\"O número 3 aparece na posição: {numeros.index(3)+1}\" if numeros.count(3) >0 else \"Não foi digitado 3\")\n",
        "print(\"Números pares:\", end=' ')\n",
        "for numero in numeros:\n",
        "    if numero%2 == 0:\n",
        "        print(numero, end=' ')"
      ],
      "metadata": {
        "id": "HtXzkzHwTyrX"
      },
      "execution_count": null,
      "outputs": []
    },
    {
      "cell_type": "code",
      "source": [
        "# DESAFIO 04\n",
        "\"\"\"\n",
        "Crie um programa que tenha uma tupla única com 4 produtos e seus respectivos preços em sequência.\n",
        "Mostre uma listagem com os nomes e preços, organizando os dados em forma tabular.\n",
        "\"\"\"\n",
        "\n",
        "produtos = ('Camiseta', 50, 'Calça', 79, 'Bermuda', 40, 'Blusa', 100)\n",
        "\n",
        "print('\\033[1;30;43m', end='')\n",
        "print(\"BAZAR SENAI\".center(30))\n",
        "print('\\033[0m')\n",
        "\n",
        "for i, item in enumerate(produtos):\n",
        "    if i%2 == 0:\n",
        "        print(item.ljust(15, '.'), end='')\n",
        "    else:\n",
        "        print(f\"R$ {item:,.2f}\".rjust(15, '.'))"
      ],
      "metadata": {
        "id": "5PfPe38HT0bf"
      },
      "execution_count": null,
      "outputs": []
    }
  ]
}