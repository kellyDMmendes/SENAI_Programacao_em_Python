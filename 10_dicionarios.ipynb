{
  "nbformat": 4,
  "nbformat_minor": 0,
  "metadata": {
    "colab": {
      "provenance": [],
      "toc_visible": true,
      "authorship_tag": "ABX9TyNlV5XPO5uJ6LCJ8B9B0Hyk",
      "include_colab_link": true
    },
    "kernelspec": {
      "name": "python3",
      "display_name": "Python 3"
    },
    "language_info": {
      "name": "python"
    }
  },
  "cells": [
    {
      "cell_type": "markdown",
      "metadata": {
        "id": "view-in-github",
        "colab_type": "text"
      },
      "source": [
        "<a href=\"https://colab.research.google.com/github/kellyDMmendes/senai_programacao_em_python/blob/main/10_dicionarios.ipynb\" target=\"_parent\"><img src=\"https://colab.research.google.com/assets/colab-badge.svg\" alt=\"Open In Colab\"/></a>"
      ]
    },
    {
      "cell_type": "markdown",
      "source": [
        "# **Dicionários**"
      ],
      "metadata": {
        "id": "p2x00kNjVE_Y"
      }
    },
    {
      "cell_type": "code",
      "execution_count": null,
      "metadata": {
        "id": "ekqVwpllT_nm"
      },
      "outputs": [],
      "source": [
        "# EXEMPLO 01\n",
        "print(\"EXEMPLO 01\")\n",
        "almoco = {'comida': 'Lanche', 'bebida': 'Água', 'sobremesa': 'Pudim'}\n",
        "print(almoco)\n",
        "print(type(almoco))\n",
        "\n",
        "# EXEMPLO 02\n",
        "print(\"\\nEXEMPLO 02\")\n",
        "almoco = {\n",
        "    'comida': 'Lanche',\n",
        "    'bebida': 'Água',\n",
        "    'sobremesa': 'Pudim'\n",
        "    }\n",
        "\n",
        "print(almoco.items())\n",
        "\n",
        "# EXEMPLO 03\n",
        "print(\"\\nEXEMPLO 03\")\n",
        "print(almoco.keys())\n",
        "\n",
        "# EXEMPLO 04\n",
        "print(\"\\nEXEMPLO 04\")\n",
        "print(almoco.values())\n",
        "\n",
        "# EXEMPLO 05\n",
        "print(\"\\nEXEMPLO 05\")\n",
        "print(almoco['sobremesa'])\n",
        "\n",
        "# EXEMPLO 06\n",
        "print(\"\\nEXEMPLO 06\")\n",
        "for chave, valor in almoco.items():\n",
        "    print(f\"{chave:12} | {valor:>12}\")\n",
        "\n",
        "# EXEMPLO 07 (Alterar valores no dicionário)\n",
        "print(\"\\nEXEMPLO 07\")\n",
        "almoco['bebida'] = 'Suco de laranja'\n",
        "\n",
        "for chave, valor in almoco.items():\n",
        "    print(f\"{chave:12} | {valor:>18}\")\n",
        "\n",
        "# EXEMPLO 08 (Remover itens do dicionário)\n",
        "print(\"\\nEXEMPLO 08\")\n",
        "del almoco['sobremesa']\n",
        "\n",
        "for chave, valor in almoco.items():\n",
        "    print(f\"{chave:12} | {valor:>18}\")\n",
        "\n",
        "# EXEMPLO 09\n",
        "print(\"\\nEXEMPLO 09\")\n",
        "estado = {}\n",
        "brasil = []\n",
        "\n",
        "for e in range(2):\n",
        "    estado['uf'] = input(\"Digite a UF: \")\n",
        "    estado['sigla'] = input(\"Digite a sigla: \")\n",
        "    brasil.append(estado.copy())\n",
        "\n",
        "print(brasil)\n",
        "\n",
        "# EXEMPLO 10\n",
        "print(\"\\nEXEMPLO 10\")\n",
        "for e in brasil:\n",
        "    for valor in e.values():\n",
        "        print(valor)"
      ]
    },
    {
      "cell_type": "markdown",
      "source": [
        "# **Desafios**"
      ],
      "metadata": {
        "id": "BtolCOHJVJP_"
      }
    },
    {
      "cell_type": "code",
      "source": [
        "# DESAFIO 01\n",
        "\"\"\"\n",
        "Dada a lista 'almoco', mostre a comida de Catarina.\n",
        "\"\"\"\n",
        "almoco = [\n",
        "    {\"nome\":\"Leandro\", \"comida\": \"Lanche\", \"bebida\": \"Suco de Laranja\"},\n",
        "    {\"nome\":\"Celia\", \"comida\": \"Lasanha\", \"bebida\": \"Suco de uva\"},\n",
        "    {\"nome\":\"Catarina\", \"comida\": \"Pizza\", \"bebida\": \"Coca-Cola\"}\n",
        "]\n",
        "print(f\"Almoço de Catarina: \\033[1m{almoco[2]['comida']}\\033[0m\")"
      ],
      "metadata": {
        "id": "TZAHuoQ2VB1f"
      },
      "execution_count": null,
      "outputs": []
    }
  ]
}