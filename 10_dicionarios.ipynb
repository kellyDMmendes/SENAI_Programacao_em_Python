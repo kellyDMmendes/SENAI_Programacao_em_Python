{
  "nbformat": 4,
  "nbformat_minor": 0,
  "metadata": {
    "colab": {
      "provenance": [],
      "authorship_tag": "ABX9TyNk9LaDb6Vxoy0aZ/MupJGE",
      "include_colab_link": true
    },
    "kernelspec": {
      "name": "python3",
      "display_name": "Python 3"
    },
    "language_info": {
      "name": "python"
    }
  },
  "cells": [
    {
      "cell_type": "markdown",
      "metadata": {
        "id": "view-in-github",
        "colab_type": "text"
      },
      "source": [
        "<a href=\"https://colab.research.google.com/github/kellyDMmendes/senai_programacao_em_python/blob/main/10_dicionarios.ipynb\" target=\"_parent\"><img src=\"https://colab.research.google.com/assets/colab-badge.svg\" alt=\"Open In Colab\"/></a>"
      ]
    },
    {
      "cell_type": "markdown",
      "source": [
        "# **Dicionários**"
      ],
      "metadata": {
        "id": "p2x00kNjVE_Y"
      }
    },
    {
      "cell_type": "code",
      "execution_count": null,
      "metadata": {
        "id": "ekqVwpllT_nm"
      },
      "outputs": [],
      "source": [
        "# EXEMPLO 01\n",
        "print(\"EXEMPLO 01\")\n",
        "almoco = {'comida': 'Lanche', 'bebida': 'Água', 'sobremesa': 'Pudim'}\n",
        "print(almoco)\n",
        "print(type(almoco))\n",
        "\n",
        "# EXEMPLO 02\n",
        "print(\"\\nEXEMPLO 02\")\n",
        "almoco = {\n",
        "    'comida': 'Lanche',\n",
        "    'bebida': 'Água',\n",
        "    'sobremesa': 'Pudim'\n",
        "    }\n",
        "\n",
        "print(almoco.items())\n",
        "\n",
        "# EXEMPLO 03\n",
        "print(\"\\nEXEMPLO 03\")\n",
        "print(almoco.keys())\n",
        "\n",
        "# EXEMPLO 04\n",
        "print(\"\\nEXEMPLO 04\")\n",
        "print(almoco.values())\n",
        "\n",
        "# EXEMPLO 05\n",
        "print(\"\\nEXEMPLO 05\")\n",
        "print(almoco['sobremesa'])\n",
        "\n",
        "# EXEMPLO 06\n",
        "print(\"\\nEXEMPLO 06\")\n",
        "for chave, valor in almoco.items():\n",
        "    print(f\"{chave:12} | {valor:>12}\")\n",
        "\n",
        "# EXEMPLO 07 (Alterar valores no dicionário)\n",
        "print(\"\\nEXEMPLO 07\")\n",
        "almoco['bebida'] = 'Suco de laranja'\n",
        "\n",
        "for chave, valor in almoco.items():\n",
        "    print(f\"{chave:12} | {valor:>18}\")\n",
        "\n",
        "# EXEMPLO 08 (Remover itens do dicionário)\n",
        "print(\"\\nEXEMPLO 08\")\n",
        "del almoco['sobremesa']\n",
        "\n",
        "for chave, valor in almoco.items():\n",
        "    print(f\"{chave:12} | {valor:>18}\")\n",
        "\n",
        "# EXEMPLO 09\n",
        "print(\"\\nEXEMPLO 09\")\n",
        "estado = {}\n",
        "brasil = []\n",
        "\n",
        "for e in range(2):\n",
        "    estado['uf'] = input(\"Digite a UF: \")\n",
        "    estado['sigla'] = input(\"Digite a sigla: \")\n",
        "    brasil.append(estado.copy())\n",
        "\n",
        "print(brasil)\n",
        "\n",
        "# EXEMPLO 10\n",
        "print(\"\\nEXEMPLO 10\")\n",
        "for e in brasil:\n",
        "    for valor in e.values():\n",
        "        print(valor)"
      ]
    },
    {
      "cell_type": "markdown",
      "source": [
        "# **Desafios**"
      ],
      "metadata": {
        "id": "BtolCOHJVJP_"
      }
    },
    {
      "cell_type": "code",
      "source": [
        "# DESAFIO 01\n",
        "\"\"\"\n",
        "Dada a lista 'almoco', mostre a comida de Catarina.\n",
        "\"\"\"\n",
        "almoco = [\n",
        "    {\"nome\":\"Leandro\", \"comida\": \"Lanche\", \"bebida\": \"Suco de Laranja\"},\n",
        "    {\"nome\":\"Celia\", \"comida\": \"Lasanha\", \"bebida\": \"Suco de uva\"},\n",
        "    {\"nome\":\"Catarina\", \"comida\": \"Pizza\", \"bebida\": \"Coca-Cola\"}\n",
        "]\n",
        "print(f\"Almoço de Catarina: \\033[1m{almoco[2]['comida']}\\033[0m\")"
      ],
      "metadata": {
        "id": "TZAHuoQ2VB1f"
      },
      "execution_count": null,
      "outputs": []
    },
    {
      "cell_type": "code",
      "source": [
        "# DESAFIO 01\n",
        "# Professor v1\n",
        "almoco = [\n",
        "    {\"nome\":\"Leandro\", \"comida\": \"Lanche\", \"bebida\": \"Suco de Laranja\"},\n",
        "    {\"nome\":\"Celia\", \"comida\": \"Lasanha\", \"bebida\": \"Suco de uva\"},\n",
        "    {\"nome\":\"Catarina\", \"comida\": \"Pizza\", \"bebida\": \"Coca-Cola\"}\n",
        "]\n",
        "print(almoco[2]['comida'])"
      ],
      "metadata": {
        "id": "kigAwmwlarnn"
      },
      "execution_count": null,
      "outputs": []
    },
    {
      "cell_type": "code",
      "source": [
        "# DESAFIO 02\n",
        "\"\"\"\n",
        "Com a lista do DESAFIO anterior, exiba uma lista com o nome da pessoa e o que ela come.\n",
        "\"\"\"\n",
        "almoco = [\n",
        "    {\"nome\":\"Leandro\", \"comida\": \"Lanche\", \"bebida\": \"Suco de Laranja\"},\n",
        "    {\"nome\":\"Celia\", \"comida\": \"Lasanha\", \"bebida\": \"Suco de uva\"},\n",
        "    {\"nome\":\"Catarina\", \"comida\": \"Pizza\", \"bebida\": \"Coca-Cola\"}\n",
        "]\n",
        "for pessoa in almoco:\n",
        "    texto = f\"{pessoa['nome']}:\"\n",
        "    print(f\"{texto.ljust(9)} \\033[1m{pessoa['comida']}\\033[0m\")"
      ],
      "metadata": {
        "colab": {
          "base_uri": "https://localhost:8080/"
        },
        "id": "eMJazbOzXgBf",
        "outputId": "c6837c5d-e5f3-413e-9ded-a49ed1a80dfc"
      },
      "execution_count": 23,
      "outputs": [
        {
          "output_type": "stream",
          "name": "stdout",
          "text": [
            "Leandro:  \u001b[1mLanche\u001b[0m\n",
            "Celia:    \u001b[1mLasanha\u001b[0m\n",
            "Catarina: \u001b[1mPizza\u001b[0m\n"
          ]
        }
      ]
    },
    {
      "cell_type": "code",
      "source": [
        "# DESAFIO 02\n",
        "# Professor v2\n",
        "almoco = [\n",
        "    {\"nome\":\"Leandro\", \"comida\": \"Lanche\", \"bebida\": \"Suco de Laranja\"},\n",
        "    {\"nome\":\"Celia\", \"comida\": \"Lasanha\", \"bebida\": \"Suco de uva\"},\n",
        "    {\"nome\":\"Catarina\", \"comida\": \"Pizza\", \"bebida\": \"Coca-Cola\"}\n",
        "]\n",
        "for x in almoco:\n",
        "    print(f\"* {x['nome']} come {x['comida']}\")\n",
        "\n",
        "# V2\n",
        "# for x in range(len(almoco)):\n",
        "#     print(almoco[x]['nome'],'come',almoco[x]['comida'])"
      ],
      "metadata": {
        "id": "DouxYkVRa4kI"
      },
      "execution_count": null,
      "outputs": []
    },
    {
      "cell_type": "code",
      "source": [
        "# DESAFIO 03\n",
        "\"\"\"\n",
        "Faça  um programa que leia o nome e média de um aluno, guardando também a situação em um dicionário.\n",
        "(Abaixo de 5: Reprovado | entre 5 e 6,9: Exame | 7: acima Aprovado)\n",
        "No final mostre o conteúdo da estrutura na tela.\n",
        "\"\"\"\n",
        "aluno = {}\n",
        "aluno['nome'] = input(\"Nome do aluno: \").title()\n",
        "aluno['media'] = float(input(\"Média: \"))\n",
        "if aluno['media'] < 5:\n",
        "    aluno['situacao'] = 'Reprovado'\n",
        "elif aluno['media'] < 7:\n",
        "    aluno['situacao'] = 'Exame'\n",
        "else:\n",
        "    aluno['situacao'] = 'Aprovado'\n",
        "print(f\"\\n{'Aluno:'.ljust(9)} \\033[1m{aluno['nome']}\\033[0m\")\n",
        "print(f\"{'Média:'.ljust(9)} \\033[1m{aluno['media']}\\033[0m\")\n",
        "print(f\"{'Situação:'.ljust(9)} \\033[1m{aluno['situacao']}\\033[0m\")"
      ],
      "metadata": {
        "colab": {
          "base_uri": "https://localhost:8080/"
        },
        "id": "E4oyBXQia_wg",
        "outputId": "01c37000-2af5-4516-e5f4-5f2cce6d8dfe"
      },
      "execution_count": 26,
      "outputs": [
        {
          "output_type": "stream",
          "name": "stdout",
          "text": [
            "Nome do aluno: kelly\n",
            "Média: 7\n",
            "\n",
            "Aluno:    \u001b[1mKelly\u001b[0m\n",
            "Média:    \u001b[1m7.0\u001b[0m\n",
            "Situação: \u001b[1mAprovado\u001b[0m\n"
          ]
        }
      ]
    },
    {
      "cell_type": "code",
      "source": [
        "# DESAFIO 03\n",
        "# Professor v1\n",
        "aluno = {}\n",
        "\n",
        "aluno['nome'] = input(\"Digite o nome do aluno: \")\n",
        "aluno['media'] = float(input(\"Digite a média do aluno: \"))\n",
        "if aluno['media'] <5:\n",
        "    aluno['situacao'] = 'Reprovado'\n",
        "elif aluno['media'] < 7:\n",
        "    aluno['situacao'] = 'Exame'\n",
        "else:\n",
        "    aluno['situacao'] = 'Aprovado'\n",
        "\n",
        "print(aluno)"
      ],
      "metadata": {
        "id": "dAPG0Kpyf-UD"
      },
      "execution_count": null,
      "outputs": []
    }
  ]
}