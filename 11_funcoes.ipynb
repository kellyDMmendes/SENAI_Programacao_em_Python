{
  "nbformat": 4,
  "nbformat_minor": 0,
  "metadata": {
    "colab": {
      "provenance": [],
      "toc_visible": true,
      "authorship_tag": "ABX9TyNwkzWjA5ebNYuyAG24htfK",
      "include_colab_link": true
    },
    "kernelspec": {
      "name": "python3",
      "display_name": "Python 3"
    },
    "language_info": {
      "name": "python"
    }
  },
  "cells": [
    {
      "cell_type": "markdown",
      "metadata": {
        "id": "view-in-github",
        "colab_type": "text"
      },
      "source": [
        "<a href=\"https://colab.research.google.com/github/kellyDMmendes/senai_programacao_em_python/blob/main/11_funcoes.ipynb\" target=\"_parent\"><img src=\"https://colab.research.google.com/assets/colab-badge.svg\" alt=\"Open In Colab\"/></a>"
      ]
    },
    {
      "cell_type": "markdown",
      "source": [
        "# **Funções**"
      ],
      "metadata": {
        "id": "b092VACGpcTN"
      }
    },
    {
      "cell_type": "code",
      "execution_count": null,
      "metadata": {
        "id": "3d1-ljF2pUOW",
        "colab": {
          "base_uri": "https://localhost:8080/"
        },
        "outputId": "bb388ba5-c9c5-4c3c-ff5c-57738389a975"
      },
      "outputs": [
        {
          "output_type": "stream",
          "name": "stdout",
          "text": [
            "10\n"
          ]
        }
      ],
      "source": [
        "# Escopo de Variáveis\n",
        "\n",
        "# Variável Local\n",
        "def funcao_local():\n",
        "    variavel_local = 10\n",
        "    print(variavel_local)\n",
        "\n",
        "funcao_local()\n",
        "# print(variavel_local) gera erro"
      ]
    },
    {
      "cell_type": "code",
      "source": [
        "# Escopo de Variáveis\n",
        "\n",
        "# Variável Global\n",
        "variavel_global = 10\n",
        "\n",
        "def funcao_global():\n",
        "    global variavel_global\n",
        "    variavel_global += 1\n",
        "    print(variavel_global)\n",
        "\n",
        "print(variavel_global)\n",
        "funcao_global()\n",
        "print(variavel_global)"
      ],
      "metadata": {
        "colab": {
          "base_uri": "https://localhost:8080/"
        },
        "id": "p6nT1BNXqhgS",
        "outputId": "aff171ff-050c-4599-9c4f-fa6669e72f3f"
      },
      "execution_count": null,
      "outputs": [
        {
          "output_type": "stream",
          "name": "stdout",
          "text": [
            "10\n",
            "11\n",
            "11\n"
          ]
        }
      ]
    },
    {
      "cell_type": "code",
      "source": [
        "# Função sem parâmetro\n",
        "def saudacao():\n",
        "    print(\"Olá, mundo!\")\n",
        "\n",
        "saudacao()"
      ],
      "metadata": {
        "colab": {
          "base_uri": "https://localhost:8080/"
        },
        "id": "WaJJBrYWsPS0",
        "outputId": "ab2a2c74-96d2-46de-bcea-a2a33c913d76"
      },
      "execution_count": 1,
      "outputs": [
        {
          "output_type": "stream",
          "name": "stdout",
          "text": [
            "Olá, mundo!\n"
          ]
        }
      ]
    },
    {
      "cell_type": "code",
      "source": [
        "# Função com Parâmetro (ou Argumento)\n",
        "def soma(x, y):\n",
        "    resultado = x + y\n",
        "    print(resultado)\n",
        "\n",
        "soma(2, 4)"
      ],
      "metadata": {
        "id": "zSaykXGLshxd",
        "outputId": "c88cee2d-2654-42a0-c4be-7417ecf4634f",
        "colab": {
          "base_uri": "https://localhost:8080/"
        }
      },
      "execution_count": 2,
      "outputs": [
        {
          "output_type": "stream",
          "name": "stdout",
          "text": [
            "6\n"
          ]
        }
      ]
    }
  ]
}