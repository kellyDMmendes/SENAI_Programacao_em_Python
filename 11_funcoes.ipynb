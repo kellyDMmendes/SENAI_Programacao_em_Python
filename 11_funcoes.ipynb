{
  "nbformat": 4,
  "nbformat_minor": 0,
  "metadata": {
    "colab": {
      "provenance": [],
      "toc_visible": true,
      "authorship_tag": "ABX9TyPIeLI6JraeipsBpy4W5PlW",
      "include_colab_link": true
    },
    "kernelspec": {
      "name": "python3",
      "display_name": "Python 3"
    },
    "language_info": {
      "name": "python"
    }
  },
  "cells": [
    {
      "cell_type": "markdown",
      "metadata": {
        "id": "view-in-github",
        "colab_type": "text"
      },
      "source": [
        "<a href=\"https://colab.research.google.com/github/kellyDMmendes/senai_programacao_em_python/blob/main/11_funcoes.ipynb\" target=\"_parent\"><img src=\"https://colab.research.google.com/assets/colab-badge.svg\" alt=\"Open In Colab\"/></a>"
      ]
    },
    {
      "cell_type": "markdown",
      "source": [
        "# **Funções**"
      ],
      "metadata": {
        "id": "b092VACGpcTN"
      }
    },
    {
      "cell_type": "code",
      "execution_count": 4,
      "metadata": {
        "id": "3d1-ljF2pUOW",
        "colab": {
          "base_uri": "https://localhost:8080/"
        },
        "outputId": "bb388ba5-c9c5-4c3c-ff5c-57738389a975"
      },
      "outputs": [
        {
          "output_type": "stream",
          "name": "stdout",
          "text": [
            "10\n"
          ]
        }
      ],
      "source": [
        "# Escopo de Variáveis\n",
        "\n",
        "# Variável Local\n",
        "def funcao_local():\n",
        "    variavel_local = 10\n",
        "    print(variavel_local)\n",
        "\n",
        "funcao_local()\n",
        "# print(variavel_local) gera erro"
      ]
    }
  ]
}