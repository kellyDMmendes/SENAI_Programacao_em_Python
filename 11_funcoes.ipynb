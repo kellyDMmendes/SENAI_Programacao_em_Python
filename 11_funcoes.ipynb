{
  "nbformat": 4,
  "nbformat_minor": 0,
  "metadata": {
    "colab": {
      "provenance": [],
      "toc_visible": true,
      "authorship_tag": "ABX9TyNvhl5P7hY5+8lMbVd8GRj8",
      "include_colab_link": true
    },
    "kernelspec": {
      "name": "python3",
      "display_name": "Python 3"
    },
    "language_info": {
      "name": "python"
    }
  },
  "cells": [
    {
      "cell_type": "markdown",
      "metadata": {
        "id": "view-in-github",
        "colab_type": "text"
      },
      "source": [
        "<a href=\"https://colab.research.google.com/github/kellyDMmendes/senai_programacao_em_python/blob/main/11_funcoes.ipynb\" target=\"_parent\"><img src=\"https://colab.research.google.com/assets/colab-badge.svg\" alt=\"Open In Colab\"/></a>"
      ]
    },
    {
      "cell_type": "markdown",
      "source": [
        "# **Funções**"
      ],
      "metadata": {
        "id": "b092VACGpcTN"
      }
    },
    {
      "cell_type": "code",
      "execution_count": null,
      "metadata": {
        "id": "3d1-ljF2pUOW",
        "colab": {
          "base_uri": "https://localhost:8080/"
        },
        "outputId": "bb388ba5-c9c5-4c3c-ff5c-57738389a975"
      },
      "outputs": [
        {
          "output_type": "stream",
          "name": "stdout",
          "text": [
            "10\n"
          ]
        }
      ],
      "source": [
        "# Escopo de Variáveis\n",
        "\n",
        "# Variável Local\n",
        "def funcao_local():\n",
        "    variavel_local = 10\n",
        "    print(variavel_local)\n",
        "\n",
        "funcao_local()\n",
        "# print(variavel_local) gera erro"
      ]
    },
    {
      "cell_type": "code",
      "source": [
        "# Escopo de Variáveis\n",
        "\n",
        "# Variável Global\n",
        "variavel_global = 10\n",
        "\n",
        "def funcao_global():\n",
        "    global variavel_global\n",
        "    variavel_global += 1\n",
        "    print(variavel_global)\n",
        "\n",
        "print(variavel_global)\n",
        "funcao_global()\n",
        "print(variavel_global)"
      ],
      "metadata": {
        "colab": {
          "base_uri": "https://localhost:8080/"
        },
        "id": "p6nT1BNXqhgS",
        "outputId": "aff171ff-050c-4599-9c4f-fa6669e72f3f"
      },
      "execution_count": null,
      "outputs": [
        {
          "output_type": "stream",
          "name": "stdout",
          "text": [
            "10\n",
            "11\n",
            "11\n"
          ]
        }
      ]
    },
    {
      "cell_type": "code",
      "source": [
        "# Função sem parâmetro\n",
        "def saudacao():\n",
        "    print(\"Olá, mundo!\")\n",
        "\n",
        "saudacao()"
      ],
      "metadata": {
        "colab": {
          "base_uri": "https://localhost:8080/"
        },
        "id": "WaJJBrYWsPS0",
        "outputId": "ab2a2c74-96d2-46de-bcea-a2a33c913d76"
      },
      "execution_count": 1,
      "outputs": [
        {
          "output_type": "stream",
          "name": "stdout",
          "text": [
            "Olá, mundo!\n"
          ]
        }
      ]
    },
    {
      "cell_type": "code",
      "source": [
        "# Função com Parâmetro (ou Argumento)\n",
        "def soma(x, y):\n",
        "    resultado = x + y\n",
        "    print(resultado)\n",
        "\n",
        "soma(2, 4)"
      ],
      "metadata": {
        "colab": {
          "base_uri": "https://localhost:8080/"
        },
        "id": "zSaykXGLshxd",
        "outputId": "c88cee2d-2654-42a0-c4be-7417ecf4634f"
      },
      "execution_count": 2,
      "outputs": [
        {
          "output_type": "stream",
          "name": "stdout",
          "text": [
            "6\n"
          ]
        }
      ]
    },
    {
      "cell_type": "code",
      "source": [
        "# Função com Parâmetro e Retorno\n",
        "def soma(x, y):\n",
        "    resultado = x + y\n",
        "    return resultado\n",
        "\n",
        "print(soma(2, 4) - soma(1, 1))"
      ],
      "metadata": {
        "colab": {
          "base_uri": "https://localhost:8080/"
        },
        "id": "ay_w4Dl9tB0e",
        "outputId": "62a33f84-2fe7-4063-c319-2e6de7a9727f"
      },
      "execution_count": 3,
      "outputs": [
        {
          "output_type": "stream",
          "name": "stdout",
          "text": [
            "4\n"
          ]
        }
      ]
    },
    {
      "cell_type": "code",
      "source": [
        "# Função com Valor Padrão\n",
        "def divisao(x=5, y=2):\n",
        "    resultado = x / y\n",
        "    return resultado\n",
        "\n",
        "print(divisao(10))"
      ],
      "metadata": {
        "colab": {
          "base_uri": "https://localhost:8080/"
        },
        "id": "ZPConq2mtne2",
        "outputId": "9c3db0ae-9cba-4d1c-dcb0-d77612bcb3fa"
      },
      "execution_count": 5,
      "outputs": [
        {
          "output_type": "stream",
          "name": "stdout",
          "text": [
            "5.0\n"
          ]
        }
      ]
    },
    {
      "cell_type": "code",
      "source": [
        "# Empacotamento de Dados\n",
        "def mult(*numeros):\n",
        "    print(type(numeros))\n",
        "    calculo = 1\n",
        "    for i in numeros:\n",
        "        calculo *= i\n",
        "    return calculo\n",
        "\n",
        "print(mult(2, 2, 2))"
      ],
      "metadata": {
        "id": "_cMYlJpquezN",
        "outputId": "d4f85ef2-ec86-4210-dde4-127084074066",
        "colab": {
          "base_uri": "https://localhost:8080/"
        }
      },
      "execution_count": 7,
      "outputs": [
        {
          "output_type": "stream",
          "name": "stdout",
          "text": [
            "<class 'tuple'>\n",
            "8\n"
          ]
        }
      ]
    }
  ]
}